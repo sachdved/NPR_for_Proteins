{
 "cells": [
  {
   "cell_type": "code",
   "execution_count": 1,
   "id": "f12bba58-ee1a-4465-b723-5235622f0ffb",
   "metadata": {},
   "outputs": [],
   "source": [
    "import torch\n",
    "import numpy as np\n",
    "import pandas as pd\n",
    "\n",
    "from NeuralProcessClasses_Proteins import *\n",
    "from architecture_classes import *\n",
    "from utils import *"
   ]
  },
  {
   "cell_type": "code",
   "execution_count": 2,
   "id": "d3db1fcd-7707-4b05-bdf1-d980908f3f41",
   "metadata": {},
   "outputs": [],
   "source": [
    "msa = pd.read_csv('SH3_Full_Dataset_8_9_22.csv')\n",
    "msa['Type'].unique()\n",
    "naturals_msa = msa[msa['Type']=='Naturals']\n",
    "seqs = np.asarray([list(seq) for seq in naturals_msa['Sequences']])\n",
    "norm_re = np.asarray([re for re in naturals_msa['Norm_RE']])\n",
    "\n",
    "default_aa_keys='-GALMFWKQESPVICYHRNDT'\n",
    "def fasta_to_df(fasta_file, aa_keys = default_aa_keys):\n",
    "    \"\"\"\n",
    "    creates one hot encoding of a fasta file using biopython's alignio.read process. \n",
    "    fasta_file : filepath leading to msa file in fasta format at hand\n",
    "    \"\"\"\n",
    "    column_names = []\n",
    "    column_names.extend(aa_keys)\n",
    "    msa=AlignIO.read(fasta_file, \"fasta\")\n",
    "    num_columns = len(msa[0].seq)\n",
    "    column_names = column_names*num_columns\n",
    "    column_names.append('sequence')\n",
    "    column_names.append('id')\n",
    "    init = np.zeros((len(msa), len(column_names)))\n",
    "    df = pd.DataFrame(init, columns = column_names)\n",
    "    df.sequence = df.sequence.astype(str)\n",
    "    df.id=df.id.astype(str)\n",
    "    \n",
    "    for row_num, alignment in tqdm(enumerate(msa)):\n",
    "        sequence = str(alignment.seq)\n",
    "        for index, char in enumerate(sequence):\n",
    "            place = aa_keys.find(char)\n",
    "            df.iloc[row_num, index*len(aa_keys) + place] = 1\n",
    "        \n",
    "        df.iloc[row_num,-2]=str(alignment.seq)\n",
    "        df.iloc[row_num,-1]=str(alignment.id)\n",
    "    \n",
    "    return df"
   ]
  },
  {
   "cell_type": "code",
   "execution_count": 3,
   "id": "0b21f2cf-79ef-4424-b94c-d9924b2e04d6",
   "metadata": {},
   "outputs": [],
   "source": [
    "def create_frequency_matrix(df, aa_keys = default_aa_keys):\n",
    "    \"\"\"takes one hot encoded msa and returns the frequency of each amino acid at each site\n",
    "    df : pandas dataframe whose columns are the one hot encoding of an msa\n",
    "    \"\"\"\n",
    "    num_columns=len(df['sequence'][0])\n",
    "    \n",
    "    frequency_matrix = np.zeros( (len(aa_keys) , num_columns) )\n",
    "    print('calcing sum')\n",
    "    freq=df.sum()\n",
    "    print('sum calced')\n",
    "    \n",
    "    num_entries=len(df)\n",
    "    len_aa_keys = len(aa_keys)\n",
    "    \n",
    "    for i in tqdm(range(len(aa_keys))):\n",
    "        for j in range(num_columns):\n",
    "            frequency_matrix[i, j] = freq[ i + len_aa_keys * j] / num_entries\n",
    "    \n",
    "    return frequency_matrix"
   ]
  },
  {
   "cell_type": "code",
   "execution_count": 4,
   "id": "e50738df-3847-4dce-b69a-f086ef092ebc",
   "metadata": {},
   "outputs": [
    {
     "name": "stderr",
     "output_type": "stream",
     "text": [
      "11608it [01:01, 187.79it/s]\n"
     ]
    },
    {
     "name": "stdout",
     "output_type": "stream",
     "text": [
      "calcing sum\n",
      "sum calced\n"
     ]
    },
    {
     "name": "stderr",
     "output_type": "stream",
     "text": [
      "100%|████████████████████████████████████████| 21/21 [00:00<00:00, 23252.48it/s]\n"
     ]
    },
    {
     "name": "stdout",
     "output_type": "stream",
     "text": [
      "[16, 17, 44]\n"
     ]
    }
   ],
   "source": [
    "from Bio import AlignIO\n",
    "from Bio.Seq import Seq\n",
    "from Bio.SeqRecord import SeqRecord\n",
    "from tqdm import tqdm\n",
    "vae_alignment = []\n",
    "phenotypes = []\n",
    "\n",
    "vae_data = msa[msa['Type']=='VAE'].reset_index()\n",
    "\n",
    "for r in range(len(vae_data)):\n",
    "    alignment = vae_data.loc[r]\n",
    "    if len(alignment['Sequences'])==62:\n",
    "        record = SeqRecord(seq = Seq(alignment['Sequences']), id = alignment['Header'])\n",
    "    \n",
    "    vae_alignment.append(record)\n",
    "    phenotypes.append(alignment['Norm_RE'])\n",
    "\n",
    "vae_alignment = AlignIO.MultipleSeqAlignment(vae_alignment)\n",
    "\n",
    "AlignIO.write(vae_alignment, 'vae_alignment.fasta', 'fasta')\n",
    "\n",
    "vae_df = fasta_to_df('vae_alignment.fasta')\n",
    "\n",
    "freq_matrix = create_frequency_matrix(vae_df)\n",
    "\n",
    "trim_positions = []\n",
    "\n",
    "for i in range(freq_matrix.shape[1]):\n",
    "    if 1 in freq_matrix[:,i]:\n",
    "        trim_positions.append(i)\n",
    "\n",
    "print(trim_positions)\n",
    "\n",
    "\n",
    "vae_alignment_trimmed = []\n",
    "\n",
    "\n",
    "for alignment in vae_alignment:\n",
    "    new_seq = ''\n",
    "    for i in range(62):\n",
    "        if i not in trim_positions:\n",
    "            new_seq+=alignment.seq[i]\n",
    "    re_alignment = SeqRecord(seq=Seq(new_seq), id = alignment.id)\n",
    "    vae_alignment_trimmed.append(re_alignment)\n",
    "\n",
    "vae_alignment_trimmed = AlignIO.MultipleSeqAlignment(vae_alignment_trimmed)\n",
    "\n",
    "AlignIO.write(vae_alignment_trimmed, 'vae_alignment_trimmed.fasta', 'fasta')\n",
    "\n",
    "test_seqs = np.asarray([list(str(alignment.seq)) for alignment in vae_alignment_trimmed])\n",
    "\n",
    "phenotypes = np.asarray(phenotypes)"
   ]
  },
  {
   "cell_type": "code",
   "execution_count": 5,
   "id": "c412150d-be7e-438d-a386-16c815e2e4f8",
   "metadata": {},
   "outputs": [],
   "source": [
    "class AddNorm(torch.nn.Module):\n",
    "    def __init__(\n",
    "        self,\n",
    "        normalized_shape,\n",
    "        **kwargs\n",
    "    ):\n",
    "        super().__init__(**kwargs)\n",
    "        self.layer_norm = torch.nn.LayerNorm(normalized_shape)\n",
    "    def forward(\n",
    "        self,\n",
    "        x,\n",
    "        sub_layer_x\n",
    "    ):\n",
    "        add = x + sub_layer_x\n",
    "        return self.layer_norm(add)"
   ]
  },
  {
   "cell_type": "code",
   "execution_count": 6,
   "id": "e518096f-e882-4361-a68b-38141628b0f9",
   "metadata": {},
   "outputs": [],
   "source": [
    "class AttentiveNeuralProcess_Deterministic(torch.nn.Module):\n",
    "    def __init__(\n",
    "        self,\n",
    "        x_dim, \n",
    "        y_dim,\n",
    "        projected_dim,\n",
    "        d_hidden, \n",
    "        d_model,\n",
    "        heads,\n",
    "        **kwargs\n",
    "    ):\n",
    "        super().__init__(**kwargs)\n",
    "        self.linear_1 = torch.nn.Linear(x_dim + y_dim, projected_dim)\n",
    "        self.activation = torch.nn.SELU()\n",
    "\n",
    "        self.self_mha_1 = MultiHeadedAttention(heads, projected_dim, projected_dim, projected_dim, d_hidden, projected_dim)\n",
    "        self.addnorm_1 = AddNorm(normalized_shape= projected_dim)\n",
    "        self.dropout_1 = torch.nn.Dropout(0.1)\n",
    "\n",
    "        self.self_mha_2 = MultiHeadedAttention(heads, projected_dim, projected_dim, projected_dim, d_hidden, projected_dim)\n",
    "        self.addnorm_2 = AddNorm(normalized_shape=projected_dim)\n",
    "        self.dropout_2 = torch.nn.Dropout(0.1)\n",
    "\n",
    "        self.context_projection = torch.nn.Linear(x_dim, projected_dim)\n",
    "        self.target_projection = torch.nn.Linear(x_dim, projected_dim)\n",
    "        \n",
    "        self.cross_mha = MultiHeadedAttention(heads, projected_dim, projected_dim, projected_dim, d_hidden, projected_dim)\n",
    "\n",
    "        self.linear_2 = torch.nn.Linear(projected_dim + x_dim, projected_dim)\n",
    "        self.linear_3 = torch.nn.Linear(projected_dim + x_dim, projected_dim)\n",
    "        self.linear_4 = torch.nn.Linear(projected_dim + x_dim, projected_dim)\n",
    "        self.linear_5 = torch.nn.Linear(projected_dim + x_dim, y_dim)\n",
    "\n",
    "    def cross_entropy(self, x, y):\n",
    "        return torch.sum(-y * torch.log(x + 1e-6) - (1.-y)*torch.log(1. - x + 1e-6))\n",
    "\n",
    "    def forward(self, context_x, context_y, target_x, target_y = None):\n",
    "        context = torch.concat([context_x, context_y], dim=-1)\n",
    "        x_1 = self.activation(self.linear_1(context))\n",
    "\n",
    "        x_2, _ = self.self_mha_1(x_1, x_1, x_1)\n",
    "        x_2    = self.addnorm_1(x_2, x_1)\n",
    "        x_2    = self.dropout_1(x_2)\n",
    "\n",
    "        x_3, _ = self.self_mha_2(x_2, x_2, x_2)\n",
    "        x_3    = self.addnorm_2(x_3, x_2)\n",
    "        x_3    = self.dropout_2(x_2)\n",
    "\n",
    "        projected_context = self.context_projection(context_x)\n",
    "        projected_target  = self.target_projection(target_x)\n",
    "        \n",
    "        cross_attended,_ = self.cross_mha(projected_target, projected_context, x_3)\n",
    "        \n",
    "        yhat = torch.concat([cross_attended, x_target], dim=-1)\n",
    "        yhat = self.activation(self.linear_2(yhat))\n",
    "        \n",
    "        yhat = torch.concat([yhat, x_target], dim=-1)\n",
    "        yhat = self.activation(self.linear_3(yhat))\n",
    "        \n",
    "        yhat = torch.concat([yhat, x_target], dim=-1)\n",
    "        yhat = self.activation(self.linear_4(yhat))\n",
    "\n",
    "        yhat = torch.concat([yhat, x_target], dim=-1)\n",
    "        yhat = self.linear_5(yhat)\n",
    "        \n",
    "        yhat = torch.nn.Softmax(dim=-1)(yhat)\n",
    "\n",
    "        if target_y is not None:\n",
    "            cross_entropy = self.cross_entropy(yhat, target_y)\n",
    "            return yhat, cross_entropy\n",
    "        else:\n",
    "            return yhat, 0\n",
    "                                     \n",
    "\n",
    "        \n"
   ]
  },
  {
   "cell_type": "code",
   "execution_count": 7,
   "id": "fce7f86a-c0f8-480c-babc-fdddab86ef5c",
   "metadata": {},
   "outputs": [],
   "source": [
    "ANP_det = AttentiveNeuralProcess_Deterministic(\n",
    "    1, 21, 128, 128, 128, 8\n",
    ")"
   ]
  },
  {
   "cell_type": "code",
   "execution_count": 8,
   "id": "5ad5e1d8-3073-4980-8db0-4095b18d0939",
   "metadata": {},
   "outputs": [
    {
     "data": {
      "text/plain": [
       "AttentiveNeuralProcess_Deterministic(\n",
       "  (linear_1): Linear(in_features=22, out_features=128, bias=True)\n",
       "  (activation): SELU()\n",
       "  (self_mha_1): MultiHeadedAttention(\n",
       "    (attention): DotProductAttention()\n",
       "    (W_q): Linear(in_features=128, out_features=1024, bias=True)\n",
       "    (W_k): Linear(in_features=128, out_features=1024, bias=True)\n",
       "    (W_v): Linear(in_features=128, out_features=1024, bias=True)\n",
       "    (W_o): Linear(in_features=1024, out_features=128, bias=True)\n",
       "  )\n",
       "  (addnorm_1): AddNorm(\n",
       "    (layer_norm): LayerNorm((128,), eps=1e-05, elementwise_affine=True)\n",
       "  )\n",
       "  (dropout_1): Dropout(p=0.1, inplace=False)\n",
       "  (self_mha_2): MultiHeadedAttention(\n",
       "    (attention): DotProductAttention()\n",
       "    (W_q): Linear(in_features=128, out_features=1024, bias=True)\n",
       "    (W_k): Linear(in_features=128, out_features=1024, bias=True)\n",
       "    (W_v): Linear(in_features=128, out_features=1024, bias=True)\n",
       "    (W_o): Linear(in_features=1024, out_features=128, bias=True)\n",
       "  )\n",
       "  (addnorm_2): AddNorm(\n",
       "    (layer_norm): LayerNorm((128,), eps=1e-05, elementwise_affine=True)\n",
       "  )\n",
       "  (dropout_2): Dropout(p=0.1, inplace=False)\n",
       "  (context_projection): Linear(in_features=1, out_features=128, bias=True)\n",
       "  (target_projection): Linear(in_features=1, out_features=128, bias=True)\n",
       "  (cross_mha): MultiHeadedAttention(\n",
       "    (attention): DotProductAttention()\n",
       "    (W_q): Linear(in_features=128, out_features=1024, bias=True)\n",
       "    (W_k): Linear(in_features=128, out_features=1024, bias=True)\n",
       "    (W_v): Linear(in_features=128, out_features=1024, bias=True)\n",
       "    (W_o): Linear(in_features=1024, out_features=128, bias=True)\n",
       "  )\n",
       "  (linear_2): Linear(in_features=129, out_features=128, bias=True)\n",
       "  (linear_3): Linear(in_features=129, out_features=128, bias=True)\n",
       "  (linear_4): Linear(in_features=129, out_features=128, bias=True)\n",
       "  (linear_5): Linear(in_features=129, out_features=21, bias=True)\n",
       ")"
      ]
     },
     "execution_count": 8,
     "metadata": {},
     "output_type": "execute_result"
    }
   ],
   "source": [
    "ANP_det"
   ]
  },
  {
   "cell_type": "code",
   "execution_count": 9,
   "id": "fe663393-e00f-4b74-961a-7f6ee0e76c98",
   "metadata": {},
   "outputs": [],
   "source": [
    "proteins = ProteinDataset(data=seqs)\n",
    "min_context = int(0.1 * seqs.shape[1])\n",
    "max_context = int(0.9 * seqs.shape[1])\n",
    "len_aa = seqs.shape[1]\n",
    "loader = torch.utils.data.DataLoader(proteins, batch_size=32, shuffle=True)\n",
    "\n",
    "for batch in loader:\n",
    "    break\n",
    "(((x_context, y_context), x_target), y_target) = context_target_splitter(batch, min_context, max_context, len_aa, 1, 21)\n"
   ]
  },
  {
   "cell_type": "code",
   "execution_count": 10,
   "id": "f64963f5-03f5-414b-a235-5a630709af01",
   "metadata": {},
   "outputs": [
    {
     "data": {
      "text/plain": [
       "(tensor([[[3.5835e-04, 2.6647e-04, 7.5835e-03,  ..., 2.0244e-03,\n",
       "           7.0126e-03, 2.3090e-02],\n",
       "          [1.7431e-04, 1.2880e-04, 5.1384e-03,  ..., 1.1936e-03,\n",
       "           4.8473e-03, 1.8830e-02],\n",
       "          [1.3055e-04, 9.6441e-05, 4.3880e-03,  ..., 9.6454e-04,\n",
       "           4.1777e-03, 1.7291e-02],\n",
       "          ...,\n",
       "          [1.1295e-04, 8.3479e-05, 4.0532e-03,  ..., 8.6688e-04,\n",
       "           3.8779e-03, 1.6559e-02],\n",
       "          [3.4965e-03, 2.7442e-03, 2.5257e-02,  ..., 1.0212e-02,\n",
       "           2.0575e-02, 4.0891e-02],\n",
       "          [1.6201e-02, 1.4010e-02, 5.0745e-02,  ..., 2.6948e-02,\n",
       "           3.5486e-02, 5.1035e-02]],\n",
       " \n",
       "         [[3.4747e-03, 2.7337e-03, 2.5280e-02,  ..., 1.0340e-02,\n",
       "           2.0554e-02, 4.2116e-02],\n",
       "          [7.9860e-03, 6.5923e-03, 3.7769e-02,  ..., 1.7812e-02,\n",
       "           2.8404e-02, 4.8797e-02],\n",
       "          [1.4951e-03, 1.1429e-03, 1.6387e-02,  ..., 5.7728e-03,\n",
       "           1.4131e-02, 3.4720e-02],\n",
       "          ...,\n",
       "          [9.7647e-04, 7.3865e-04, 1.3092e-02,  ..., 4.2648e-03,\n",
       "           1.1562e-02, 3.1114e-02],\n",
       "          [2.6293e-03, 2.0426e-03, 2.1927e-02,  ..., 8.5520e-03,\n",
       "           1.8238e-02, 3.9717e-02],\n",
       "          [7.3345e-05, 5.4180e-05, 3.2278e-03,  ..., 6.4334e-04,\n",
       "           3.1076e-03, 1.4818e-02]],\n",
       " \n",
       "         [[7.9754e-03, 6.5410e-03, 3.8417e-02,  ..., 1.8171e-02,\n",
       "           2.8889e-02, 4.8519e-02],\n",
       "          [3.4609e-03, 2.6847e-03, 2.5499e-02,  ..., 1.0492e-02,\n",
       "           2.0783e-02, 4.2022e-02],\n",
       "          [3.5104e-05, 2.6017e-05, 2.1648e-03,  ..., 3.7606e-04,\n",
       "           2.1522e-03, 1.1818e-02],\n",
       "          ...,\n",
       "          [8.4113e-04, 6.2491e-04, 1.2251e-02,  ..., 3.8626e-03,\n",
       "           1.0839e-02, 2.9859e-02],\n",
       "          [3.9772e-03, 3.1094e-03, 2.7365e-02,  ..., 1.1531e-02,\n",
       "           2.2038e-02, 4.3210e-02],\n",
       "          [6.9413e-03, 5.6355e-03, 3.6022e-02,  ..., 1.6647e-02,\n",
       "           2.7432e-02, 4.7544e-02]],\n",
       " \n",
       "         ...,\n",
       " \n",
       "         [[4.0823e-03, 3.1079e-03, 2.7464e-02,  ..., 1.1414e-02,\n",
       "           2.1847e-02, 4.3789e-02],\n",
       "          [4.2382e-04, 3.0489e-04, 8.3770e-03,  ..., 2.3004e-03,\n",
       "           7.6113e-03, 2.5141e-02],\n",
       "          [3.1030e-05, 2.2983e-05, 2.0096e-03,  ..., 3.4118e-04,\n",
       "           2.0159e-03, 1.1505e-02],\n",
       "          ...,\n",
       "          [1.5498e-04, 1.1072e-04, 4.8457e-03,  ..., 1.1014e-03,\n",
       "           4.5609e-03, 1.8827e-02],\n",
       "          [1.9915e-05, 1.5014e-05, 1.5813e-03,  ..., 2.4777e-04,\n",
       "           1.6137e-03, 1.0025e-02],\n",
       "          [2.3893e-04, 1.7068e-04, 6.1388e-03,  ..., 1.5125e-03,\n",
       "           5.6880e-03, 2.1380e-02]],\n",
       " \n",
       "         [[2.6189e-03, 2.0097e-03, 2.1521e-02,  ..., 8.7103e-03,\n",
       "           1.8167e-02, 3.8890e-02],\n",
       "          [6.3701e-05, 4.6881e-05, 2.8970e-03,  ..., 5.8807e-04,\n",
       "           2.8627e-03, 1.4203e-02],\n",
       "          [1.9770e-03, 1.5045e-03, 1.8602e-02,  ..., 7.1550e-03,\n",
       "           1.5962e-02, 3.6483e-02],\n",
       "          ...,\n",
       "          [1.3630e-02, 1.1779e-02, 4.7032e-02,  ..., 2.5871e-02,\n",
       "           3.5250e-02, 5.0827e-02],\n",
       "          [5.2450e-03, 4.1740e-03, 3.0576e-02,  ..., 1.4013e-02,\n",
       "           2.4623e-02, 4.4765e-02],\n",
       "          [7.3357e-04, 5.4758e-04, 1.0983e-02,  ..., 3.5261e-03,\n",
       "           9.9494e-03, 2.8478e-02]],\n",
       " \n",
       "         [[7.3646e-05, 5.3864e-05, 3.2118e-03,  ..., 6.3229e-04,\n",
       "           3.1533e-03, 1.4909e-02],\n",
       "          [2.6355e-05, 1.9835e-05, 1.8339e-03,  ..., 2.9983e-04,\n",
       "           1.8757e-03, 1.0864e-02],\n",
       "          [6.1184e-03, 4.8921e-03, 3.3682e-02,  ..., 1.4936e-02,\n",
       "           2.5963e-02, 4.5998e-02],\n",
       "          ...,\n",
       "          [8.5181e-05, 6.2176e-05, 3.4816e-03,  ..., 7.0364e-04,\n",
       "           3.3970e-03, 1.5594e-02],\n",
       "          [1.5019e-03, 1.1316e-03, 1.6462e-02,  ..., 5.7058e-03,\n",
       "           1.4239e-02, 3.4714e-02],\n",
       "          [2.6457e-03, 2.0246e-03, 2.2088e-02,  ..., 8.4852e-03,\n",
       "           1.8387e-02, 3.9535e-02]]], grad_fn=<SoftmaxBackward0>),\n",
       " tensor(10221.3477, grad_fn=<SumBackward0>))"
      ]
     },
     "execution_count": 10,
     "metadata": {},
     "output_type": "execute_result"
    }
   ],
   "source": [
    "ANP_det(x_context, y_context, x_target, y_target)"
   ]
  },
  {
   "cell_type": "code",
   "execution_count": 11,
   "id": "725298f2-5844-45a0-84f5-0a0a5d9e3278",
   "metadata": {},
   "outputs": [],
   "source": [
    "def adjust_learning_rate(optimizer, step_num, warmup_step=4000):\n",
    "    lr = 0.001 * warmup_step**0.5 * min(step_num * warmup_step**-1.5, step_num**-0.5)\n",
    "    for param_group in optimizer.param_groups:\n",
    "        param_group['lr'] = lr"
   ]
  },
  {
   "cell_type": "code",
   "execution_count": 12,
   "id": "95ece645-791d-4f8c-9867-549010b2e569",
   "metadata": {},
   "outputs": [
    {
     "name": "stdout",
     "output_type": "stream",
     "text": [
      "validation loss at epoch 0 is 3.8505323911975067\n",
      "validation loss at epoch 1 is 3.701777262273781\n",
      "validation loss at epoch 2 is 3.680813300582992\n",
      "validation loss at epoch 3 is 3.643248987698614\n",
      "validation loss at epoch 4 is 3.6416000966695234\n",
      "validation loss at epoch 5 is 3.5897274396312833\n",
      "validation loss at epoch 6 is 3.562509667636799\n",
      "validation loss at epoch 7 is 3.5311540430011465\n",
      "validation loss at epoch 8 is 3.5015016741666236\n",
      "validation loss at epoch 9 is 3.453404699134245\n",
      "validation loss at epoch 10 is 3.49460342817709\n",
      "validation loss at epoch 11 is 3.42166330228153\n",
      "validation loss at epoch 12 is 3.4117346278814233\n",
      "validation loss at epoch 13 is 3.372812533908024\n",
      "validation loss at epoch 14 is 3.315049077772471\n",
      "validation loss at epoch 15 is 3.281330435308532\n",
      "validation loss at epoch 16 is 3.2751466547706634\n",
      "validation loss at epoch 17 is 3.2154891567272332\n",
      "validation loss at epoch 18 is 3.2729680870396676\n",
      "validation loss at epoch 19 is 3.1846249895452634\n",
      "validation loss at epoch 20 is 3.264169806062985\n",
      "validation loss at epoch 21 is 3.2064745089057243\n",
      "validation loss at epoch 22 is 3.1122867218082813\n",
      "validation loss at epoch 23 is 3.104601966510257\n",
      "validation loss at epoch 24 is 3.108940395522813\n",
      "validation loss at epoch 25 is 3.118468719964734\n",
      "validation loss at epoch 26 is 3.07019016019143\n",
      "validation loss at epoch 27 is 3.0598972440288112\n",
      "validation loss at epoch 28 is 3.059526035293821\n",
      "validation loss at epoch 29 is 3.00928075807984\n",
      "validation loss at epoch 30 is 3.048721773865682\n",
      "validation loss at epoch 31 is 3.0160773684033293\n",
      "validation loss at epoch 32 is 2.9882429017073626\n",
      "validation loss at epoch 33 is 2.99022632255724\n",
      "validation loss at epoch 34 is 2.9797232875096094\n",
      "validation loss at epoch 35 is 2.9317528284054584\n",
      "validation loss at epoch 36 is 2.98170764696154\n",
      "validation loss at epoch 37 is 2.943871192953072\n",
      "validation loss at epoch 38 is 2.9036630918949315\n",
      "validation loss at epoch 39 is 2.8865116287240538\n",
      "validation loss at epoch 40 is 2.8792365042442465\n",
      "validation loss at epoch 41 is 2.8686633980795406\n",
      "validation loss at epoch 42 is 2.8640919326782046\n",
      "validation loss at epoch 43 is 2.8560150142563137\n",
      "validation loss at epoch 44 is 2.838123635722487\n"
     ]
    }
   ],
   "source": [
    "from tqdm import tqdm\n",
    "from tensorboardX import SummaryWriter\n",
    "\n",
    "proteins = ProteinDataset(data=seqs)\n",
    "syn_proteins = ProteinDataset(data=test_seqs)\n",
    "\n",
    "EPOCHS=45\n",
    "ANP_det.train()\n",
    "optim = torch.optim.Adam(ANP_det.parameters(), lr = 1e-3)\n",
    "writer = SummaryWriter()\n",
    "\n",
    "global_step = 0\n",
    "\n",
    "min_context = int(0.1 * seqs.shape[1])\n",
    "max_context = int(0.9 * seqs.shape[1])\n",
    "len_aa = seqs.shape[1]\n",
    "\n",
    "\n",
    "for epoch in range(EPOCHS):\n",
    "    loader = torch.utils.data.DataLoader(proteins, batch_size=32, shuffle=True)\n",
    "    overall_loss = 0\n",
    "    for i, batch in enumerate(loader):\n",
    "\n",
    "        \n",
    "        global_step+=1\n",
    "        (((x_context, y_context), x_target), y_target) = context_target_splitter(batch, min_context, max_context, len_aa, 1, 21)\n",
    "        \n",
    "        adjust_learning_rate(optim, global_step)\n",
    "        \n",
    "        y_pred, loss = ANP_det(x_context, y_context, x_target, y_target)\n",
    "\n",
    "        optim.zero_grad()\n",
    "        loss.backward()\n",
    "        optim.step()\n",
    "\n",
    "        writer.add_scalars('training_loss',{\n",
    "                    'loss':loss,\n",
    "                }, global_step)\n",
    "\n",
    "    val_loader = torch.utils.data.DataLoader(syn_proteins, batch_size=32, shuffle=False)\n",
    "    for batch in val_loader:\n",
    "        \n",
    "        (((x_context, y_context), x_target), y_target) = context_target_splitter(batch, min_context, max_context, len_aa, 1, 21)\n",
    "        val_y_pred, val_loss = ANP_det(x_context, y_context, x_target, y_target)\n",
    "        overall_loss += val_loss.item()\n",
    "\n",
    "    print('validation loss at epoch {} is '.format(epoch) + str(overall_loss/(test_seqs.shape[0]*test_seqs.shape[1])))"
   ]
  },
  {
   "cell_type": "code",
   "execution_count": 38,
   "id": "521f82d7-1948-482f-a40c-36373800bb99",
   "metadata": {},
   "outputs": [
    {
     "data": {
      "text/plain": [
       "torch.Size([24, 59, 1])"
      ]
     },
     "execution_count": 38,
     "metadata": {},
     "output_type": "execute_result"
    }
   ],
   "source": [
    "x_target.shape"
   ]
  },
  {
   "cell_type": "code",
   "execution_count": 13,
   "id": "8c57534f-1b51-481a-8cee-062a00576ddc",
   "metadata": {},
   "outputs": [
    {
     "data": {
      "text/plain": [
       "tensor([2.6121e-02, 7.3778e-03, 7.5174e-03, 9.4540e-03, 2.5536e-02, 5.0070e-02,\n",
       "        1.2349e-01, 4.0074e-03, 3.9315e-03, 4.0233e-02, 2.4191e-01, 2.1097e-02,\n",
       "        9.9020e-03, 8.3307e-03, 7.9315e-04, 1.4710e-02, 1.1715e-02, 2.8449e-04,\n",
       "        3.7828e-02, 2.9031e-01, 6.5380e-02], grad_fn=<SelectBackward0>)"
      ]
     },
     "execution_count": 13,
     "metadata": {},
     "output_type": "execute_result"
    }
   ],
   "source": [
    "val_y_pred[0][0]"
   ]
  },
  {
   "cell_type": "code",
   "execution_count": 28,
   "id": "d853abfd-b7d9-419c-8606-e74108cf6226",
   "metadata": {},
   "outputs": [],
   "source": [
    "AMINO_ACIDS = \"ARNDCQEGHILKMFPSTWYV-\"\n",
    "IDX_TO_AA = list(AMINO_ACIDS)\n",
    "AA_TO_IDX = {aa: i for i, aa in enumerate(IDX_TO_AA)}\n",
    "\n",
    "frequency_matrix = np.zeros((seqs.shape[1], len(AA_TO_IDX)))\n",
    "\n",
    "for i in range(seqs.shape[0]):\n",
    "    for j in range(seqs.shape[1]):\n",
    "        frequency_matrix[j,AA_TO_IDX[seqs[i,j]]] += 1"
   ]
  },
  {
   "cell_type": "code",
   "execution_count": 29,
   "id": "1cae0478-1b5d-49a9-add8-a787504f8776",
   "metadata": {},
   "outputs": [
    {
     "data": {
      "text/plain": [
       "array([[ 668.,  280.,  248., ...,   63.,  342.,  260.],\n",
       "       [ 617.,  226.,  347., ...,  263.,  523.,  148.],\n",
       "       [ 402.,  212.,  245., ...,  117.,  748.,  106.],\n",
       "       ...,\n",
       "       [ 586.,  319.,  239., ...,  329., 1128.,  295.],\n",
       "       [ 394.,  255.,  299., ...,   56.,  310., 1194.],\n",
       "       [ 465.,  380.,  233., ...,   76.,  371., 1591.]])"
      ]
     },
     "execution_count": 29,
     "metadata": {},
     "output_type": "execute_result"
    }
   ],
   "source": [
    "frequency_matrix"
   ]
  },
  {
   "cell_type": "code",
   "execution_count": 33,
   "id": "31e7739b-9e08-482e-9ee3-0d58771ecd5f",
   "metadata": {},
   "outputs": [
    {
     "data": {
      "text/plain": [
       "tensor([27.])"
      ]
     },
     "execution_count": 33,
     "metadata": {},
     "output_type": "execute_result"
    }
   ],
   "source": [
    "x_target[0,1]"
   ]
  },
  {
   "cell_type": "code",
   "execution_count": 34,
   "id": "47f0824e-2277-453e-a22e-f7d1423d3cd5",
   "metadata": {},
   "outputs": [
    {
     "data": {
      "text/plain": [
       "[<matplotlib.lines.Line2D at 0x169a15610>]"
      ]
     },
     "execution_count": 34,
     "metadata": {},
     "output_type": "execute_result"
    },
    {
     "data": {
      "image/png": "[encoded data removed]",
      "text/plain": [
       "<Figure size 640x480 with 1 Axes>"
      ]
     },
     "metadata": {},
     "output_type": "display_data"
    }
   ],
   "source": [
    "import matplotlib.pyplot as plt\n",
    "plt.plot(y_target[0,1])\n",
    "plt.plot(val_y_pred.detach().numpy()[0,1])\n",
    "plt.plot(frequency_matrix[27]/7865)\n",
    "\n"
   ]
  },
  {
   "cell_type": "code",
   "execution_count": 93,
   "id": "5227a892-1715-4e06-8755-7bb227835614",
   "metadata": {},
   "outputs": [
    {
     "data": {
      "text/plain": [
       "torch.Size([24, 59, 1])"
      ]
     },
     "execution_count": 93,
     "metadata": {},
     "output_type": "execute_result"
    }
   ],
   "source": [
    "x_target.shape"
   ]
  },
  {
   "cell_type": "code",
   "execution_count": 39,
   "id": "c3b23b7e-5e9e-4d24-9841-d102ad529566",
   "metadata": {},
   "outputs": [],
   "source": [
    "class AttentiveNeuralProcess_Latent(torch.nn.Module):\n",
    "    def __init__(\n",
    "        self,\n",
    "        x_dim, \n",
    "        y_dim,\n",
    "        projected_dim,\n",
    "        d_hidden, \n",
    "        d_model,\n",
    "        heads,\n",
    "        latent_dim,\n",
    "        **kwargs\n",
    "    ):\n",
    "        super().__init__(**kwargs)\n",
    "        self.linear_1 = torch.nn.Linear(x_dim + y_dim, projected_dim)\n",
    "        self.activation = torch.nn.SELU()\n",
    "\n",
    "        self.deterministic_self_mha_1 = MultiHeadedAttention(heads, projected_dim, projected_dim, projected_dim, d_hidden, projected_dim)\n",
    "        self.addnorm_1 = AddNorm(normalized_shape= projected_dim)\n",
    "        self.dropout_1 = torch.nn.Dropout(0.1)\n",
    "\n",
    "        self.deterministic_self_mha_2 = MultiHeadedAttention(heads, projected_dim, projected_dim, projected_dim, d_hidden, projected_dim)\n",
    "        self.addnorm_2 = AddNorm(normalized_shape=projected_dim)\n",
    "        self.dropout_2 = torch.nn.Dropout(0.1)\n",
    "\n",
    "        self.latent_linear_1 = torch.nn.Linear(x_dim + y_dim, projected_dim)\n",
    "\n",
    "        self.latent_self_mha_1 = MultiHeadedAttention(heads, projected_dim, projected_dim, projected_dim, d_hidden, projected_dim)\n",
    "        self.latent_addnorm_1 = AddNorm(normalized_shape= projected_dim)\n",
    "        self.latent_dropout_1 = torch.nn.Dropout(0.1)\n",
    "\n",
    "        self.latent_self_mha_2 = MultiHeadedAttention(heads, projected_dim, projected_dim, projected_dim, d_hidden, projected_dim)\n",
    "        self.latent_addnorm_2 = AddNorm(normalized_shape=projected_dim)\n",
    "        self.latent_dropout_2 = torch.nn.Dropout(0.1)\n",
    "\n",
    "        self.latent_mu = torch.nn.Linear(projected_dim, latent_dim)\n",
    "        self.latent_log_var = torch.nn.Linear(projected_dim, latent_dim)\n",
    "\n",
    "    \n",
    "        self.context_projection = torch.nn.Linear(x_dim, projected_dim)\n",
    "        self.target_projection = torch.nn.Linear(x_dim, projected_dim)\n",
    "        \n",
    "        self.cross_mha = MultiHeadedAttention(heads, projected_dim, projected_dim, projected_dim, d_hidden, projected_dim)\n",
    "\n",
    "        self.linear_2 = torch.nn.Linear(projected_dim + x_dim + latent_dim, projected_dim)\n",
    "        self.linear_3 = torch.nn.Linear(projected_dim + x_dim + latent_dim, projected_dim)\n",
    "        self.linear_4 = torch.nn.Linear(projected_dim + x_dim + latent_dim, projected_dim)\n",
    "        self.linear_5 = torch.nn.Linear(projected_dim + x_dim + latent_dim, y_dim)\n",
    "\n",
    "    def cross_entropy(self, x, y):\n",
    "        return torch.sum(-y * torch.log(x + 1e-6) - (1.-y)*torch.log(1. - x + 1e-6))\n",
    "\n",
    "    def reparam(self, z_mu, z_log_var):\n",
    "        return z_mu + torch.randn_like(z_log_var) * torch.exp(z_log_var/2.)\n",
    "\n",
    "    def kl_loss_calc(\n",
    "        self, z_mu_context, z_log_var_context,\n",
    "              z_mu_target,  z_log_var_target\n",
    "    ):\n",
    "        q_context = torch.distributions.Normal(z_mu_context, torch.exp(z_log_var_context/2))\n",
    "        q_target = torch.distributions.Normal(z_mu_target, torch.exp(z_log_var_target/2))\n",
    "        \n",
    "        kl = torch.distributions.kl.kl_divergence(q_context, q_target)\n",
    "        return kl\n",
    "\n",
    "    def forward(self, context_x, context_y, target_x, target_y = None):\n",
    "        context = torch.concat([context_x, context_y], dim=-1)\n",
    "        x_1 = self.activation(self.linear_1(context))\n",
    "\n",
    "        x_2, _ = self.deterministic_self_mha_1(x_1, x_1, x_1)\n",
    "        x_2    = self.addnorm_1(x_2, x_1)\n",
    "        x_2    = self.dropout_1(x_2)\n",
    "\n",
    "        x_3, _ = self.deterministic_self_mha_2(x_2, x_2, x_2)\n",
    "        x_3    = self.addnorm_2(x_3, x_2)\n",
    "        x_3    = self.dropout_2(x_2)\n",
    "\n",
    "        projected_context = self.context_projection(context_x)\n",
    "        projected_target  = self.target_projection(target_x)\n",
    "        \n",
    "        cross_attended,_ = self.cross_mha(projected_target, projected_context, x_3)\n",
    "\n",
    "        z_1 = self.latent_linear_1(context)\n",
    "\n",
    "        z_2, _ = self.latent_self_mha_1(z_1, z_1, z_1)\n",
    "        z_2    = self.latent_addnorm_1(z_2, z_1)\n",
    "        z_2    = self.latent_dropout_1(z_2)\n",
    "\n",
    "        z_3, _ = self.latent_self_mha_2(z_2, z_2, z_2)\n",
    "        z_3    = self.latent_addnorm_2(z_3, z_2)\n",
    "        z_3    = self.latent_dropout_2(z_3)\n",
    "\n",
    "        z_3 = torch.mean(z_3, dim=1)\n",
    "\n",
    "        z_mu = self.latent_mu(z_3)\n",
    "        z_log_var = self.latent_log_var(z_3)\n",
    "\n",
    "        z = self.reparam(z_mu, z_log_var)\n",
    "\n",
    "        z = z.unsqueeze(dim=1).tile([1, target_x.shape[1],1])\n",
    "\n",
    "        yhat = torch.concat([cross_attended, target_x, z], dim=-1)\n",
    "        yhat = self.activation(self.linear_2(yhat))\n",
    "\n",
    "        yhat = torch.concat([yhat, target_x, z], dim=-1)\n",
    "        yhat = self.activation(self.linear_3(yhat))\n",
    "\n",
    "        yhat = torch.concat([yhat, target_x, z], dim=-1)\n",
    "        yhat = self.activation(self.linear_4(yhat))\n",
    "\n",
    "        yhat = torch.concat([yhat, target_x, z], dim=-1)\n",
    "        yhat = self.linear_5(yhat)\n",
    "        yhat = torch.nn.Softmax(dim=-1)(yhat)\n",
    "\n",
    "        if target_y is not None:\n",
    "            cross_entropy = self.cross_entropy(yhat, target_y)\n",
    "            target = torch.concat([target_x, target_y], dim=-1)\n",
    "            target_1 = self.activation(self.latent_linear_1(target))\n",
    "\n",
    "            target_2, _ = self.latent_self_mha_1(target_1, target_1, target_1)\n",
    "            target_2    = self.latent_addnorm_1(target_2, target_1)\n",
    "            target_2    = self.latent_dropout_1(target_2)\n",
    "\n",
    "            target_3, _ = self.latent_self_mha_2(target_2, target_2, target_2)\n",
    "            target_3    = self.latent_addnorm_2(target_3, target_2)\n",
    "            target_3    = self.latent_dropout_2(target_3)\n",
    "\n",
    "            z_target    = torch.mean(target_3, dim=1)\n",
    "            target_z_mu = self.latent_mu(z_target)\n",
    "            target_z_log_var = self.latent_log_var(z_target)\n",
    "\n",
    "            kl_loss = torch.sum(self.kl_loss_calc(z_mu, z_log_var, target_z_mu, target_z_log_var))\n",
    "            \n",
    "            return yhat, cross_entropy + kl_loss\n",
    "        else:\n",
    "            return yhat, 0\n",
    "                                     \n",
    "\n"
   ]
  },
  {
   "cell_type": "code",
   "execution_count": 40,
   "id": "97b4fdd8-2e37-4e8e-ba6c-89f8e223355b",
   "metadata": {},
   "outputs": [],
   "source": [
    "ANP_lat = AttentiveNeuralProcess_Latent(\n",
    "    1, 21, 128, 128, 128, 8, 4\n",
    ")"
   ]
  },
  {
   "cell_type": "code",
   "execution_count": 43,
   "id": "12dd3f3e-7c8e-4049-98fa-28738551ca8e",
   "metadata": {},
   "outputs": [
    {
     "data": {
      "text/plain": [
       "AttentiveNeuralProcess_Latent(\n",
       "  (linear_1): Linear(in_features=22, out_features=128, bias=True)\n",
       "  (activation): SELU()\n",
       "  (deterministic_self_mha_1): MultiHeadedAttention(\n",
       "    (attention): DotProductAttention()\n",
       "    (W_q): Linear(in_features=128, out_features=1024, bias=True)\n",
       "    (W_k): Linear(in_features=128, out_features=1024, bias=True)\n",
       "    (W_v): Linear(in_features=128, out_features=1024, bias=True)\n",
       "    (W_o): Linear(in_features=1024, out_features=128, bias=True)\n",
       "  )\n",
       "  (addnorm_1): AddNorm(\n",
       "    (layer_norm): LayerNorm((128,), eps=1e-05, elementwise_affine=True)\n",
       "  )\n",
       "  (dropout_1): Dropout(p=0.1, inplace=False)\n",
       "  (deterministic_self_mha_2): MultiHeadedAttention(\n",
       "    (attention): DotProductAttention()\n",
       "    (W_q): Linear(in_features=128, out_features=1024, bias=True)\n",
       "    (W_k): Linear(in_features=128, out_features=1024, bias=True)\n",
       "    (W_v): Linear(in_features=128, out_features=1024, bias=True)\n",
       "    (W_o): Linear(in_features=1024, out_features=128, bias=True)\n",
       "  )\n",
       "  (addnorm_2): AddNorm(\n",
       "    (layer_norm): LayerNorm((128,), eps=1e-05, elementwise_affine=True)\n",
       "  )\n",
       "  (dropout_2): Dropout(p=0.1, inplace=False)\n",
       "  (latent_linear_1): Linear(in_features=22, out_features=128, bias=True)\n",
       "  (latent_self_mha_1): MultiHeadedAttention(\n",
       "    (attention): DotProductAttention()\n",
       "    (W_q): Linear(in_features=128, out_features=1024, bias=True)\n",
       "    (W_k): Linear(in_features=128, out_features=1024, bias=True)\n",
       "    (W_v): Linear(in_features=128, out_features=1024, bias=True)\n",
       "    (W_o): Linear(in_features=1024, out_features=128, bias=True)\n",
       "  )\n",
       "  (latent_addnorm_1): AddNorm(\n",
       "    (layer_norm): LayerNorm((128,), eps=1e-05, elementwise_affine=True)\n",
       "  )\n",
       "  (latent_dropout_1): Dropout(p=0.1, inplace=False)\n",
       "  (latent_self_mha_2): MultiHeadedAttention(\n",
       "    (attention): DotProductAttention()\n",
       "    (W_q): Linear(in_features=128, out_features=1024, bias=True)\n",
       "    (W_k): Linear(in_features=128, out_features=1024, bias=True)\n",
       "    (W_v): Linear(in_features=128, out_features=1024, bias=True)\n",
       "    (W_o): Linear(in_features=1024, out_features=128, bias=True)\n",
       "  )\n",
       "  (latent_addnorm_2): AddNorm(\n",
       "    (layer_norm): LayerNorm((128,), eps=1e-05, elementwise_affine=True)\n",
       "  )\n",
       "  (latent_dropout_2): Dropout(p=0.1, inplace=False)\n",
       "  (latent_mu): Linear(in_features=128, out_features=4, bias=True)\n",
       "  (latent_log_var): Linear(in_features=128, out_features=4, bias=True)\n",
       "  (context_projection): Linear(in_features=1, out_features=128, bias=True)\n",
       "  (target_projection): Linear(in_features=1, out_features=128, bias=True)\n",
       "  (cross_mha): MultiHeadedAttention(\n",
       "    (attention): DotProductAttention()\n",
       "    (W_q): Linear(in_features=128, out_features=1024, bias=True)\n",
       "    (W_k): Linear(in_features=128, out_features=1024, bias=True)\n",
       "    (W_v): Linear(in_features=128, out_features=1024, bias=True)\n",
       "    (W_o): Linear(in_features=1024, out_features=128, bias=True)\n",
       "  )\n",
       "  (linear_2): Linear(in_features=133, out_features=128, bias=True)\n",
       "  (linear_3): Linear(in_features=133, out_features=128, bias=True)\n",
       "  (linear_4): Linear(in_features=133, out_features=128, bias=True)\n",
       "  (linear_5): Linear(in_features=133, out_features=21, bias=True)\n",
       ")"
      ]
     },
     "execution_count": 43,
     "metadata": {},
     "output_type": "execute_result"
    }
   ],
   "source": [
    "ANP_lat"
   ]
  },
  {
   "cell_type": "code",
   "execution_count": null,
   "id": "e057219f-0f13-4215-bdbe-f75c7d6c907b",
   "metadata": {},
   "outputs": [
    {
     "name": "stderr",
     "output_type": "stream",
     "text": [
      "246it [00:40,  6.07it/s]\n"
     ]
    },
    {
     "name": "stdout",
     "output_type": "stream",
     "text": [
      "validation loss at epoch 0 is 3.55772761743595\n"
     ]
    },
    {
     "name": "stderr",
     "output_type": "stream",
     "text": [
      "246it [00:36,  6.75it/s]\n"
     ]
    },
    {
     "name": "stdout",
     "output_type": "stream",
     "text": [
      "validation loss at epoch 1 is 3.574536299785991\n"
     ]
    },
    {
     "name": "stderr",
     "output_type": "stream",
     "text": [
      "246it [00:40,  6.13it/s]\n"
     ]
    },
    {
     "name": "stdout",
     "output_type": "stream",
     "text": [
      "validation loss at epoch 2 is 3.547934505262708\n"
     ]
    },
    {
     "name": "stderr",
     "output_type": "stream",
     "text": [
      "246it [00:37,  6.59it/s]\n"
     ]
    },
    {
     "name": "stdout",
     "output_type": "stream",
     "text": [
      "validation loss at epoch 3 is 3.5495254068689115\n"
     ]
    },
    {
     "name": "stderr",
     "output_type": "stream",
     "text": [
      "246it [00:37,  6.48it/s]\n"
     ]
    },
    {
     "name": "stdout",
     "output_type": "stream",
     "text": [
      "validation loss at epoch 4 is 3.4900492105242384\n"
     ]
    },
    {
     "name": "stderr",
     "output_type": "stream",
     "text": [
      "246it [00:37,  6.48it/s]\n"
     ]
    },
    {
     "name": "stdout",
     "output_type": "stream",
     "text": [
      "validation loss at epoch 5 is 3.5465076034223824\n"
     ]
    },
    {
     "name": "stderr",
     "output_type": "stream",
     "text": [
      "246it [00:39,  6.26it/s]\n"
     ]
    },
    {
     "name": "stdout",
     "output_type": "stream",
     "text": [
      "validation loss at epoch 6 is 3.4800154483417614\n"
     ]
    },
    {
     "name": "stderr",
     "output_type": "stream",
     "text": [
      "246it [00:39,  6.18it/s]\n"
     ]
    },
    {
     "name": "stdout",
     "output_type": "stream",
     "text": [
      "validation loss at epoch 7 is 3.456097568745054\n"
     ]
    },
    {
     "name": "stderr",
     "output_type": "stream",
     "text": [
      "246it [00:41,  5.91it/s]\n"
     ]
    },
    {
     "name": "stdout",
     "output_type": "stream",
     "text": [
      "validation loss at epoch 8 is 3.596438067162322\n"
     ]
    },
    {
     "name": "stderr",
     "output_type": "stream",
     "text": [
      "246it [00:41,  5.96it/s]\n"
     ]
    },
    {
     "name": "stdout",
     "output_type": "stream",
     "text": [
      "validation loss at epoch 9 is 3.5130046925625336\n"
     ]
    },
    {
     "name": "stderr",
     "output_type": "stream",
     "text": [
      "246it [00:37,  6.58it/s]\n"
     ]
    },
    {
     "name": "stdout",
     "output_type": "stream",
     "text": [
      "validation loss at epoch 10 is 3.4532489738958523\n"
     ]
    },
    {
     "name": "stderr",
     "output_type": "stream",
     "text": [
      "246it [00:36,  6.77it/s]\n"
     ]
    },
    {
     "name": "stdout",
     "output_type": "stream",
     "text": [
      "validation loss at epoch 11 is 3.4210504860420086\n"
     ]
    },
    {
     "name": "stderr",
     "output_type": "stream",
     "text": [
      "246it [00:37,  6.56it/s]\n"
     ]
    },
    {
     "name": "stdout",
     "output_type": "stream",
     "text": [
      "validation loss at epoch 12 is 3.4123335222961826\n"
     ]
    },
    {
     "name": "stderr",
     "output_type": "stream",
     "text": [
      "246it [00:37,  6.54it/s]\n"
     ]
    },
    {
     "name": "stdout",
     "output_type": "stream",
     "text": [
      "validation loss at epoch 13 is 3.357143908340491\n"
     ]
    },
    {
     "name": "stderr",
     "output_type": "stream",
     "text": [
      "246it [00:39,  6.26it/s]\n"
     ]
    },
    {
     "name": "stdout",
     "output_type": "stream",
     "text": [
      "validation loss at epoch 14 is 3.303627122083351\n"
     ]
    },
    {
     "name": "stderr",
     "output_type": "stream",
     "text": [
      "246it [00:40,  6.02it/s]\n"
     ]
    },
    {
     "name": "stdout",
     "output_type": "stream",
     "text": [
      "validation loss at epoch 15 is 3.2731839911782785\n"
     ]
    },
    {
     "name": "stderr",
     "output_type": "stream",
     "text": [
      "246it [00:39,  6.29it/s]\n"
     ]
    },
    {
     "name": "stdout",
     "output_type": "stream",
     "text": [
      "validation loss at epoch 16 is 3.2310854019243287\n"
     ]
    },
    {
     "name": "stderr",
     "output_type": "stream",
     "text": [
      "246it [00:40,  6.04it/s]\n"
     ]
    },
    {
     "name": "stdout",
     "output_type": "stream",
     "text": [
      "validation loss at epoch 17 is 3.1987189481494807\n"
     ]
    },
    {
     "name": "stderr",
     "output_type": "stream",
     "text": [
      "246it [00:39,  6.24it/s]\n"
     ]
    },
    {
     "name": "stdout",
     "output_type": "stream",
     "text": [
      "validation loss at epoch 18 is 3.197216587409536\n"
     ]
    },
    {
     "name": "stderr",
     "output_type": "stream",
     "text": [
      "246it [00:41,  5.94it/s]\n"
     ]
    },
    {
     "name": "stdout",
     "output_type": "stream",
     "text": [
      "validation loss at epoch 19 is 3.118534228185385\n"
     ]
    },
    {
     "name": "stderr",
     "output_type": "stream",
     "text": [
      "246it [00:42,  5.78it/s]\n"
     ]
    },
    {
     "name": "stdout",
     "output_type": "stream",
     "text": [
      "validation loss at epoch 20 is 3.0963212734117653\n"
     ]
    },
    {
     "name": "stderr",
     "output_type": "stream",
     "text": [
      "246it [00:42,  5.84it/s]\n"
     ]
    },
    {
     "name": "stdout",
     "output_type": "stream",
     "text": [
      "validation loss at epoch 21 is 3.1087317962961967\n"
     ]
    },
    {
     "name": "stderr",
     "output_type": "stream",
     "text": [
      "246it [00:42,  5.73it/s]\n"
     ]
    },
    {
     "name": "stdout",
     "output_type": "stream",
     "text": [
      "validation loss at epoch 22 is 3.052243277587363\n"
     ]
    },
    {
     "name": "stderr",
     "output_type": "stream",
     "text": [
      "246it [00:39,  6.25it/s]\n"
     ]
    },
    {
     "name": "stdout",
     "output_type": "stream",
     "text": [
      "validation loss at epoch 23 is 3.0445006034487556\n"
     ]
    },
    {
     "name": "stderr",
     "output_type": "stream",
     "text": [
      "246it [00:40,  6.15it/s]\n"
     ]
    },
    {
     "name": "stdout",
     "output_type": "stream",
     "text": [
      "validation loss at epoch 24 is 3.021052861172188\n"
     ]
    },
    {
     "name": "stderr",
     "output_type": "stream",
     "text": [
      "246it [00:37,  6.64it/s]\n"
     ]
    },
    {
     "name": "stdout",
     "output_type": "stream",
     "text": [
      "validation loss at epoch 25 is 3.0186182664710066\n"
     ]
    },
    {
     "name": "stderr",
     "output_type": "stream",
     "text": [
      "246it [00:39,  6.24it/s]\n"
     ]
    },
    {
     "name": "stdout",
     "output_type": "stream",
     "text": [
      "validation loss at epoch 26 is 2.9671289732960595\n"
     ]
    },
    {
     "name": "stderr",
     "output_type": "stream",
     "text": [
      "246it [00:45,  5.40it/s]\n"
     ]
    },
    {
     "name": "stdout",
     "output_type": "stream",
     "text": [
      "validation loss at epoch 27 is 2.978053847761653\n"
     ]
    },
    {
     "name": "stderr",
     "output_type": "stream",
     "text": [
      "246it [00:42,  5.83it/s]\n"
     ]
    },
    {
     "name": "stdout",
     "output_type": "stream",
     "text": [
      "validation loss at epoch 28 is 2.9644481864488683\n"
     ]
    },
    {
     "name": "stderr",
     "output_type": "stream",
     "text": [
      "246it [00:39,  6.22it/s]\n"
     ]
    },
    {
     "name": "stdout",
     "output_type": "stream",
     "text": [
      "validation loss at epoch 29 is 2.9266055033738283\n"
     ]
    },
    {
     "name": "stderr",
     "output_type": "stream",
     "text": [
      "246it [00:38,  6.34it/s]\n"
     ]
    },
    {
     "name": "stdout",
     "output_type": "stream",
     "text": [
      "validation loss at epoch 30 is 2.9216270703885865\n"
     ]
    },
    {
     "name": "stderr",
     "output_type": "stream",
     "text": [
      "246it [00:40,  6.08it/s]\n"
     ]
    },
    {
     "name": "stdout",
     "output_type": "stream",
     "text": [
      "validation loss at epoch 31 is 2.9050904282798466\n"
     ]
    },
    {
     "name": "stderr",
     "output_type": "stream",
     "text": [
      "246it [00:39,  6.18it/s]\n"
     ]
    },
    {
     "name": "stdout",
     "output_type": "stream",
     "text": [
      "validation loss at epoch 32 is 2.893415754789878\n"
     ]
    },
    {
     "name": "stderr",
     "output_type": "stream",
     "text": [
      "246it [00:37,  6.56it/s]\n"
     ]
    },
    {
     "name": "stdout",
     "output_type": "stream",
     "text": [
      "validation loss at epoch 33 is 2.899412250887529\n"
     ]
    },
    {
     "name": "stderr",
     "output_type": "stream",
     "text": [
      "246it [00:41,  5.89it/s]\n"
     ]
    },
    {
     "name": "stdout",
     "output_type": "stream",
     "text": [
      "validation loss at epoch 34 is 2.8938244266868938\n"
     ]
    },
    {
     "name": "stderr",
     "output_type": "stream",
     "text": [
      "237it [00:39,  5.72it/s]"
     ]
    }
   ],
   "source": [
    "from tqdm import tqdm\n",
    "from tensorboardX import SummaryWriter\n",
    "\n",
    "proteins = ProteinDataset(data=seqs)\n",
    "syn_proteins = ProteinDataset(data=test_seqs)\n",
    "\n",
    "EPOCHS=45\n",
    "ANP_lat.train()\n",
    "optim = torch.optim.Adam(ANP_lat.parameters(), lr = 1e-3)\n",
    "writer = SummaryWriter()\n",
    "\n",
    "global_step = 0\n",
    "\n",
    "min_context = int(0.1 * seqs.shape[1])\n",
    "max_context = int(0.9 * seqs.shape[1])\n",
    "len_aa = seqs.shape[1]\n",
    "\n",
    "\n",
    "for epoch in range(EPOCHS):\n",
    "    loader = torch.utils.data.DataLoader(proteins, batch_size=32, shuffle=True)\n",
    "    overall_loss = 0\n",
    "    for i, batch in tqdm(enumerate(loader)):\n",
    "        ANP_lat.train()\n",
    "        \n",
    "        global_step+=1\n",
    "        (((x_context, y_context), x_target), y_target) = context_target_splitter(batch, min_context, max_context, len_aa, 1, 21)\n",
    "        \n",
    "        adjust_learning_rate(optim, global_step)\n",
    "        \n",
    "        y_pred, loss = ANP_lat(x_context, y_context, x_target, y_target)\n",
    "\n",
    "        optim.zero_grad()\n",
    "        loss.backward()\n",
    "        optim.step()\n",
    "\n",
    "        writer.add_scalars('training_loss',{\n",
    "                    'loss':loss,\n",
    "                }, global_step)\n",
    "\n",
    "    val_loader = torch.utils.data.DataLoader(syn_proteins, batch_size=32, shuffle=False)\n",
    "    for batch in val_loader:\n",
    "        ANP_lat.eval()\n",
    "        (((x_context, y_context), x_target), y_target) = context_target_splitter(batch, min_context, max_context, len_aa, 1, 21)\n",
    "        val_y_pred, val_loss = ANP_lat(x_context, y_context, x_target, y_target)\n",
    "        overall_loss += val_loss.item()\n",
    "\n",
    "    print('validation loss at epoch {} is '.format(epoch) + str(overall_loss/(test_seqs.shape[0]*test_seqs.shape[1])))"
   ]
  },
  {
   "cell_type": "code",
   "execution_count": 87,
   "id": "4fc72eea-afd1-4642-a6ef-6678a6f5d0d5",
   "metadata": {},
   "outputs": [
    {
     "data": {
      "text/plain": [
       "tensor([[[-1.0725, -0.5524, -0.5552]],\n",
       "\n",
       "        [[-0.8216,  0.6530, -0.0530]],\n",
       "\n",
       "        [[ 1.7631, -1.6940,  0.9103]],\n",
       "\n",
       "        [[ 2.1919, -0.0126,  0.0225]],\n",
       "\n",
       "        [[-0.6425, -1.7878,  2.2622]],\n",
       "\n",
       "        [[ 1.0786,  0.0765, -1.6339]],\n",
       "\n",
       "        [[-0.0836,  0.1963,  0.6273]],\n",
       "\n",
       "        [[ 0.7639,  0.3908,  1.4168]],\n",
       "\n",
       "        [[ 0.0147,  0.4423,  0.0785]],\n",
       "\n",
       "        [[ 1.1422,  1.0022, -0.1402]]])"
      ]
     },
     "execution_count": 87,
     "metadata": {},
     "output_type": "execute_result"
    }
   ],
   "source": [
    "test"
   ]
  },
  {
   "cell_type": "code",
   "execution_count": 89,
   "id": "15edf906-f55c-4ef0-b91e-3f2d9e7ad6c3",
   "metadata": {},
   "outputs": [],
   "source": [
    "other_test = torch.randn((10,5,3))"
   ]
  },
  {
   "cell_type": "code",
   "execution_count": 90,
   "id": "1c5bec55-bebd-48f7-a523-057995c41dc2",
   "metadata": {},
   "outputs": [
    {
     "data": {
      "text/plain": [
       "tensor([[[ 5.7885e-01,  1.8503e+00,  4.2787e-01],\n",
       "         [ 1.0071e+00,  1.4661e+00, -1.0260e-01],\n",
       "         [-1.3728e+00,  1.9242e+00, -6.2077e-01],\n",
       "         [-6.5727e-01, -7.5758e-01,  5.4797e-01],\n",
       "         [-1.0862e+00,  1.4214e+00, -1.4982e-01]],\n",
       "\n",
       "        [[-7.6549e-01,  1.5078e-01,  2.9107e-04],\n",
       "         [-2.7137e-01, -1.8251e+00,  1.6859e+00],\n",
       "         [-2.1129e+00,  2.3690e+00,  8.0102e-01],\n",
       "         [ 2.6335e-02,  1.9552e-01, -4.6229e-01],\n",
       "         [-2.7230e+00, -1.3442e+00, -8.8763e-01]],\n",
       "\n",
       "        [[ 5.1638e-01,  7.2710e-01, -1.8898e+00],\n",
       "         [-3.2572e-01,  1.0587e+00, -9.0792e-01],\n",
       "         [-1.1495e+00,  4.6414e-01, -4.8468e-01],\n",
       "         [ 1.0646e+00,  4.4712e-01, -6.7189e-01],\n",
       "         [-9.7373e-01, -3.1889e-01, -1.9782e+00]],\n",
       "\n",
       "        [[ 1.4106e+00,  8.3720e-01,  2.1635e-01],\n",
       "         [-1.3530e+00,  2.7244e-01,  8.5228e-01],\n",
       "         [-2.9217e+00,  4.1772e-03,  9.2262e-01],\n",
       "         [ 1.2403e+00,  5.4462e-01, -1.6630e-01],\n",
       "         [-5.1164e-01,  1.2458e+00,  9.4213e-01]],\n",
       "\n",
       "        [[ 1.1896e+00,  1.0729e+00,  6.9343e-01],\n",
       "         [ 6.4366e-01,  8.5062e-01,  2.5932e-02],\n",
       "         [-7.4051e-01, -1.4823e+00, -1.8003e+00],\n",
       "         [ 4.7036e-01,  3.3106e-01,  1.3796e+00],\n",
       "         [ 3.8345e-01, -4.8187e-01,  9.6876e-01]],\n",
       "\n",
       "        [[-8.6573e-01, -9.9244e-02,  1.7295e-01],\n",
       "         [ 1.2011e+00, -1.9013e+00,  1.0202e-01],\n",
       "         [-6.1840e-01, -1.3834e+00,  3.3889e-01],\n",
       "         [-2.4261e-01, -3.6381e-01, -3.7161e-01],\n",
       "         [-2.9350e-01,  1.4247e+00,  1.7190e-01]],\n",
       "\n",
       "        [[-7.2174e-01,  2.1935e+00,  2.4837e+00],\n",
       "         [-1.2010e+00,  1.1538e+00,  1.2728e+00],\n",
       "         [ 2.3710e+00,  9.7967e-01,  4.2706e-01],\n",
       "         [ 3.7177e-01,  1.1626e+00,  6.1843e-02],\n",
       "         [-1.1670e-01, -2.0090e-02,  2.9228e-01]],\n",
       "\n",
       "        [[-1.1489e+00,  8.3289e-01, -4.0409e-01],\n",
       "         [-6.8746e-02,  1.5216e+00,  2.7866e-01],\n",
       "         [ 1.2541e+00,  4.2922e-01, -3.7377e+00],\n",
       "         [ 6.9316e-01, -8.0008e-01,  1.0356e+00],\n",
       "         [-1.8558e-01,  1.3026e+00, -1.1576e+00]],\n",
       "\n",
       "        [[-1.7209e-01,  4.9787e-01, -2.8419e-01],\n",
       "         [-1.5587e+00, -4.2459e-01,  9.7269e-03],\n",
       "         [ 2.5824e-01,  9.5018e-01, -1.5500e-01],\n",
       "         [ 4.5351e-01,  6.5553e-02,  8.9437e-01],\n",
       "         [ 6.8949e-02, -6.4023e-01,  6.9652e-01]],\n",
       "\n",
       "        [[ 1.4921e-01,  3.0085e-02, -2.6528e-02],\n",
       "         [-1.1841e+00,  1.2183e+00, -1.0966e+00],\n",
       "         [ 6.7315e-01,  3.3394e-01, -1.2807e+00],\n",
       "         [-1.5279e-01, -1.1339e+00,  9.1868e-01],\n",
       "         [-5.2404e-01,  1.5888e+00, -1.0171e+00]]])"
      ]
     },
     "execution_count": 90,
     "metadata": {},
     "output_type": "execute_result"
    }
   ],
   "source": [
    "other_test"
   ]
  },
  {
   "cell_type": "code",
   "execution_count": 91,
   "id": "026fcbf3-620c-4cc1-b49d-1783dd84e573",
   "metadata": {},
   "outputs": [
    {
     "ename": "RuntimeError",
     "evalue": "Sizes of tensors must match except in dimension 2. Expected size 1 but got size 5 for tensor number 1 in the list.",
     "output_type": "error",
     "traceback": [
      "\u001b[0;31m---------------------------------------------------------------------------\u001b[0m",
      "\u001b[0;31mRuntimeError\u001b[0m                              Traceback (most recent call last)",
      "Cell \u001b[0;32mIn[91], line 1\u001b[0m\n\u001b[0;32m----> 1\u001b[0m \u001b[43mtorch\u001b[49m\u001b[38;5;241;43m.\u001b[39;49m\u001b[43mconcat\u001b[49m\u001b[43m(\u001b[49m\u001b[43m[\u001b[49m\u001b[43mtest\u001b[49m\u001b[43m,\u001b[49m\u001b[43m \u001b[49m\u001b[43mother_test\u001b[49m\u001b[43m]\u001b[49m\u001b[43m,\u001b[49m\u001b[43m \u001b[49m\u001b[43mdim\u001b[49m\u001b[38;5;241;43m=\u001b[39;49m\u001b[38;5;241;43m-\u001b[39;49m\u001b[38;5;241;43m1\u001b[39;49m\u001b[43m)\u001b[49m\n",
      "\u001b[0;31mRuntimeError\u001b[0m: Sizes of tensors must match except in dimension 2. Expected size 1 but got size 5 for tensor number 1 in the list."
     ]
    }
   ],
   "source": [
    "torch.concat([test, other_test], dim=-1)"
   ]
  },
  {
   "cell_type": "code",
   "execution_count": null,
   "id": "5248da43-2e65-45e8-846f-98d5420800c4",
   "metadata": {},
   "outputs": [],
   "source": []
  }
 ],
 "metadata": {
  "kernelspec": {
   "display_name": "Python 3 (ipykernel)",
   "language": "python",
   "name": "python3"
  },
  "language_info": {
   "codemirror_mode": {
    "name": "ipython",
    "version": 3
   },
   "file_extension": ".py",
   "mimetype": "text/x-python",
   "name": "python",
   "nbconvert_exporter": "python",
   "pygments_lexer": "ipython3",
   "version": "3.11.4"
  }
 },
 "nbformat": 4,
 "nbformat_minor": 5
}
