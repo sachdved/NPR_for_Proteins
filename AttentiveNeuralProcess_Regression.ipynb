{
 "cells": [
  {
   "cell_type": "code",
   "execution_count": 9,
   "id": "e791a559-9d72-4580-abb6-76c9059b7a3e",
   "metadata": {},
   "outputs": [],
   "source": [
    "import torch\n",
    "import numpy as np\n",
    "import pandas as pd\n",
    "\n",
    "from NeuralProcessClasses_Proteins import *\n",
    "from architecture_classes import *\n",
    "from utils import *\n",
    "\n",
    "import matplotlib.pyplot as plt"
   ]
  },
  {
   "cell_type": "code",
   "execution_count": 5,
   "id": "105c5ca8-42c6-479a-b80a-ad11abaa3987",
   "metadata": {},
   "outputs": [],
   "source": [
    "train_one_d_datasets = One_D_Datasets(\n",
    "    kernel = sklearn.gaussian_process.kernels.RBF(length_scale_bounds=(0.1, 2)) \n",
    ")\n",
    "\n",
    "test_one_d_datasets = One_D_Datasets(\n",
    "    kernel = sklearn.gaussian_process.kernels.RBF(length_scale_bounds=(0.1, 2)) \n",
    ")\n",
    "\n",
    "val_one_d_datasets = One_D_Datasets(\n",
    "    num_samples = 1000,\n",
    "    kernel = sklearn.gaussian_process.kernels.RBF(length_scale_bounds=(0.1, 2)) \n",
    ")"
   ]
  },
  {
   "cell_type": "code",
   "execution_count": 7,
   "id": "e1e436aa-a105-4950-b44e-b94a386c9696",
   "metadata": {},
   "outputs": [
    {
     "data": {
      "text/plain": [
       "(array([[-1.98248551, -1.91442858, -1.89392648, ...,  1.87617796,\n",
       "          1.89508134,  1.89537335],\n",
       "        [-1.96404742, -1.9552422 , -1.94146547, ...,  1.77239544,\n",
       "          1.81415122,  1.99234346],\n",
       "        [-1.99283572, -1.97805046, -1.94541975, ...,  1.92429742,\n",
       "          1.94527873,  1.97413049],\n",
       "        ...,\n",
       "        [-1.99266505, -1.98688572, -1.97616397, ...,  1.94773713,\n",
       "          1.95055513,  1.97158542],\n",
       "        [-1.91388798, -1.89624852, -1.83027646, ...,  1.96086001,\n",
       "          1.97877262,  1.99330903],\n",
       "        [-1.94366276, -1.91984096, -1.91955743, ...,  1.86985792,\n",
       "          1.87496219,  1.93971352]]),\n",
       " tensor([[[ 1.0173],\n",
       "          [ 1.0705],\n",
       "          [ 1.0857],\n",
       "          ...,\n",
       "          [-0.9395],\n",
       "          [-0.9237],\n",
       "          [-0.9234]],\n",
       " \n",
       "         [[ 1.0406],\n",
       "          [ 1.0366],\n",
       "          [ 1.0300],\n",
       "          ...,\n",
       "          [-3.8200],\n",
       "          [-3.8229],\n",
       "          [-3.7823]],\n",
       " \n",
       "         [[-0.8260],\n",
       "          [-0.8356],\n",
       "          [-0.8552],\n",
       "          ...,\n",
       "          [-0.5639],\n",
       "          [-0.5421],\n",
       "          [-0.5121]],\n",
       " \n",
       "         ...,\n",
       " \n",
       "         [[ 0.2797],\n",
       "          [ 0.2613],\n",
       "          [ 0.2256],\n",
       "          ...,\n",
       "          [-0.4334],\n",
       "          [-0.4205],\n",
       "          [-0.3255]],\n",
       " \n",
       "         [[ 1.6332],\n",
       "          [ 1.6603],\n",
       "          [ 1.7595],\n",
       "          ...,\n",
       "          [ 1.0822],\n",
       "          [ 1.0698],\n",
       "          [ 1.0597]],\n",
       " \n",
       "         [[-1.2116],\n",
       "          [-1.2262],\n",
       "          [-1.2264],\n",
       "          ...,\n",
       "          [ 0.2295],\n",
       "          [ 0.2348],\n",
       "          [ 0.3009]]]))"
      ]
     },
     "execution_count": 7,
     "metadata": {},
     "output_type": "execute_result"
    }
   ],
   "source": [
    "train_one_d_datasets.get_samples(None, None, None)\n",
    "test_one_d_datasets.get_samples(None, None, None)\n",
    "val_one_d_datasets.get_samples(None, None, None)"
   ]
  },
  {
   "cell_type": "code",
   "execution_count": 8,
   "id": "feeb9ae3-b1f5-4e68-a5cf-fc21f6434be6",
   "metadata": {},
   "outputs": [
    {
     "ename": "NameError",
     "evalue": "name 'plt' is not defined",
     "output_type": "error",
     "traceback": [
      "\u001b[0;31m---------------------------------------------------------------------------\u001b[0m",
      "\u001b[0;31mNameError\u001b[0m                                 Traceback (most recent call last)",
      "Cell \u001b[0;32mIn[8], line 3\u001b[0m\n\u001b[1;32m      1\u001b[0m \u001b[38;5;28;01mfor\u001b[39;00m i \u001b[38;5;129;01min\u001b[39;00m \u001b[38;5;28mrange\u001b[39m(\u001b[38;5;241m10\u001b[39m):\n\u001b[1;32m      2\u001b[0m     X, Y \u001b[38;5;241m=\u001b[39m train_one_d_datasets[i]\n\u001b[0;32m----> 3\u001b[0m     \u001b[43mplt\u001b[49m\u001b[38;5;241m.\u001b[39mplot(X,Y)\n",
      "\u001b[0;31mNameError\u001b[0m: name 'plt' is not defined"
     ]
    }
   ],
   "source": [
    "for i in range(10):\n",
    "    X, Y = train_one_d_datasets[i]\n",
    "    plt.plot(X,Y)"
   ]
  },
  {
   "cell_type": "code",
   "execution_count": null,
   "id": "98fa8696-d687-4161-8ab6-b53c035cf90a",
   "metadata": {},
   "outputs": [],
   "source": [
    "class AttentiveEncoder(torch.nn.Module):\n",
    "    def __init__(\n",
    "        activation = torch.nn.SELU(),\n",
    "        rate,\n",
    "        x_dim,\n",
    "        y_dim,\n",
    "        projected_dim,\n",
    "        heads,\n",
    "        **kwargs\n",
    "    ):\n",
    "        super().__init__(**kwargs)\n",
    "        self.activation = activation\n",
    "        self.addnorm = AddNorm(projected_dim)\n",
    "        self.dropout = torch.nn.Dropout(rate)\n",
    "        \n",
    "        self.linear_1 = torch.nn.Linear(x_dim + y_dim, projected_dim)\n",
    "\n",
    "        self.self_mha_1 = MultiHeadedAttention(heads, projected_dim, projected_dim, projected_dim, d_hidden, projected_dim)\n",
    "        self.self_mha_2 = MultiHeadedAttention(heads, projected_dim, projected_dim, projected_dim, d_hidden, projected_dim)\n",
    "        \n",
    "        self.context_projection = torch.nn.Linear(x_dim, projected_dim)\n",
    "        self.target_projection = torch.nn.Linear(x_dim, projected_dim)\n",
    "\n",
    "        self.cross_mha  = MultiHeadedAttention(heads, projected_dim, projected_dim, projected_dim, d_hidden, projected_dim)\n",
    "\n",
    "        self.linear_2 = torch.nn.Linear(projected_dim + x_dim, projected_dim)\n",
    "        self.linear_3 = torch.nn.Linear(projected_dim + x_dim, projected_dim)\n",
    "        self.linear_4 = torch.nn.Linear(projected_dim + x_dim, projected_dim)\n",
    "        self.linear_5 = torch.nn.Linear(projected_dim + x_dim, projected_dim)\n",
    "\n",
    "    def forward(self, x, y):\n",
    "        input = torch.concat([x, y], dim=-1)\n",
    "\n",
    "        x_1 = self.activation(self.linear_1(input))\n",
    "\n",
    "        x_2, _ = self.self_mha_1(x_1, x_1, x_1)\n",
    "        x_2    = self.addnorm(x_2, x_1)\n",
    "        x_2    = self.dropout(x_2)\n",
    "\n",
    "        x_3, _ = self.self_mha_2(x_2, x_2, x_2)\n",
    "        x_3    = self.addnorm(x_3, x_2)\n",
    "        x_3    = self.dropout(x_3)\n",
    "        return x_3\n",
    "\n",
    "\n",
    "class AttentiveDecoder(torch.nn.Module):\n",
    "    "
   ]
  },
  {
   "cell_type": "code",
   "execution_count": null,
   "id": "d70fc022-5490-40b6-959c-070914c25fe9",
   "metadata": {},
   "outputs": [],
   "source": []
  }
 ],
 "metadata": {
  "kernelspec": {
   "display_name": "Python 3 (ipykernel)",
   "language": "python",
   "name": "python3"
  },
  "language_info": {
   "codemirror_mode": {
    "name": "ipython",
    "version": 3
   },
   "file_extension": ".py",
   "mimetype": "text/x-python",
   "name": "python",
   "nbconvert_exporter": "python",
   "pygments_lexer": "ipython3",
   "version": "3.11.4"
  }
 },
 "nbformat": 4,
 "nbformat_minor": 5
}
