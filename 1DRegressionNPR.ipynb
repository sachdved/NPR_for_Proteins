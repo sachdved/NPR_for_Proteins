{
 "cells": [
  {
   "cell_type": "code",
   "execution_count": 1,
   "id": "440c608f-dd56-4581-acab-4000b6479208",
   "metadata": {},
   "outputs": [],
   "source": [
    "import torch\n",
    "import numpy as np\n",
    "import pandas as pd\n",
    "\n",
    "import sklearn.utils\n",
    "import sklearn.gaussian_process\n",
    "import matplotlib.pyplot as plt"
   ]
  },
  {
   "cell_type": "code",
   "execution_count": 2,
   "id": "37d2c0a9-d094-4a78-b6a0-e7dc85b58a00",
   "metadata": {},
   "outputs": [],
   "source": [
    "class One_D_Datasets(torch.utils.data.Dataset):\n",
    "    \"\"\"\n",
    "    Dataset of one-dimensional functions, generated from varying gaussian processes for testing my NPR methods\n",
    "\n",
    "    Parameters\n",
    "    ----------\n",
    "    num_samples: how many samples from family to collect\n",
    "\n",
    "    n_same_samples: how many samples to collect with the same hyper-parameters\n",
    "\n",
    "    n_points: how many points to to sample the process at within range, X\n",
    "\n",
    "    min_max: tuple, min_max x range to evaluate the gaussian process at\n",
    "\n",
    "    kernel: kernels for gaussian process regression. Can be ['RBF()', 'ConstantKernel()', 'DotProduct()', 'ExpSineSquared()', 'Matern()', 'WhiteKernel()']\n",
    "\n",
    "    vary_kernel_hyp: do we vary kernel hyperparameters or nah?\n",
    "    \n",
    "    **kwargs: additional arguments to GaussianProcessRegressor\n",
    "    \"\"\"\n",
    "    def __init__(self,\n",
    "                 num_samples = 10000,\n",
    "                 n_same_samples = 20,\n",
    "                 n_points =      128,\n",
    "                 min_max  =   (-2,2),\n",
    "                 kernel   = sklearn.gaussian_process.kernels.RBF(length_scale = 0.4, length_scale_bounds = (0.01,1)),\n",
    "                 vary_kernel_hyp = True,\n",
    "                 **kwargs\n",
    "    ):\n",
    "        super().__init__()\n",
    "        self.n_points = n_points\n",
    "        self.num_samples = num_samples\n",
    "        self.n_same_samples = n_same_samples\n",
    "        self.min_max = min_max\n",
    "        self.is_vary_kernel_hyp = vary_kernel_hyp\n",
    "\n",
    "        if not vary_kernel_hyp:\n",
    "            # only fit hyperparam when predicting if using various hyperparam\n",
    "            kwargs[\"optimizer\"] = None\n",
    "\n",
    "            # we also fix the bounds as these will not be needed\n",
    "            for hyperparam in kernel.hyperparameters:\n",
    "                kernel.set_params(**{f\"{hyperparam.name}_bounds\": \"fixed\"})\n",
    "\n",
    "        self.generator = sklearn.gaussian_process.GaussianProcessRegressor(kernel = kernel, alpha=0.005, **kwargs)\n",
    "\n",
    "    def __len__(self):\n",
    "        return self.num_samples\n",
    "\n",
    "    def __getitem__(self, index):\n",
    "        return self.data[index], self.targets[index]\n",
    "\n",
    "    def vary_kernel_hyperparam(self):\n",
    "        K = self.generator.kernel\n",
    "        for hyperparam in K.hyperparameters:\n",
    "            K.set_params(\n",
    "                **{hyperparam.name: np.random.uniform(*hyperparam.bounds.squeeze())}\n",
    "            )\n",
    "\n",
    "    def get_samples(\n",
    "        self,\n",
    "        n_samples,\n",
    "        test_min_max,\n",
    "        n_points\n",
    "    ):\n",
    "        test_min_max = test_min_max if test_min_max is not None else self.min_max\n",
    "        n_points = n_points if n_points is not None else self.n_points\n",
    "        n_samples = n_samples if n_samples is not None else self.num_samples\n",
    "        \"\"\"\n",
    "        n_samples: number of samples to generate data for\n",
    "        test_min_max: range of x values to generate sample for\n",
    "        n_points: number of points to generate \n",
    "        \"\"\"\n",
    "        X = self._sample_features(test_min_max, n_points, n_samples)\n",
    "\n",
    "        self.data, self.targets = self._sample_targets(X, n_samples)\n",
    "\n",
    "        return self.data, self.targets\n",
    "        \n",
    "\n",
    "    def _sample_features(self, min_max, n_points, n_samples):\n",
    "        X = np.random.uniform(min_max[1], min_max[0], size=(n_samples, n_points))\n",
    "        X.sort(axis=-1)\n",
    "        return X\n",
    "\n",
    "    def _sample_targets(self, X, n_samples):\n",
    "        targets = X.copy()\n",
    "        n_samples, n_points = X.shape\n",
    "        for i in range(0, n_samples, self.n_same_samples):\n",
    "            if self.is_vary_kernel_hyp:\n",
    "                self.vary_kernel_hyperparam()\n",
    "            for attempt in range(self.n_same_samples):\n",
    "                try:\n",
    "                    n_same_samples = targets[i:i+self.n_same_samples,:].shape[0]\n",
    "                    targets[i:i+self.n_same_samples,:] = self.generator.sample_y(\n",
    "                        X[i+attempt,:,np.newaxis],\n",
    "                        n_samples = n_same_samples,\n",
    "                        random_state = None,\n",
    "                    ).transpose(1,0)\n",
    "                    X[i:i+self.n_same_samples,:] = X[i+attempt,:]\n",
    "                except np.linalg.LinAlgError:\n",
    "                    continue\n",
    "                else:\n",
    "                    break\n",
    "        X, targets = sklearn.utils.shuffle(X, targets)\n",
    "        targets = torch.from_numpy(targets)\n",
    "        targets = targets.view(n_samples, n_points, 1).float()\n",
    "        return X, targets\n",
    "            \n",
    "        \n",
    "            \n",
    "                 "
   ]
  },
  {
   "cell_type": "code",
   "execution_count": 3,
   "id": "d049e39b-d433-49cd-a62b-49d69c070c31",
   "metadata": {},
   "outputs": [],
   "source": [
    "test_one_d_datasets = One_D_Datasets()"
   ]
  },
  {
   "cell_type": "code",
   "execution_count": 4,
   "id": "a379ec47-b1f0-4f8f-9ed0-b7a81ead27e4",
   "metadata": {
    "scrolled": true
   },
   "outputs": [
    {
     "data": {
      "text/plain": [
       "(array([[-1.96659192, -1.95823913, -1.94002728, ...,  1.90883983,\n",
       "          1.91616704,  1.96841165],\n",
       "        [-1.98857369, -1.9755324 , -1.969749  , ...,  1.90353443,\n",
       "          1.92619431,  1.93271313],\n",
       "        [-1.99449878, -1.96522278, -1.93331644, ...,  1.96806416,\n",
       "          1.97131649,  1.9861902 ],\n",
       "        ...,\n",
       "        [-1.96685865, -1.95537101, -1.9378644 , ...,  1.92674212,\n",
       "          1.94568134,  1.97841596],\n",
       "        [-1.98347124, -1.9577596 , -1.9073426 , ...,  1.95113561,\n",
       "          1.96507213,  1.98472248],\n",
       "        [-1.97270407, -1.97048045, -1.9476356 , ...,  1.86639442,\n",
       "          1.87958637,  1.8978847 ]]),\n",
       " tensor([[[ 1.8865],\n",
       "          [ 1.8926],\n",
       "          [ 1.9052],\n",
       "          ...,\n",
       "          [ 0.5432],\n",
       "          [ 0.5362],\n",
       "          [ 0.4841]],\n",
       " \n",
       "         [[ 0.7864],\n",
       "          [ 0.7724],\n",
       "          [ 0.7658],\n",
       "          ...,\n",
       "          [ 0.5114],\n",
       "          [ 0.5545],\n",
       "          [ 0.5667]],\n",
       " \n",
       "         [[-0.7427],\n",
       "          [-0.7114],\n",
       "          [-0.6734],\n",
       "          ...,\n",
       "          [ 0.8100],\n",
       "          [ 0.8079],\n",
       "          [ 0.7975]],\n",
       " \n",
       "         ...,\n",
       " \n",
       "         [[ 0.2226],\n",
       "          [ 0.2226],\n",
       "          [ 0.2480],\n",
       "          ...,\n",
       "          [-0.2373],\n",
       "          [-0.1800],\n",
       "          [ 0.0027]],\n",
       " \n",
       "         [[-0.4190],\n",
       "          [-0.5017],\n",
       "          [-0.6982],\n",
       "          ...,\n",
       "          [ 0.4780],\n",
       "          [ 0.5049],\n",
       "          [ 0.5414]],\n",
       " \n",
       "         [[ 0.3353],\n",
       "          [ 0.3397],\n",
       "          [ 0.3763],\n",
       "          ...,\n",
       "          [-0.7614],\n",
       "          [-0.7634],\n",
       "          [-0.7524]]]))"
      ]
     },
     "execution_count": 4,
     "metadata": {},
     "output_type": "execute_result"
    }
   ],
   "source": [
    "test_one_d_datasets.get_samples(None, None, None)"
   ]
  },
  {
   "cell_type": "code",
   "execution_count": 10,
   "id": "950ab934-44af-49b5-9bba-c3f1c1a6ea93",
   "metadata": {},
   "outputs": [
    {
     "data": {
      "text/plain": [
       "[<matplotlib.lines.Line2D at 0x14805d550>]"
      ]
     },
     "execution_count": 10,
     "metadata": {},
     "output_type": "execute_result"
    },
    {
     "data": {
      "image/png": "[encoded data removed]",
      "text/plain": [
       "<Figure size 640x480 with 1 Axes>"
      ]
     },
     "metadata": {},
     "output_type": "display_data"
    }
   ],
   "source": [
    "X_1, Y_1 = test_one_d_datasets[0]\n",
    "X_2, Y_2 = test_one_d_datasets[1]\n",
    "X_3, Y_3 = test_one_d_datasets[2]\n",
    "X_4, Y_4 = test_one_d_datasets[3]\n",
    "X_5, Y_5 = test_one_d_datasets[4]\n",
    "X_6, Y_6 = test_one_d_datasets[5]\n",
    "X_7, Y_7 = test_one_d_datasets[6]\n",
    "X_8, Y_8 = test_one_d_datasets[7]\n",
    "X_9, Y_9 = test_one_d_datasets[8]\n",
    "X_10, Y_10 = test_one_d_datasets[9]\n",
    "\n",
    "\n",
    "\n",
    "plt.plot(X_1, Y_1)\n",
    "plt.plot(X_2, Y_2)\n",
    "plt.plot(X_3, Y_3)\n",
    "plt.plot(X_4, Y_4)\n",
    "plt.plot(X_5, Y_5)\n",
    "plt.plot(X_6, Y_6)\n",
    "plt.plot(X_7, Y_7)\n",
    "plt.plot(X_8, Y_8)\n",
    "plt.plot(X_9, Y_9)\n",
    "plt.plot(X_10, Y_10)\n"
   ]
  },
  {
   "cell_type": "code",
   "execution_count": 5,
   "id": "45bd8d6d-fe50-45f0-a898-efbfa53700d8",
   "metadata": {},
   "outputs": [],
   "source": [
    "from architecture_classes import *\n",
    "from utils import *\n",
    "import torch\n",
    "\n",
    "\n",
    "class ConditionalNeuralProcess(torch.nn.Module):\n",
    "    \"\"\"\n",
    "    Class defining conditional neural processes for regression problems with arbitrary X-dimension\n",
    "\n",
    "    Parameters\n",
    "    ----------\n",
    "\n",
    "    encoder: module, MLP\n",
    "    decoder: module, MLP\n",
    "    last_decoder_layer_dim: output of last decoder layer\n",
    "    y_dim: output_dimension, int\n",
    "\n",
    "    \"\"\"\n",
    "\n",
    "    def __init__(self, encoder, decoder,last_decoder_layer_dim, y_dim, **kwargs):\n",
    "        super().__init__(**kwargs)\n",
    "        self.encoder = encoder\n",
    "        self.decoder = decoder\n",
    "        self.lastLayer_mu = torch.nn.Linear(last_decoder_layer_dim, y_dim)\n",
    "        self.lastLayer_log_var = torch.nn.Linear(last_decoder_layer_dim, y_dim)\n",
    "        \n",
    "\n",
    "    def forward(self, context_x, context_y, target_x, target_y = None):\n",
    "        full_context = torch.concat([context_x, context_y], dim=-1)\n",
    "\n",
    "        encoder_output = self.encoder(full_context)\n",
    "        encoder_output = torch.mean(encoder_output, dim=1)\n",
    "\n",
    "        encoder_output = encoder_output.unsqueeze(dim=1).tile((1,target_x.shape[1],1))\n",
    "\n",
    "        decoder_input = torch.concat([target_x, encoder_output], dim=-1)\n",
    "\n",
    "        decoder_output = self.decoder(decoder_input)\n",
    "\n",
    "        prediction_mu = self.lastLayer_mu(decoder_output)\n",
    "        prediction_log_var = self.lastLayer_log_var(decoder_output)\n",
    "\n",
    "        prediction_var = 0.1 + 0.9*torch.exp(prediction_log_var/2)\n",
    "\n",
    "        if target_y is not None:\n",
    "\n",
    "            p_y_target = torch.distributions.Normal(prediction_mu, prediction_var)\n",
    "            log_likelihood = p_y_target.log_prob(target_y).mean(dim=0).sum()\n",
    "            return prediction_mu, prediction_var, -log_likelihood\n",
    "            \n",
    "        else:\n",
    "            \n",
    "            return prediction_mu, prediction_var"
   ]
  },
  {
   "cell_type": "code",
   "execution_count": 6,
   "id": "e1ad976d-278c-4573-848c-9591c023b2df",
   "metadata": {},
   "outputs": [],
   "source": [
    "MLP.__doc__"
   ]
  },
  {
   "cell_type": "code",
   "execution_count": 7,
   "id": "27ac4de9-b677-46af-8a99-a4ef541e956b",
   "metadata": {},
   "outputs": [],
   "source": [
    "encoder = MLP(2,[128,128,128,128])\n",
    "decoder = MLP(129,[128,128,128,128])\n",
    "\n",
    "one_d_cnp = ConditionalNeuralProcess(encoder, decoder, 128,1)"
   ]
  },
  {
   "cell_type": "code",
   "execution_count": 8,
   "id": "2aabf784-5aa6-4c1f-9372-42aa644c0db0",
   "metadata": {},
   "outputs": [],
   "source": [
    "dloader = torch.utils.data.DataLoader(dataset= test_one_d_datasets, batch_size=32, shuffle=True)"
   ]
  },
  {
   "cell_type": "code",
   "execution_count": 9,
   "id": "43ec65ad-0c5e-462f-8ba4-92a21f47d5a8",
   "metadata": {},
   "outputs": [],
   "source": [
    "for batch in dloader:\n",
    "    break\n",
    "    "
   ]
  },
  {
   "cell_type": "code",
   "execution_count": 10,
   "id": "05127082-54fa-4810-b2f4-8a716810af71",
   "metadata": {},
   "outputs": [],
   "source": [
    "from utils import *"
   ]
  },
  {
   "cell_type": "code",
   "execution_count": 11,
   "id": "75e48956-56a6-4bb7-8594-42c52f81e53c",
   "metadata": {},
   "outputs": [
    {
     "data": {
      "text/plain": [
       "torch.Size([32, 128])"
      ]
     },
     "execution_count": 11,
     "metadata": {},
     "output_type": "execute_result"
    }
   ],
   "source": [
    "batch[0].shape"
   ]
  },
  {
   "cell_type": "code",
   "execution_count": 211,
   "id": "c7e06a92-8a56-4e29-b343-261175f4a32e",
   "metadata": {},
   "outputs": [
    {
     "data": {
      "text/plain": [
       "torch.Size([32, 128])"
      ]
     },
     "execution_count": 211,
     "metadata": {},
     "output_type": "execute_result"
    }
   ],
   "source": [
    "X.shape"
   ]
  },
  {
   "cell_type": "code",
   "execution_count": 12,
   "id": "42e2826b-0f01-4538-91fb-706925943925",
   "metadata": {},
   "outputs": [],
   "source": [
    "min_context = int(batch[0].shape[1]*0.1)\n",
    "max_context = int(batch[0].shape[1]*0.9)\n",
    "len_seq = int(batch[0].shape[1])\n",
    "\n",
    "(((X_context, Y_context), X_target), Y_target) = context_target_splitter(batch, min_context, max_context, len_seq,1,1)"
   ]
  },
  {
   "cell_type": "code",
   "execution_count": 13,
   "id": "1b032eab-a570-482f-9b9e-b47ee9683c86",
   "metadata": {},
   "outputs": [
    {
     "name": "stderr",
     "output_type": "stream",
     "text": [
      "313it [00:13, 22.59it/s]\n"
     ]
    },
    {
     "name": "stdout",
     "output_type": "stream",
     "text": [
      "tensor(132.5526, grad_fn=<NegBackward0>)\n"
     ]
    },
    {
     "name": "stderr",
     "output_type": "stream",
     "text": [
      "313it [00:13, 23.21it/s]\n"
     ]
    },
    {
     "name": "stdout",
     "output_type": "stream",
     "text": [
      "tensor(102.4432, grad_fn=<NegBackward0>)\n"
     ]
    },
    {
     "name": "stderr",
     "output_type": "stream",
     "text": [
      "313it [00:13, 23.29it/s]\n"
     ]
    },
    {
     "name": "stdout",
     "output_type": "stream",
     "text": [
      "tensor(74.8209, grad_fn=<NegBackward0>)\n"
     ]
    },
    {
     "name": "stderr",
     "output_type": "stream",
     "text": [
      "313it [00:13, 23.12it/s]\n"
     ]
    },
    {
     "name": "stdout",
     "output_type": "stream",
     "text": [
      "tensor(63.0685, grad_fn=<NegBackward0>)\n"
     ]
    },
    {
     "name": "stderr",
     "output_type": "stream",
     "text": [
      "313it [00:13, 23.21it/s]\n"
     ]
    },
    {
     "name": "stdout",
     "output_type": "stream",
     "text": [
      "tensor(42.7811, grad_fn=<NegBackward0>)\n"
     ]
    },
    {
     "name": "stderr",
     "output_type": "stream",
     "text": [
      "313it [00:15, 20.17it/s]\n"
     ]
    },
    {
     "name": "stdout",
     "output_type": "stream",
     "text": [
      "tensor(94.9354, grad_fn=<NegBackward0>)\n"
     ]
    },
    {
     "name": "stderr",
     "output_type": "stream",
     "text": [
      "313it [00:14, 22.34it/s]\n"
     ]
    },
    {
     "name": "stdout",
     "output_type": "stream",
     "text": [
      "tensor(36.3371, grad_fn=<NegBackward0>)\n"
     ]
    },
    {
     "name": "stderr",
     "output_type": "stream",
     "text": [
      "313it [00:14, 21.13it/s]\n"
     ]
    },
    {
     "name": "stdout",
     "output_type": "stream",
     "text": [
      "tensor(-19.9060, grad_fn=<NegBackward0>)\n"
     ]
    },
    {
     "name": "stderr",
     "output_type": "stream",
     "text": [
      "313it [00:14, 21.69it/s]\n"
     ]
    },
    {
     "name": "stdout",
     "output_type": "stream",
     "text": [
      "tensor(102.2810, grad_fn=<NegBackward0>)\n"
     ]
    },
    {
     "name": "stderr",
     "output_type": "stream",
     "text": [
      "313it [00:15, 20.11it/s]\n"
     ]
    },
    {
     "name": "stdout",
     "output_type": "stream",
     "text": [
      "tensor(51.4450, grad_fn=<NegBackward0>)\n"
     ]
    },
    {
     "name": "stderr",
     "output_type": "stream",
     "text": [
      "313it [00:14, 22.19it/s]\n"
     ]
    },
    {
     "name": "stdout",
     "output_type": "stream",
     "text": [
      "tensor(10.2178, grad_fn=<NegBackward0>)\n"
     ]
    },
    {
     "name": "stderr",
     "output_type": "stream",
     "text": [
      "313it [00:14, 21.92it/s]\n"
     ]
    },
    {
     "name": "stdout",
     "output_type": "stream",
     "text": [
      "tensor(54.5021, grad_fn=<NegBackward0>)\n"
     ]
    },
    {
     "name": "stderr",
     "output_type": "stream",
     "text": [
      "313it [00:14, 21.98it/s]\n"
     ]
    },
    {
     "name": "stdout",
     "output_type": "stream",
     "text": [
      "tensor(17.6239, grad_fn=<NegBackward0>)\n"
     ]
    },
    {
     "name": "stderr",
     "output_type": "stream",
     "text": [
      "313it [00:14, 21.50it/s]\n"
     ]
    },
    {
     "name": "stdout",
     "output_type": "stream",
     "text": [
      "tensor(50.5033, grad_fn=<NegBackward0>)\n"
     ]
    },
    {
     "name": "stderr",
     "output_type": "stream",
     "text": [
      "313it [00:14, 21.82it/s]\n"
     ]
    },
    {
     "name": "stdout",
     "output_type": "stream",
     "text": [
      "tensor(23.6471, grad_fn=<NegBackward0>)\n"
     ]
    },
    {
     "name": "stderr",
     "output_type": "stream",
     "text": [
      "313it [00:14, 21.53it/s]\n"
     ]
    },
    {
     "name": "stdout",
     "output_type": "stream",
     "text": [
      "tensor(43.2214, grad_fn=<NegBackward0>)\n"
     ]
    },
    {
     "name": "stderr",
     "output_type": "stream",
     "text": [
      "313it [00:14, 21.93it/s]\n"
     ]
    },
    {
     "name": "stdout",
     "output_type": "stream",
     "text": [
      "tensor(25.7455, grad_fn=<NegBackward0>)\n"
     ]
    },
    {
     "name": "stderr",
     "output_type": "stream",
     "text": [
      "313it [00:14, 21.21it/s]\n"
     ]
    },
    {
     "name": "stdout",
     "output_type": "stream",
     "text": [
      "tensor(-13.9062, grad_fn=<NegBackward0>)\n"
     ]
    },
    {
     "name": "stderr",
     "output_type": "stream",
     "text": [
      "313it [00:14, 21.29it/s]\n"
     ]
    },
    {
     "name": "stdout",
     "output_type": "stream",
     "text": [
      "tensor(-23.6543, grad_fn=<NegBackward0>)\n"
     ]
    },
    {
     "name": "stderr",
     "output_type": "stream",
     "text": [
      "313it [00:14, 21.89it/s]\n"
     ]
    },
    {
     "name": "stdout",
     "output_type": "stream",
     "text": [
      "tensor(51.1643, grad_fn=<NegBackward0>)\n"
     ]
    },
    {
     "name": "stderr",
     "output_type": "stream",
     "text": [
      "313it [00:15, 20.72it/s]\n"
     ]
    },
    {
     "name": "stdout",
     "output_type": "stream",
     "text": [
      "tensor(35.7885, grad_fn=<NegBackward0>)\n"
     ]
    },
    {
     "name": "stderr",
     "output_type": "stream",
     "text": [
      "313it [00:14, 21.61it/s]\n"
     ]
    },
    {
     "name": "stdout",
     "output_type": "stream",
     "text": [
      "tensor(-19.7637, grad_fn=<NegBackward0>)\n"
     ]
    },
    {
     "name": "stderr",
     "output_type": "stream",
     "text": [
      "313it [00:14, 22.27it/s]\n"
     ]
    },
    {
     "name": "stdout",
     "output_type": "stream",
     "text": [
      "tensor(60.1592, grad_fn=<NegBackward0>)\n"
     ]
    },
    {
     "name": "stderr",
     "output_type": "stream",
     "text": [
      "313it [00:15, 20.09it/s]\n"
     ]
    },
    {
     "name": "stdout",
     "output_type": "stream",
     "text": [
      "tensor(111.4902, grad_fn=<NegBackward0>)\n"
     ]
    },
    {
     "name": "stderr",
     "output_type": "stream",
     "text": [
      "313it [00:14, 22.25it/s]\n"
     ]
    },
    {
     "name": "stdout",
     "output_type": "stream",
     "text": [
      "tensor(-24.6465, grad_fn=<NegBackward0>)\n"
     ]
    },
    {
     "name": "stderr",
     "output_type": "stream",
     "text": [
      "313it [00:13, 22.50it/s]\n"
     ]
    },
    {
     "name": "stdout",
     "output_type": "stream",
     "text": [
      "tensor(39.8401, grad_fn=<NegBackward0>)\n"
     ]
    },
    {
     "name": "stderr",
     "output_type": "stream",
     "text": [
      "313it [00:16, 19.43it/s]\n"
     ]
    },
    {
     "name": "stdout",
     "output_type": "stream",
     "text": [
      "tensor(24.0044, grad_fn=<NegBackward0>)\n"
     ]
    },
    {
     "name": "stderr",
     "output_type": "stream",
     "text": [
      "313it [00:14, 22.24it/s]\n"
     ]
    },
    {
     "name": "stdout",
     "output_type": "stream",
     "text": [
      "tensor(34.1375, grad_fn=<NegBackward0>)\n"
     ]
    },
    {
     "name": "stderr",
     "output_type": "stream",
     "text": [
      "313it [00:13, 22.77it/s]\n"
     ]
    },
    {
     "name": "stdout",
     "output_type": "stream",
     "text": [
      "tensor(-3.1581, grad_fn=<NegBackward0>)\n"
     ]
    },
    {
     "name": "stderr",
     "output_type": "stream",
     "text": [
      "313it [00:14, 21.18it/s]\n"
     ]
    },
    {
     "name": "stdout",
     "output_type": "stream",
     "text": [
      "tensor(70.9392, grad_fn=<NegBackward0>)\n"
     ]
    },
    {
     "name": "stderr",
     "output_type": "stream",
     "text": [
      "313it [00:14, 21.17it/s]\n"
     ]
    },
    {
     "name": "stdout",
     "output_type": "stream",
     "text": [
      "tensor(111.2660, grad_fn=<NegBackward0>)\n"
     ]
    },
    {
     "name": "stderr",
     "output_type": "stream",
     "text": [
      "313it [00:16, 18.56it/s]\n"
     ]
    },
    {
     "name": "stdout",
     "output_type": "stream",
     "text": [
      "tensor(-21.6366, grad_fn=<NegBackward0>)\n"
     ]
    },
    {
     "name": "stderr",
     "output_type": "stream",
     "text": [
      "313it [00:13, 22.56it/s]\n"
     ]
    },
    {
     "name": "stdout",
     "output_type": "stream",
     "text": [
      "tensor(21.9296, grad_fn=<NegBackward0>)\n"
     ]
    },
    {
     "name": "stderr",
     "output_type": "stream",
     "text": [
      "313it [00:13, 22.60it/s]\n"
     ]
    },
    {
     "name": "stdout",
     "output_type": "stream",
     "text": [
      "tensor(-37.9281, grad_fn=<NegBackward0>)\n"
     ]
    },
    {
     "name": "stderr",
     "output_type": "stream",
     "text": [
      "313it [00:14, 21.51it/s]\n"
     ]
    },
    {
     "name": "stdout",
     "output_type": "stream",
     "text": [
      "tensor(-8.7886, grad_fn=<NegBackward0>)\n"
     ]
    },
    {
     "name": "stderr",
     "output_type": "stream",
     "text": [
      "313it [00:13, 22.51it/s]\n"
     ]
    },
    {
     "name": "stdout",
     "output_type": "stream",
     "text": [
      "tensor(-50.7104, grad_fn=<NegBackward0>)\n"
     ]
    },
    {
     "name": "stderr",
     "output_type": "stream",
     "text": [
      "313it [00:14, 22.20it/s]\n"
     ]
    },
    {
     "name": "stdout",
     "output_type": "stream",
     "text": [
      "tensor(-13.8717, grad_fn=<NegBackward0>)\n"
     ]
    },
    {
     "name": "stderr",
     "output_type": "stream",
     "text": [
      "313it [00:14, 22.32it/s]\n"
     ]
    },
    {
     "name": "stdout",
     "output_type": "stream",
     "text": [
      "tensor(-17.5682, grad_fn=<NegBackward0>)\n"
     ]
    },
    {
     "name": "stderr",
     "output_type": "stream",
     "text": [
      "313it [00:14, 21.20it/s]\n"
     ]
    },
    {
     "name": "stdout",
     "output_type": "stream",
     "text": [
      "tensor(-14.5205, grad_fn=<NegBackward0>)\n"
     ]
    },
    {
     "name": "stderr",
     "output_type": "stream",
     "text": [
      "313it [00:14, 21.85it/s]\n"
     ]
    },
    {
     "name": "stdout",
     "output_type": "stream",
     "text": [
      "tensor(42.6000, grad_fn=<NegBackward0>)\n"
     ]
    },
    {
     "name": "stderr",
     "output_type": "stream",
     "text": [
      "313it [00:13, 22.56it/s]\n"
     ]
    },
    {
     "name": "stdout",
     "output_type": "stream",
     "text": [
      "tensor(-28.0894, grad_fn=<NegBackward0>)\n"
     ]
    },
    {
     "name": "stderr",
     "output_type": "stream",
     "text": [
      "313it [00:13, 22.60it/s]\n"
     ]
    },
    {
     "name": "stdout",
     "output_type": "stream",
     "text": [
      "tensor(-0.2735, grad_fn=<NegBackward0>)\n"
     ]
    },
    {
     "name": "stderr",
     "output_type": "stream",
     "text": [
      "313it [00:14, 22.29it/s]\n"
     ]
    },
    {
     "name": "stdout",
     "output_type": "stream",
     "text": [
      "tensor(-18.9383, grad_fn=<NegBackward0>)\n"
     ]
    },
    {
     "name": "stderr",
     "output_type": "stream",
     "text": [
      "313it [00:14, 21.95it/s]\n"
     ]
    },
    {
     "name": "stdout",
     "output_type": "stream",
     "text": [
      "tensor(-11.6628, grad_fn=<NegBackward0>)\n"
     ]
    },
    {
     "name": "stderr",
     "output_type": "stream",
     "text": [
      "313it [00:13, 22.57it/s]\n"
     ]
    },
    {
     "name": "stdout",
     "output_type": "stream",
     "text": [
      "tensor(-9.5787, grad_fn=<NegBackward0>)\n"
     ]
    },
    {
     "name": "stderr",
     "output_type": "stream",
     "text": [
      "313it [00:13, 22.82it/s]\n"
     ]
    },
    {
     "name": "stdout",
     "output_type": "stream",
     "text": [
      "tensor(-65.4481, grad_fn=<NegBackward0>)\n"
     ]
    },
    {
     "name": "stderr",
     "output_type": "stream",
     "text": [
      "313it [00:15, 20.52it/s]\n"
     ]
    },
    {
     "name": "stdout",
     "output_type": "stream",
     "text": [
      "tensor(28.4328, grad_fn=<NegBackward0>)\n"
     ]
    },
    {
     "name": "stderr",
     "output_type": "stream",
     "text": [
      "313it [00:15, 20.79it/s]\n"
     ]
    },
    {
     "name": "stdout",
     "output_type": "stream",
     "text": [
      "tensor(-27.8763, grad_fn=<NegBackward0>)\n"
     ]
    },
    {
     "name": "stderr",
     "output_type": "stream",
     "text": [
      "313it [00:14, 21.53it/s]\n"
     ]
    },
    {
     "name": "stdout",
     "output_type": "stream",
     "text": [
      "tensor(35.4127, grad_fn=<NegBackward0>)\n"
     ]
    },
    {
     "name": "stderr",
     "output_type": "stream",
     "text": [
      "313it [00:13, 22.46it/s]"
     ]
    },
    {
     "name": "stdout",
     "output_type": "stream",
     "text": [
      "tensor(-41.6821, grad_fn=<NegBackward0>)\n"
     ]
    },
    {
     "name": "stderr",
     "output_type": "stream",
     "text": [
      "\n"
     ]
    }
   ],
   "source": [
    "from tqdm import tqdm\n",
    "from tensorboardX import SummaryWriter\n",
    "\n",
    "\n",
    "EPOCHS=50\n",
    "one_d_cnp.train()\n",
    "optim = torch.optim.Adam(one_d_cnp.parameters(), lr = 1e-3)\n",
    "writer = SummaryWriter()\n",
    "\n",
    "global_step = 0\n",
    "\n",
    "\n",
    "for epoch in range(EPOCHS):\n",
    "    loader = torch.utils.data.DataLoader(test_one_d_datasets, batch_size=32, shuffle=True)\n",
    "    for i, batch in tqdm(enumerate(loader)):\n",
    "        \n",
    "        global_step+=1\n",
    "        (((x_context, y_context), x_target), y_target) = context_target_splitter(batch, min_context, max_context, len_seq,1,1)\n",
    "        #adjust_learning_rate(optim, global_step)\n",
    "        \n",
    "        y_pred_mu,y_pred_var, loss = one_d_cnp(x_context, y_context, x_target, y_target)\n",
    "\n",
    "        optim.zero_grad()\n",
    "        loss.backward()\n",
    "        optim.step()\n",
    "\n",
    "        writer.add_scalars('training_loss',{\n",
    "                    'loss':loss,\n",
    "                }, global_step)\n",
    "\n",
    "    print(loss)"
   ]
  },
  {
   "cell_type": "code",
   "execution_count": 169,
   "id": "7ec2d6e7-99a4-4233-ab28-341a16a110fb",
   "metadata": {},
   "outputs": [
    {
     "name": "stderr",
     "output_type": "stream",
     "text": [
      "0it [00:00, ?it/s]\n"
     ]
    }
   ],
   "source": [
    "for i, batch in tqdm(enumerate(loader)):\n",
    "        \n",
    "    #global_step+=1\n",
    "    (((x_context, y_context), x_target), y_target) = context_target_splitter(batch, min_context, max_context, len_seq,1,1)\n",
    "    break"
   ]
  },
  {
   "cell_type": "code",
   "execution_count": 170,
   "id": "d8f93c65-52ff-436a-87c2-ede1c2d3ac00",
   "metadata": {},
   "outputs": [],
   "source": [
    "mu, var, likelihood = one_d_cnp(x_context, y_context, x_target, y_target)"
   ]
  },
  {
   "cell_type": "code",
   "execution_count": 171,
   "id": "d865ebf4-0a05-4912-9d6b-940baa8f974f",
   "metadata": {},
   "outputs": [
    {
     "data": {
      "text/plain": [
       "torch.Size([32, 128, 1])"
      ]
     },
     "execution_count": 171,
     "metadata": {},
     "output_type": "execute_result"
    }
   ],
   "source": [
    "mu.shape"
   ]
  },
  {
   "cell_type": "code",
   "execution_count": 172,
   "id": "6b2b4f26-353a-48bd-95a3-2239864d6ace",
   "metadata": {},
   "outputs": [],
   "source": [
    "X, Y = batch"
   ]
  },
  {
   "cell_type": "code",
   "execution_count": 176,
   "id": "d9dba33b-7243-4f81-b05f-c4dcdc692902",
   "metadata": {},
   "outputs": [
    {
     "data": {
      "text/plain": [
       "array([[0.17557642],\n",
       "       [0.29102543],\n",
       "       [0.16719854],\n",
       "       [0.18447839],\n",
       "       [0.1885558 ],\n",
       "       [0.15222767],\n",
       "       [0.16774908],\n",
       "       [0.2819066 ],\n",
       "       [0.19344184],\n",
       "       [0.27510706],\n",
       "       [0.17154887],\n",
       "       [0.2126705 ],\n",
       "       [0.28238097],\n",
       "       [0.22977251],\n",
       "       [0.21328272],\n",
       "       [0.16345209],\n",
       "       [0.1853388 ],\n",
       "       [0.1623535 ],\n",
       "       [0.2919467 ],\n",
       "       [0.43638363],\n",
       "       [0.17544883],\n",
       "       [0.18538836],\n",
       "       [0.17262137],\n",
       "       [0.21897721],\n",
       "       [0.1529966 ],\n",
       "       [0.16025054],\n",
       "       [0.29526463],\n",
       "       [0.19141233],\n",
       "       [0.15224722],\n",
       "       [0.23650831],\n",
       "       [0.27058324],\n",
       "       [0.22452986],\n",
       "       [0.34837708],\n",
       "       [0.19101822],\n",
       "       [0.1934185 ],\n",
       "       [0.15496537],\n",
       "       [0.19441104],\n",
       "       [0.17804557],\n",
       "       [0.16076815],\n",
       "       [0.27061376],\n",
       "       [0.17056651],\n",
       "       [0.21730782],\n",
       "       [0.2668576 ],\n",
       "       [0.15537103],\n",
       "       [0.20486948],\n",
       "       [0.15920135],\n",
       "       [0.19100666],\n",
       "       [0.15895131],\n",
       "       [0.19369745],\n",
       "       [0.15334074],\n",
       "       [0.19355553],\n",
       "       [0.16617218],\n",
       "       [0.1881586 ],\n",
       "       [0.40152884],\n",
       "       [0.19711015],\n",
       "       [0.19538128],\n",
       "       [0.23167565],\n",
       "       [0.17626064],\n",
       "       [0.3426181 ],\n",
       "       [0.16355053],\n",
       "       [0.30197424],\n",
       "       [0.19412497],\n",
       "       [0.41839093],\n",
       "       [0.19133742],\n",
       "       [0.3871911 ],\n",
       "       [0.1549401 ],\n",
       "       [0.16729718],\n",
       "       [0.31867585],\n",
       "       [0.2882746 ],\n",
       "       [0.15543489],\n",
       "       [0.2702848 ],\n",
       "       [0.38312617],\n",
       "       [0.19358772],\n",
       "       [0.4035384 ],\n",
       "       [0.1535841 ],\n",
       "       [0.16626343],\n",
       "       [0.42984852],\n",
       "       [0.23859248],\n",
       "       [0.31488615],\n",
       "       [0.4279454 ],\n",
       "       [0.21894068],\n",
       "       [0.32145754],\n",
       "       [0.15261841],\n",
       "       [0.1839492 ],\n",
       "       [0.15243858],\n",
       "       [0.2691638 ],\n",
       "       [0.19708607],\n",
       "       [0.3577055 ],\n",
       "       [0.19342375],\n",
       "       [0.15553695],\n",
       "       [0.34370938],\n",
       "       [0.15700386],\n",
       "       [0.16974916],\n",
       "       [0.18848562],\n",
       "       [0.25850853],\n",
       "       [0.2723377 ],\n",
       "       [0.30920276],\n",
       "       [0.30313814],\n",
       "       [0.22836736],\n",
       "       [0.41088918],\n",
       "       [0.19414717],\n",
       "       [0.17738414],\n",
       "       [0.16455916],\n",
       "       [0.3000171 ],\n",
       "       [0.15856685],\n",
       "       [0.21031308],\n",
       "       [0.4226485 ],\n",
       "       [0.1706034 ],\n",
       "       [0.15550232],\n",
       "       [0.19265318],\n",
       "       [0.2957962 ],\n",
       "       [0.40152124],\n",
       "       [0.30556762],\n",
       "       [0.17929786],\n",
       "       [0.19513613],\n",
       "       [0.3079729 ],\n",
       "       [0.15234393],\n",
       "       [0.17037636],\n",
       "       [0.19381794],\n",
       "       [0.15712243],\n",
       "       [0.26078427],\n",
       "       [0.18851101],\n",
       "       [0.2946494 ],\n",
       "       [0.28483972],\n",
       "       [0.26364085],\n",
       "       [0.28419253],\n",
       "       [0.31432697],\n",
       "       [0.19518393]], dtype=float32)"
      ]
     },
     "execution_count": 176,
     "metadata": {},
     "output_type": "execute_result"
    }
   ],
   "source": [
    "var.detach().numpy()[1]"
   ]
  },
  {
   "cell_type": "code",
   "execution_count": 182,
   "id": "fc004e96-0cdd-4a9d-90a0-fb17ffd9404e",
   "metadata": {},
   "outputs": [
    {
     "data": {
      "text/plain": [
       "array([ 2.0552742 , -0.37549967,  1.1335652 ,  1.4157851 ,  1.473809  ,\n",
       "        1.6562665 ,  1.022675  , -0.39181116,  0.8061539 ,  0.06255803,\n",
       "        0.8456936 ,  0.72622067, -0.02519497,  1.452662  ,  0.5183983 ,\n",
       "        0.8578848 ,  1.4283421 ,  0.8593168 , -0.3368014 ,  0.15559635,\n",
       "        1.2493672 ,  0.8373064 ,  1.2207282 ,  1.471851  ,  1.759893  ,\n",
       "        0.8407397 ,  0.27865288,  0.7854787 ,  1.6611282 ,  1.8544056 ,\n",
       "       -0.44188872,  1.8934242 , -0.55375504,  1.5312934 ,  0.8026949 ,\n",
       "        1.868442  ,  0.97326183,  1.3152754 ,  1.4464105 , -0.3998016 ,\n",
       "        1.2448841 ,  1.9187515 , -0.41078007,  1.9044079 ,  1.4998455 ,\n",
       "        2.1225293 ,  1.5312967 ,  1.4725461 ,  0.75524986,  1.7765019 ,\n",
       "        0.8265416 ,  1.3493004 ,  2.017856  ,  1.0276463 ,  0.9205544 ,\n",
       "        0.8737879 ,  1.4495307 ,  2.0534115 , -0.5055543 ,  1.0745367 ,\n",
       "        1.6100266 ,  0.85627127,  0.7696424 ,  0.7798436 , -0.07600802,\n",
       "        1.8670268 ,  1.0268745 , -0.24384008, -0.37777904,  1.910574  ,\n",
       "       -0.40071005, -0.08728614,  1.5296845 , -0.74281883,  1.7972697 ,\n",
       "        1.3441488 ,  0.08859852,  1.437711  ,  0.01297629,  0.6430366 ,\n",
       "        1.912929  , -0.34304637,  1.7268752 ,  0.8492619 ,  1.6963508 ,\n",
       "        0.49644262,  0.9443561 ,  1.3734101 ,  0.8034663 ,  1.5228798 ,\n",
       "        1.4446161 ,  2.0428197 ,  1.1685094 ,  1.4721285 ,  1.7837545 ,\n",
       "       -0.43515414, -0.16345656,  0.21800292,  0.6828762 ,  0.8859879 ,\n",
       "        0.7572023 ,  1.164004  ,  1.0529627 , -0.26614112,  2.120239  ,\n",
       "        1.4896203 ,  0.71148366,  0.9945345 ,  1.9170802 ,  0.76991665,\n",
       "        0.27453265, -0.03446621,  0.19722903,  0.82167214,  0.8692122 ,\n",
       "       -0.2695222 ,  1.6802378 ,  1.2471747 ,  0.8525703 ,  2.0500405 ,\n",
       "       -0.4305623 ,  0.81066036,  1.639166  ,  0.36000422, -0.42113835,\n",
       "       -0.04848209, -0.04431629,  0.869837  ], dtype=float32)"
      ]
     },
     "execution_count": 182,
     "metadata": {},
     "output_type": "execute_result"
    }
   ],
   "source": [
    "(mu.detach().numpy()[1]-var.detach().numpy()[1]).reshape(128,)"
   ]
  },
  {
   "cell_type": "code",
   "execution_count": 185,
   "id": "7d176803-1389-45ed-a86e-6579b4804f72",
   "metadata": {},
   "outputs": [
    {
     "data": {
      "text/plain": [
       "<matplotlib.collections.PathCollection at 0x14faf4d50>"
      ]
     },
     "execution_count": 185,
     "metadata": {},
     "output_type": "execute_result"
    },
    {
     "data": {
      "image/png": "[encoded data removed]",
      "text/plain": [
       "<Figure size 640x480 with 1 Axes>"
      ]
     },
     "metadata": {},
     "output_type": "display_data"
    }
   ],
   "source": [
    "plt.plot(X[1], Y[1])\n",
    "plt.scatter(x_context[1], y_context[1])\n",
    "\n",
    "plt.scatter(x_target[1], mu.detach().numpy()[1])\n",
    "plt.scatter(x_target[1].squeeze(), (mu.detach().numpy()[1]-var.detach().numpy()[1]).reshape(128,))\n",
    "plt.scatter(x_target[1], (mu.detach().numpy()[1]+var.detach().numpy()[1]).reshape(128,))\n"
   ]
  },
  {
   "cell_type": "code",
   "execution_count": 188,
   "id": "d110ba66-cc2a-438d-8e45-0b30c1a2c792",
   "metadata": {},
   "outputs": [
    {
     "data": {
      "text/plain": [
       "<matplotlib.collections.PathCollection at 0x14fcc8090>"
      ]
     },
     "execution_count": 188,
     "metadata": {},
     "output_type": "execute_result"
    },
    {
     "data": {
      "image/png": "[encoded data removed]",
      "text/plain": [
       "<Figure size 640x480 with 1 Axes>"
      ]
     },
     "metadata": {},
     "output_type": "display_data"
    }
   ],
   "source": [
    "plt.plot(X[3], Y[3])\n",
    "plt.scatter(x_context[3], y_context[3])\n",
    "\n",
    "plt.scatter(x_target[3], mu.detach().numpy()[3])\n",
    "plt.scatter(x_target[3].squeeze(), (mu.detach().numpy()[3]-var.detach().numpy()[3]).reshape(128,))\n",
    "plt.scatter(x_target[3], (mu.detach().numpy()[3]+var.detach().numpy()[3]).reshape(128,))\n"
   ]
  },
  {
   "cell_type": "code",
   "execution_count": 83,
   "id": "c6f2d2cf-1e7d-4cc7-a65c-acfbe4aaeced",
   "metadata": {},
   "outputs": [],
   "source": [
    "encoder_output = one_d_cnp.encoder(torch.concat([X_context, Y_context], dim=-1))"
   ]
  },
  {
   "cell_type": "code",
   "execution_count": 84,
   "id": "2f7b321b-4029-4a4d-b089-44bb5d0770fc",
   "metadata": {},
   "outputs": [
    {
     "data": {
      "text/plain": [
       "torch.Size([32, 101, 128])"
      ]
     },
     "execution_count": 84,
     "metadata": {},
     "output_type": "execute_result"
    }
   ],
   "source": [
    "encoder_output.shape"
   ]
  },
  {
   "cell_type": "code",
   "execution_count": 85,
   "id": "35957451-d1a3-49a1-9e7a-099de3a77025",
   "metadata": {},
   "outputs": [],
   "source": [
    "encoder_output = torch.mean(encoder_output, dim=1)\n",
    "\n",
    "encoder_output = encoder_output.unsqueeze(dim=1).tile((1,X_target.shape[1],1))\n",
    "\n",
    "decoder_input = torch.concat([X_target, encoder_output], dim=-1)\n",
    "\n",
    "decoder_output = one_d_cnp.decoder(decoder_input)\n",
    "\n",
    "prediction_mu = one_d_cnp.lastLayer_mu(decoder_output)\n",
    "prediction_log_var = one_d_cnp.lastLayer_log_var(decoder_output)"
   ]
  },
  {
   "cell_type": "code",
   "execution_count": 88,
   "id": "320b1be9-eba0-4051-9de3-5dd9ce3009b5",
   "metadata": {},
   "outputs": [
    {
     "data": {
      "text/plain": [
       "torch.Size([32, 27, 1])"
      ]
     },
     "execution_count": 88,
     "metadata": {},
     "output_type": "execute_result"
    }
   ],
   "source": [
    "prediction_mu.shape"
   ]
  },
  {
   "cell_type": "code",
   "execution_count": 89,
   "id": "4116ad3d-e57b-4916-9c09-b365199380c2",
   "metadata": {},
   "outputs": [],
   "source": [
    "prediction_var = 0.1 + 0.9*torch.exp(prediction_log_var/2)"
   ]
  },
  {
   "cell_type": "code",
   "execution_count": 90,
   "id": "0b7dc8c5-9874-4e25-9d78-c869432b8515",
   "metadata": {
    "scrolled": true
   },
   "outputs": [
    {
     "data": {
      "text/plain": [
       "tensor([[[0.9820],\n",
       "         [0.9824],\n",
       "         [0.9825],\n",
       "         [0.9824],\n",
       "         [0.9826],\n",
       "         [0.9825],\n",
       "         [0.9825],\n",
       "         [0.9823],\n",
       "         [0.9823],\n",
       "         [0.9824],\n",
       "         [0.9826],\n",
       "         [0.9826],\n",
       "         [0.9822],\n",
       "         [0.9824],\n",
       "         [0.9813],\n",
       "         [0.9808],\n",
       "         [0.9820],\n",
       "         [0.9825],\n",
       "         [0.9824],\n",
       "         [0.9824],\n",
       "         [0.9824],\n",
       "         [0.9825],\n",
       "         [0.9825],\n",
       "         [0.9825],\n",
       "         [0.9824],\n",
       "         [0.9825],\n",
       "         [0.9823]],\n",
       "\n",
       "        [[0.9805],\n",
       "         [0.9810],\n",
       "         [0.9823],\n",
       "         [0.9809],\n",
       "         [0.9824],\n",
       "         [0.9825],\n",
       "         [0.9819],\n",
       "         [0.9826],\n",
       "         [0.9826],\n",
       "         [0.9825],\n",
       "         [0.9825],\n",
       "         [0.9824],\n",
       "         [0.9826],\n",
       "         [0.9825],\n",
       "         [0.9817],\n",
       "         [0.9825],\n",
       "         [0.9824],\n",
       "         [0.9821],\n",
       "         [0.9822],\n",
       "         [0.9818],\n",
       "         [0.9826],\n",
       "         [0.9826],\n",
       "         [0.9824],\n",
       "         [0.9823],\n",
       "         [0.9823],\n",
       "         [0.9807],\n",
       "         [0.9826]],\n",
       "\n",
       "        [[0.9824],\n",
       "         [0.9826],\n",
       "         [0.9817],\n",
       "         [0.9822],\n",
       "         [0.9824],\n",
       "         [0.9825],\n",
       "         [0.9810],\n",
       "         [0.9825],\n",
       "         [0.9824],\n",
       "         [0.9823],\n",
       "         [0.9823],\n",
       "         [0.9822],\n",
       "         [0.9819],\n",
       "         [0.9809],\n",
       "         [0.9822],\n",
       "         [0.9821],\n",
       "         [0.9819],\n",
       "         [0.9821],\n",
       "         [0.9826],\n",
       "         [0.9808],\n",
       "         [0.9826],\n",
       "         [0.9824],\n",
       "         [0.9815],\n",
       "         [0.9813],\n",
       "         [0.9824],\n",
       "         [0.9823],\n",
       "         [0.9825]],\n",
       "\n",
       "        [[0.9817],\n",
       "         [0.9809],\n",
       "         [0.9823],\n",
       "         [0.9824],\n",
       "         [0.9827],\n",
       "         [0.9826],\n",
       "         [0.9822],\n",
       "         [0.9825],\n",
       "         [0.9826],\n",
       "         [0.9822],\n",
       "         [0.9826],\n",
       "         [0.9821],\n",
       "         [0.9827],\n",
       "         [0.9825],\n",
       "         [0.9827],\n",
       "         [0.9807],\n",
       "         [0.9825],\n",
       "         [0.9826],\n",
       "         [0.9823],\n",
       "         [0.9827],\n",
       "         [0.9821],\n",
       "         [0.9821],\n",
       "         [0.9827],\n",
       "         [0.9825],\n",
       "         [0.9815],\n",
       "         [0.9825],\n",
       "         [0.9822]],\n",
       "\n",
       "        [[0.9812],\n",
       "         [0.9814],\n",
       "         [0.9825],\n",
       "         [0.9826],\n",
       "         [0.9823],\n",
       "         [0.9821],\n",
       "         [0.9815],\n",
       "         [0.9818],\n",
       "         [0.9808],\n",
       "         [0.9826],\n",
       "         [0.9821],\n",
       "         [0.9815],\n",
       "         [0.9825],\n",
       "         [0.9821],\n",
       "         [0.9809],\n",
       "         [0.9822],\n",
       "         [0.9825],\n",
       "         [0.9815],\n",
       "         [0.9827],\n",
       "         [0.9818],\n",
       "         [0.9821],\n",
       "         [0.9824],\n",
       "         [0.9811],\n",
       "         [0.9812],\n",
       "         [0.9820],\n",
       "         [0.9824],\n",
       "         [0.9827]],\n",
       "\n",
       "        [[0.9822],\n",
       "         [0.9825],\n",
       "         [0.9827],\n",
       "         [0.9827],\n",
       "         [0.9826],\n",
       "         [0.9815],\n",
       "         [0.9822],\n",
       "         [0.9822],\n",
       "         [0.9826],\n",
       "         [0.9819],\n",
       "         [0.9816],\n",
       "         [0.9825],\n",
       "         [0.9807],\n",
       "         [0.9820],\n",
       "         [0.9825],\n",
       "         [0.9822],\n",
       "         [0.9827],\n",
       "         [0.9826],\n",
       "         [0.9825],\n",
       "         [0.9826],\n",
       "         [0.9824],\n",
       "         [0.9827],\n",
       "         [0.9825],\n",
       "         [0.9824],\n",
       "         [0.9821],\n",
       "         [0.9810],\n",
       "         [0.9825]],\n",
       "\n",
       "        [[0.9822],\n",
       "         [0.9825],\n",
       "         [0.9819],\n",
       "         [0.9824],\n",
       "         [0.9814],\n",
       "         [0.9826],\n",
       "         [0.9826],\n",
       "         [0.9826],\n",
       "         [0.9822],\n",
       "         [0.9825],\n",
       "         [0.9822],\n",
       "         [0.9822],\n",
       "         [0.9823],\n",
       "         [0.9822],\n",
       "         [0.9822],\n",
       "         [0.9826],\n",
       "         [0.9822],\n",
       "         [0.9827],\n",
       "         [0.9808],\n",
       "         [0.9825],\n",
       "         [0.9810],\n",
       "         [0.9810],\n",
       "         [0.9825],\n",
       "         [0.9813],\n",
       "         [0.9806],\n",
       "         [0.9825],\n",
       "         [0.9825]],\n",
       "\n",
       "        [[0.9822],\n",
       "         [0.9826],\n",
       "         [0.9805],\n",
       "         [0.9812],\n",
       "         [0.9824],\n",
       "         [0.9825],\n",
       "         [0.9823],\n",
       "         [0.9825],\n",
       "         [0.9813],\n",
       "         [0.9826],\n",
       "         [0.9825],\n",
       "         [0.9825],\n",
       "         [0.9825],\n",
       "         [0.9824],\n",
       "         [0.9819],\n",
       "         [0.9817],\n",
       "         [0.9819],\n",
       "         [0.9805],\n",
       "         [0.9814],\n",
       "         [0.9808],\n",
       "         [0.9811],\n",
       "         [0.9822],\n",
       "         [0.9825],\n",
       "         [0.9823],\n",
       "         [0.9809],\n",
       "         [0.9805],\n",
       "         [0.9825]],\n",
       "\n",
       "        [[0.9824],\n",
       "         [0.9818],\n",
       "         [0.9822],\n",
       "         [0.9817],\n",
       "         [0.9825],\n",
       "         [0.9824],\n",
       "         [0.9821],\n",
       "         [0.9826],\n",
       "         [0.9826],\n",
       "         [0.9816],\n",
       "         [0.9809],\n",
       "         [0.9807],\n",
       "         [0.9819],\n",
       "         [0.9815],\n",
       "         [0.9813],\n",
       "         [0.9819],\n",
       "         [0.9820],\n",
       "         [0.9817],\n",
       "         [0.9823],\n",
       "         [0.9823],\n",
       "         [0.9808],\n",
       "         [0.9826],\n",
       "         [0.9824],\n",
       "         [0.9825],\n",
       "         [0.9815],\n",
       "         [0.9811],\n",
       "         [0.9807]],\n",
       "\n",
       "        [[0.9808],\n",
       "         [0.9826],\n",
       "         [0.9822],\n",
       "         [0.9822],\n",
       "         [0.9825],\n",
       "         [0.9821],\n",
       "         [0.9825],\n",
       "         [0.9822],\n",
       "         [0.9811],\n",
       "         [0.9821],\n",
       "         [0.9825],\n",
       "         [0.9825],\n",
       "         [0.9825],\n",
       "         [0.9809],\n",
       "         [0.9823],\n",
       "         [0.9826],\n",
       "         [0.9824],\n",
       "         [0.9825],\n",
       "         [0.9825],\n",
       "         [0.9819],\n",
       "         [0.9826],\n",
       "         [0.9826],\n",
       "         [0.9807],\n",
       "         [0.9823],\n",
       "         [0.9814],\n",
       "         [0.9825],\n",
       "         [0.9824]],\n",
       "\n",
       "        [[0.9822],\n",
       "         [0.9820],\n",
       "         [0.9812],\n",
       "         [0.9810],\n",
       "         [0.9822],\n",
       "         [0.9807],\n",
       "         [0.9825],\n",
       "         [0.9824],\n",
       "         [0.9818],\n",
       "         [0.9825],\n",
       "         [0.9817],\n",
       "         [0.9820],\n",
       "         [0.9814],\n",
       "         [0.9825],\n",
       "         [0.9822],\n",
       "         [0.9822],\n",
       "         [0.9825],\n",
       "         [0.9822],\n",
       "         [0.9824],\n",
       "         [0.9825],\n",
       "         [0.9805],\n",
       "         [0.9811],\n",
       "         [0.9824],\n",
       "         [0.9820],\n",
       "         [0.9820],\n",
       "         [0.9807],\n",
       "         [0.9822]],\n",
       "\n",
       "        [[0.9822],\n",
       "         [0.9825],\n",
       "         [0.9822],\n",
       "         [0.9827],\n",
       "         [0.9815],\n",
       "         [0.9827],\n",
       "         [0.9824],\n",
       "         [0.9809],\n",
       "         [0.9815],\n",
       "         [0.9823],\n",
       "         [0.9816],\n",
       "         [0.9814],\n",
       "         [0.9824],\n",
       "         [0.9816],\n",
       "         [0.9825],\n",
       "         [0.9805],\n",
       "         [0.9811],\n",
       "         [0.9824],\n",
       "         [0.9827],\n",
       "         [0.9826],\n",
       "         [0.9825],\n",
       "         [0.9826],\n",
       "         [0.9821],\n",
       "         [0.9823],\n",
       "         [0.9817],\n",
       "         [0.9827],\n",
       "         [0.9820]],\n",
       "\n",
       "        [[0.9825],\n",
       "         [0.9824],\n",
       "         [0.9821],\n",
       "         [0.9825],\n",
       "         [0.9825],\n",
       "         [0.9811],\n",
       "         [0.9825],\n",
       "         [0.9817],\n",
       "         [0.9826],\n",
       "         [0.9826],\n",
       "         [0.9827],\n",
       "         [0.9826],\n",
       "         [0.9812],\n",
       "         [0.9827],\n",
       "         [0.9822],\n",
       "         [0.9819],\n",
       "         [0.9825],\n",
       "         [0.9824],\n",
       "         [0.9827],\n",
       "         [0.9826],\n",
       "         [0.9818],\n",
       "         [0.9819],\n",
       "         [0.9827],\n",
       "         [0.9824],\n",
       "         [0.9823],\n",
       "         [0.9807],\n",
       "         [0.9826]],\n",
       "\n",
       "        [[0.9813],\n",
       "         [0.9807],\n",
       "         [0.9821],\n",
       "         [0.9816],\n",
       "         [0.9823],\n",
       "         [0.9819],\n",
       "         [0.9826],\n",
       "         [0.9818],\n",
       "         [0.9808],\n",
       "         [0.9810],\n",
       "         [0.9828],\n",
       "         [0.9825],\n",
       "         [0.9825],\n",
       "         [0.9828],\n",
       "         [0.9809],\n",
       "         [0.9826],\n",
       "         [0.9818],\n",
       "         [0.9825],\n",
       "         [0.9821],\n",
       "         [0.9828],\n",
       "         [0.9823],\n",
       "         [0.9828],\n",
       "         [0.9814],\n",
       "         [0.9821],\n",
       "         [0.9813],\n",
       "         [0.9808],\n",
       "         [0.9813]],\n",
       "\n",
       "        [[0.9814],\n",
       "         [0.9821],\n",
       "         [0.9823],\n",
       "         [0.9825],\n",
       "         [0.9823],\n",
       "         [0.9813],\n",
       "         [0.9811],\n",
       "         [0.9822],\n",
       "         [0.9811],\n",
       "         [0.9823],\n",
       "         [0.9824],\n",
       "         [0.9822],\n",
       "         [0.9811],\n",
       "         [0.9825],\n",
       "         [0.9810],\n",
       "         [0.9823],\n",
       "         [0.9824],\n",
       "         [0.9819],\n",
       "         [0.9815],\n",
       "         [0.9815],\n",
       "         [0.9823],\n",
       "         [0.9823],\n",
       "         [0.9821],\n",
       "         [0.9825],\n",
       "         [0.9825],\n",
       "         [0.9822],\n",
       "         [0.9825]],\n",
       "\n",
       "        [[0.9821],\n",
       "         [0.9826],\n",
       "         [0.9828],\n",
       "         [0.9823],\n",
       "         [0.9823],\n",
       "         [0.9828],\n",
       "         [0.9825],\n",
       "         [0.9825],\n",
       "         [0.9825],\n",
       "         [0.9810],\n",
       "         [0.9827],\n",
       "         [0.9827],\n",
       "         [0.9825],\n",
       "         [0.9818],\n",
       "         [0.9826],\n",
       "         [0.9814],\n",
       "         [0.9824],\n",
       "         [0.9823],\n",
       "         [0.9828],\n",
       "         [0.9808],\n",
       "         [0.9825],\n",
       "         [0.9827],\n",
       "         [0.9824],\n",
       "         [0.9822],\n",
       "         [0.9823],\n",
       "         [0.9825],\n",
       "         [0.9825]],\n",
       "\n",
       "        [[0.9823],\n",
       "         [0.9815],\n",
       "         [0.9827],\n",
       "         [0.9814],\n",
       "         [0.9826],\n",
       "         [0.9820],\n",
       "         [0.9808],\n",
       "         [0.9825],\n",
       "         [0.9824],\n",
       "         [0.9815],\n",
       "         [0.9816],\n",
       "         [0.9826],\n",
       "         [0.9811],\n",
       "         [0.9824],\n",
       "         [0.9826],\n",
       "         [0.9826],\n",
       "         [0.9809],\n",
       "         [0.9806],\n",
       "         [0.9806],\n",
       "         [0.9809],\n",
       "         [0.9826],\n",
       "         [0.9825],\n",
       "         [0.9826],\n",
       "         [0.9810],\n",
       "         [0.9825],\n",
       "         [0.9810],\n",
       "         [0.9814]],\n",
       "\n",
       "        [[0.9807],\n",
       "         [0.9825],\n",
       "         [0.9816],\n",
       "         [0.9827],\n",
       "         [0.9825],\n",
       "         [0.9810],\n",
       "         [0.9826],\n",
       "         [0.9825],\n",
       "         [0.9805],\n",
       "         [0.9823],\n",
       "         [0.9824],\n",
       "         [0.9808],\n",
       "         [0.9826],\n",
       "         [0.9810],\n",
       "         [0.9825],\n",
       "         [0.9825],\n",
       "         [0.9825],\n",
       "         [0.9821],\n",
       "         [0.9825],\n",
       "         [0.9825],\n",
       "         [0.9827],\n",
       "         [0.9827],\n",
       "         [0.9825],\n",
       "         [0.9823],\n",
       "         [0.9811],\n",
       "         [0.9824],\n",
       "         [0.9822]],\n",
       "\n",
       "        [[0.9808],\n",
       "         [0.9808],\n",
       "         [0.9828],\n",
       "         [0.9813],\n",
       "         [0.9825],\n",
       "         [0.9827],\n",
       "         [0.9813],\n",
       "         [0.9826],\n",
       "         [0.9824],\n",
       "         [0.9807],\n",
       "         [0.9827],\n",
       "         [0.9823],\n",
       "         [0.9826],\n",
       "         [0.9806],\n",
       "         [0.9812],\n",
       "         [0.9824],\n",
       "         [0.9827],\n",
       "         [0.9823],\n",
       "         [0.9806],\n",
       "         [0.9820],\n",
       "         [0.9805],\n",
       "         [0.9822],\n",
       "         [0.9825],\n",
       "         [0.9815],\n",
       "         [0.9826],\n",
       "         [0.9824],\n",
       "         [0.9824]],\n",
       "\n",
       "        [[0.9825],\n",
       "         [0.9826],\n",
       "         [0.9821],\n",
       "         [0.9827],\n",
       "         [0.9820],\n",
       "         [0.9826],\n",
       "         [0.9824],\n",
       "         [0.9825],\n",
       "         [0.9824],\n",
       "         [0.9826],\n",
       "         [0.9811],\n",
       "         [0.9813],\n",
       "         [0.9825],\n",
       "         [0.9826],\n",
       "         [0.9822],\n",
       "         [0.9823],\n",
       "         [0.9823],\n",
       "         [0.9826],\n",
       "         [0.9826],\n",
       "         [0.9819],\n",
       "         [0.9824],\n",
       "         [0.9825],\n",
       "         [0.9825],\n",
       "         [0.9819],\n",
       "         [0.9826],\n",
       "         [0.9815],\n",
       "         [0.9815]],\n",
       "\n",
       "        [[0.9808],\n",
       "         [0.9821],\n",
       "         [0.9827],\n",
       "         [0.9826],\n",
       "         [0.9817],\n",
       "         [0.9823],\n",
       "         [0.9825],\n",
       "         [0.9825],\n",
       "         [0.9825],\n",
       "         [0.9827],\n",
       "         [0.9821],\n",
       "         [0.9811],\n",
       "         [0.9806],\n",
       "         [0.9817],\n",
       "         [0.9809],\n",
       "         [0.9824],\n",
       "         [0.9824],\n",
       "         [0.9817],\n",
       "         [0.9825],\n",
       "         [0.9820],\n",
       "         [0.9827],\n",
       "         [0.9825],\n",
       "         [0.9827],\n",
       "         [0.9821],\n",
       "         [0.9825],\n",
       "         [0.9825],\n",
       "         [0.9825]],\n",
       "\n",
       "        [[0.9824],\n",
       "         [0.9823],\n",
       "         [0.9825],\n",
       "         [0.9826],\n",
       "         [0.9825],\n",
       "         [0.9820],\n",
       "         [0.9825],\n",
       "         [0.9811],\n",
       "         [0.9814],\n",
       "         [0.9806],\n",
       "         [0.9824],\n",
       "         [0.9821],\n",
       "         [0.9824],\n",
       "         [0.9806],\n",
       "         [0.9807],\n",
       "         [0.9825],\n",
       "         [0.9822],\n",
       "         [0.9822],\n",
       "         [0.9822],\n",
       "         [0.9826],\n",
       "         [0.9811],\n",
       "         [0.9822],\n",
       "         [0.9824],\n",
       "         [0.9822],\n",
       "         [0.9826],\n",
       "         [0.9825],\n",
       "         [0.9824]],\n",
       "\n",
       "        [[0.9817],\n",
       "         [0.9819],\n",
       "         [0.9828],\n",
       "         [0.9824],\n",
       "         [0.9825],\n",
       "         [0.9826],\n",
       "         [0.9827],\n",
       "         [0.9826],\n",
       "         [0.9805],\n",
       "         [0.9826],\n",
       "         [0.9823],\n",
       "         [0.9823],\n",
       "         [0.9825],\n",
       "         [0.9823],\n",
       "         [0.9807],\n",
       "         [0.9806],\n",
       "         [0.9826],\n",
       "         [0.9812],\n",
       "         [0.9818],\n",
       "         [0.9821],\n",
       "         [0.9826],\n",
       "         [0.9807],\n",
       "         [0.9825],\n",
       "         [0.9825],\n",
       "         [0.9805],\n",
       "         [0.9809],\n",
       "         [0.9824]],\n",
       "\n",
       "        [[0.9826],\n",
       "         [0.9819],\n",
       "         [0.9824],\n",
       "         [0.9825],\n",
       "         [0.9820],\n",
       "         [0.9825],\n",
       "         [0.9815],\n",
       "         [0.9818],\n",
       "         [0.9812],\n",
       "         [0.9822],\n",
       "         [0.9827],\n",
       "         [0.9825],\n",
       "         [0.9822],\n",
       "         [0.9827],\n",
       "         [0.9806],\n",
       "         [0.9825],\n",
       "         [0.9825],\n",
       "         [0.9818],\n",
       "         [0.9806],\n",
       "         [0.9827],\n",
       "         [0.9824],\n",
       "         [0.9827],\n",
       "         [0.9825],\n",
       "         [0.9823],\n",
       "         [0.9826],\n",
       "         [0.9809],\n",
       "         [0.9825]],\n",
       "\n",
       "        [[0.9824],\n",
       "         [0.9827],\n",
       "         [0.9824],\n",
       "         [0.9815],\n",
       "         [0.9824],\n",
       "         [0.9827],\n",
       "         [0.9825],\n",
       "         [0.9824],\n",
       "         [0.9822],\n",
       "         [0.9805],\n",
       "         [0.9819],\n",
       "         [0.9824],\n",
       "         [0.9824],\n",
       "         [0.9825],\n",
       "         [0.9817],\n",
       "         [0.9813],\n",
       "         [0.9826],\n",
       "         [0.9821],\n",
       "         [0.9826],\n",
       "         [0.9822],\n",
       "         [0.9818],\n",
       "         [0.9824],\n",
       "         [0.9818],\n",
       "         [0.9820],\n",
       "         [0.9824],\n",
       "         [0.9811],\n",
       "         [0.9822]],\n",
       "\n",
       "        [[0.9812],\n",
       "         [0.9826],\n",
       "         [0.9823],\n",
       "         [0.9825],\n",
       "         [0.9806],\n",
       "         [0.9825],\n",
       "         [0.9823],\n",
       "         [0.9811],\n",
       "         [0.9825],\n",
       "         [0.9820],\n",
       "         [0.9826],\n",
       "         [0.9805],\n",
       "         [0.9826],\n",
       "         [0.9826],\n",
       "         [0.9822],\n",
       "         [0.9809],\n",
       "         [0.9824],\n",
       "         [0.9814],\n",
       "         [0.9813],\n",
       "         [0.9825],\n",
       "         [0.9826],\n",
       "         [0.9825],\n",
       "         [0.9819],\n",
       "         [0.9825],\n",
       "         [0.9821],\n",
       "         [0.9823],\n",
       "         [0.9808]],\n",
       "\n",
       "        [[0.9806],\n",
       "         [0.9814],\n",
       "         [0.9823],\n",
       "         [0.9826],\n",
       "         [0.9822],\n",
       "         [0.9824],\n",
       "         [0.9824],\n",
       "         [0.9804],\n",
       "         [0.9825],\n",
       "         [0.9826],\n",
       "         [0.9824],\n",
       "         [0.9822],\n",
       "         [0.9808],\n",
       "         [0.9807],\n",
       "         [0.9825],\n",
       "         [0.9824],\n",
       "         [0.9826],\n",
       "         [0.9823],\n",
       "         [0.9824],\n",
       "         [0.9821],\n",
       "         [0.9822],\n",
       "         [0.9810],\n",
       "         [0.9823],\n",
       "         [0.9826],\n",
       "         [0.9826],\n",
       "         [0.9826],\n",
       "         [0.9821]],\n",
       "\n",
       "        [[0.9821],\n",
       "         [0.9824],\n",
       "         [0.9823],\n",
       "         [0.9804],\n",
       "         [0.9820],\n",
       "         [0.9826],\n",
       "         [0.9824],\n",
       "         [0.9825],\n",
       "         [0.9824],\n",
       "         [0.9822],\n",
       "         [0.9824],\n",
       "         [0.9816],\n",
       "         [0.9808],\n",
       "         [0.9825],\n",
       "         [0.9825],\n",
       "         [0.9826],\n",
       "         [0.9824],\n",
       "         [0.9826],\n",
       "         [0.9826],\n",
       "         [0.9817],\n",
       "         [0.9820],\n",
       "         [0.9824],\n",
       "         [0.9813],\n",
       "         [0.9815],\n",
       "         [0.9825],\n",
       "         [0.9825],\n",
       "         [0.9809]],\n",
       "\n",
       "        [[0.9825],\n",
       "         [0.9824],\n",
       "         [0.9820],\n",
       "         [0.9825],\n",
       "         [0.9826],\n",
       "         [0.9812],\n",
       "         [0.9823],\n",
       "         [0.9811],\n",
       "         [0.9825],\n",
       "         [0.9825],\n",
       "         [0.9824],\n",
       "         [0.9806],\n",
       "         [0.9826],\n",
       "         [0.9808],\n",
       "         [0.9824],\n",
       "         [0.9824],\n",
       "         [0.9826],\n",
       "         [0.9825],\n",
       "         [0.9824],\n",
       "         [0.9825],\n",
       "         [0.9811],\n",
       "         [0.9825],\n",
       "         [0.9812],\n",
       "         [0.9825],\n",
       "         [0.9820],\n",
       "         [0.9811],\n",
       "         [0.9826]],\n",
       "\n",
       "        [[0.9813],\n",
       "         [0.9822],\n",
       "         [0.9808],\n",
       "         [0.9823],\n",
       "         [0.9825],\n",
       "         [0.9815],\n",
       "         [0.9825],\n",
       "         [0.9821],\n",
       "         [0.9822],\n",
       "         [0.9822],\n",
       "         [0.9809],\n",
       "         [0.9811],\n",
       "         [0.9825],\n",
       "         [0.9824],\n",
       "         [0.9826],\n",
       "         [0.9824],\n",
       "         [0.9822],\n",
       "         [0.9826],\n",
       "         [0.9822],\n",
       "         [0.9819],\n",
       "         [0.9827],\n",
       "         [0.9825],\n",
       "         [0.9824],\n",
       "         [0.9823],\n",
       "         [0.9825],\n",
       "         [0.9823],\n",
       "         [0.9825]],\n",
       "\n",
       "        [[0.9825],\n",
       "         [0.9823],\n",
       "         [0.9825],\n",
       "         [0.9825],\n",
       "         [0.9809],\n",
       "         [0.9827],\n",
       "         [0.9825],\n",
       "         [0.9822],\n",
       "         [0.9807],\n",
       "         [0.9818],\n",
       "         [0.9818],\n",
       "         [0.9826],\n",
       "         [0.9825],\n",
       "         [0.9825],\n",
       "         [0.9825],\n",
       "         [0.9826],\n",
       "         [0.9822],\n",
       "         [0.9825],\n",
       "         [0.9825],\n",
       "         [0.9814],\n",
       "         [0.9824],\n",
       "         [0.9825],\n",
       "         [0.9827],\n",
       "         [0.9820],\n",
       "         [0.9825],\n",
       "         [0.9807],\n",
       "         [0.9825]],\n",
       "\n",
       "        [[0.9825],\n",
       "         [0.9825],\n",
       "         [0.9825],\n",
       "         [0.9826],\n",
       "         [0.9825],\n",
       "         [0.9826],\n",
       "         [0.9824],\n",
       "         [0.9823],\n",
       "         [0.9812],\n",
       "         [0.9820],\n",
       "         [0.9808],\n",
       "         [0.9825],\n",
       "         [0.9825],\n",
       "         [0.9821],\n",
       "         [0.9825],\n",
       "         [0.9826],\n",
       "         [0.9805],\n",
       "         [0.9818],\n",
       "         [0.9826],\n",
       "         [0.9805],\n",
       "         [0.9826],\n",
       "         [0.9826],\n",
       "         [0.9814],\n",
       "         [0.9818],\n",
       "         [0.9824],\n",
       "         [0.9825],\n",
       "         [0.9826]]], grad_fn=<AddBackward0>)"
      ]
     },
     "execution_count": 90,
     "metadata": {},
     "output_type": "execute_result"
    }
   ],
   "source": [
    "prediction_var"
   ]
  },
  {
   "cell_type": "code",
   "execution_count": 110,
   "id": "da522740-c6d3-4559-aabb-5404d63bcdea",
   "metadata": {},
   "outputs": [],
   "source": [
    "prediction_mu_reshaped = prediction_mu.reshape((prediction_mu.shape[0]*prediction_mu.shape[1],1))\n",
    "prediction_var_reshaped = prediction_var.reshape((prediction_var.shape[0]* prediction_var.shape[1],1))\n",
    "\n",
    "p_y_target = torch.distributions.Normal(prediction_mu, prediction_var)\n",
    "log_likelihood = p_y_target.log_prob(Y_target).mean(dim=0).sum()"
   ]
  },
  {
   "cell_type": "code",
   "execution_count": 111,
   "id": "b02f6305-fe22-45ef-a661-fa4f1cb74864",
   "metadata": {},
   "outputs": [
    {
     "data": {
      "text/plain": [
       "tensor(-35.8384, grad_fn=<SumBackward0>)"
      ]
     },
     "execution_count": 111,
     "metadata": {},
     "output_type": "execute_result"
    }
   ],
   "source": [
    "log_likelihood"
   ]
  },
  {
   "cell_type": "code",
   "execution_count": 106,
   "id": "3bcc452e-87ff-4385-bbc5-47a21d0850bd",
   "metadata": {},
   "outputs": [
    {
     "ename": "RuntimeError",
     "evalue": "einsum(): invalid subscript given at index 1 in the equation string, subscripts must be in [a-zA-Z]",
     "output_type": "error",
     "traceback": [
      "\u001b[0;31m---------------------------------------------------------------------------\u001b[0m",
      "\u001b[0;31mRuntimeError\u001b[0m                              Traceback (most recent call last)",
      "Cell \u001b[0;32mIn[106], line 3\u001b[0m\n\u001b[1;32m      1\u001b[0m A \u001b[38;5;241m=\u001b[39m torch\u001b[38;5;241m.\u001b[39meye(\u001b[38;5;241m3\u001b[39m)\n\u001b[1;32m      2\u001b[0m b \u001b[38;5;241m=\u001b[39m torch\u001b[38;5;241m.\u001b[39mtensor([\u001b[38;5;241m1.0\u001b[39m, \u001b[38;5;241m2.0\u001b[39m, \u001b[38;5;241m3.0\u001b[39m])\n\u001b[0;32m----> 3\u001b[0m \u001b[43mtorch\u001b[49m\u001b[38;5;241;43m.\u001b[39;49m\u001b[43meinsum\u001b[49m\u001b[43m(\u001b[49m\u001b[38;5;124;43m'\u001b[39;49m\u001b[38;5;124;43mi:,k->ij\u001b[39;49m\u001b[38;5;124;43m'\u001b[39;49m\u001b[43m,\u001b[49m\u001b[43m \u001b[49m\u001b[43mA\u001b[49m\u001b[43m,\u001b[49m\u001b[43m \u001b[49m\u001b[43mb\u001b[49m\u001b[43m)\u001b[49m\n",
      "File \u001b[0;32m~/miniconda3/envs/npf/lib/python3.11/site-packages/torch/functional.py:378\u001b[0m, in \u001b[0;36meinsum\u001b[0;34m(*args)\u001b[0m\n\u001b[1;32m    373\u001b[0m     \u001b[38;5;28;01mreturn\u001b[39;00m einsum(equation, \u001b[38;5;241m*\u001b[39m_operands)\n\u001b[1;32m    375\u001b[0m \u001b[38;5;28;01mif\u001b[39;00m \u001b[38;5;28mlen\u001b[39m(operands) \u001b[38;5;241m<\u001b[39m\u001b[38;5;241m=\u001b[39m \u001b[38;5;241m2\u001b[39m \u001b[38;5;129;01mor\u001b[39;00m \u001b[38;5;129;01mnot\u001b[39;00m opt_einsum\u001b[38;5;241m.\u001b[39menabled:\n\u001b[1;32m    376\u001b[0m     \u001b[38;5;66;03m# the path for contracting 0 or 1 time(s) is already optimized\u001b[39;00m\n\u001b[1;32m    377\u001b[0m     \u001b[38;5;66;03m# or the user has disabled using opt_einsum\u001b[39;00m\n\u001b[0;32m--> 378\u001b[0m     \u001b[38;5;28;01mreturn\u001b[39;00m \u001b[43m_VF\u001b[49m\u001b[38;5;241;43m.\u001b[39;49m\u001b[43meinsum\u001b[49m\u001b[43m(\u001b[49m\u001b[43mequation\u001b[49m\u001b[43m,\u001b[49m\u001b[43m \u001b[49m\u001b[43moperands\u001b[49m\u001b[43m)\u001b[49m  \u001b[38;5;66;03m# type: ignore[attr-defined]\u001b[39;00m\n\u001b[1;32m    380\u001b[0m path \u001b[38;5;241m=\u001b[39m \u001b[38;5;28;01mNone\u001b[39;00m\n\u001b[1;32m    381\u001b[0m \u001b[38;5;28;01mif\u001b[39;00m opt_einsum\u001b[38;5;241m.\u001b[39mis_available():\n",
      "\u001b[0;31mRuntimeError\u001b[0m: einsum(): invalid subscript given at index 1 in the equation string, subscripts must be in [a-zA-Z]"
     ]
    }
   ],
   "source": [
    "A = torch.eye(3)\n",
    "b = torch.tensor([1.0, 2.0, 3.0])\n"
   ]
  },
  {
   "cell_type": "code",
   "execution_count": 102,
   "id": "d3f8e25c-aa52-4e20-a742-bbd749b1df9f",
   "metadata": {},
   "outputs": [
    {
     "data": {
      "text/plain": [
       "tensor([0.9820], grad_fn=<DiagonalBackward0_copy>)"
      ]
     },
     "execution_count": 102,
     "metadata": {},
     "output_type": "execute_result"
    }
   ],
   "source": [
    "torch.diag(prediction_var_reshaped)"
   ]
  },
  {
   "cell_type": "code",
   "execution_count": 92,
   "id": "f761477f-f024-4933-a2da-31df1d5b0260",
   "metadata": {},
   "outputs": [
    {
     "data": {
      "text/plain": [
       "torch.Size([864, 1])"
      ]
     },
     "execution_count": 92,
     "metadata": {},
     "output_type": "execute_result"
    }
   ],
   "source": [
    "prediction_mu_reshaped.shape"
   ]
  },
  {
   "cell_type": "code",
   "execution_count": 93,
   "id": "0ac99611-e339-4ae0-b07c-2817dbd98435",
   "metadata": {},
   "outputs": [
    {
     "data": {
      "text/plain": [
       "torch.Size([864, 1])"
      ]
     },
     "execution_count": 93,
     "metadata": {},
     "output_type": "execute_result"
    }
   ],
   "source": [
    "prediction_var_reshaped.shape"
   ]
  },
  {
   "cell_type": "code",
   "execution_count": 99,
   "id": "edf891a6-1c3e-45bd-b433-c20755e1d948",
   "metadata": {},
   "outputs": [],
   "source": [
    "mask = torch.diag(torch.ones_like(prediction_var_reshaped))\n",
    "out = mask*prediction_var_reshaped"
   ]
  },
  {
   "cell_type": "code",
   "execution_count": 101,
   "id": "4437aab0-d3a6-4d29-8a86-eb98b122c8cc",
   "metadata": {},
   "outputs": [
    {
     "data": {
      "text/plain": [
       "torch.Size([864, 1])"
      ]
     },
     "execution_count": 101,
     "metadata": {},
     "output_type": "execute_result"
    }
   ],
   "source": [
    "out.shape"
   ]
  },
  {
   "cell_type": "code",
   "execution_count": 98,
   "id": "3f000b9a-56f0-403e-8129-08958d1d8d01",
   "metadata": {
    "scrolled": true
   },
   "outputs": [
    {
     "data": {
      "text/plain": [
       "tensor([[0.9820],\n",
       "        [0.9824],\n",
       "        [0.9825],\n",
       "        [0.9824],\n",
       "        [0.9826],\n",
       "        [0.9825],\n",
       "        [0.9825],\n",
       "        [0.9823],\n",
       "        [0.9823],\n",
       "        [0.9824],\n",
       "        [0.9826],\n",
       "        [0.9826],\n",
       "        [0.9822],\n",
       "        [0.9824],\n",
       "        [0.9813],\n",
       "        [0.9808],\n",
       "        [0.9820],\n",
       "        [0.9825],\n",
       "        [0.9824],\n",
       "        [0.9824],\n",
       "        [0.9824],\n",
       "        [0.9825],\n",
       "        [0.9825],\n",
       "        [0.9825],\n",
       "        [0.9824],\n",
       "        [0.9825],\n",
       "        [0.9823],\n",
       "        [0.9805],\n",
       "        [0.9810],\n",
       "        [0.9823],\n",
       "        [0.9809],\n",
       "        [0.9824],\n",
       "        [0.9825],\n",
       "        [0.9819],\n",
       "        [0.9826],\n",
       "        [0.9826],\n",
       "        [0.9825],\n",
       "        [0.9825],\n",
       "        [0.9824],\n",
       "        [0.9826],\n",
       "        [0.9825],\n",
       "        [0.9817],\n",
       "        [0.9825],\n",
       "        [0.9824],\n",
       "        [0.9821],\n",
       "        [0.9822],\n",
       "        [0.9818],\n",
       "        [0.9826],\n",
       "        [0.9826],\n",
       "        [0.9824],\n",
       "        [0.9823],\n",
       "        [0.9823],\n",
       "        [0.9807],\n",
       "        [0.9826],\n",
       "        [0.9824],\n",
       "        [0.9826],\n",
       "        [0.9817],\n",
       "        [0.9822],\n",
       "        [0.9824],\n",
       "        [0.9825],\n",
       "        [0.9810],\n",
       "        [0.9825],\n",
       "        [0.9824],\n",
       "        [0.9823],\n",
       "        [0.9823],\n",
       "        [0.9822],\n",
       "        [0.9819],\n",
       "        [0.9809],\n",
       "        [0.9822],\n",
       "        [0.9821],\n",
       "        [0.9819],\n",
       "        [0.9821],\n",
       "        [0.9826],\n",
       "        [0.9808],\n",
       "        [0.9826],\n",
       "        [0.9824],\n",
       "        [0.9815],\n",
       "        [0.9813],\n",
       "        [0.9824],\n",
       "        [0.9823],\n",
       "        [0.9825],\n",
       "        [0.9817],\n",
       "        [0.9809],\n",
       "        [0.9823],\n",
       "        [0.9824],\n",
       "        [0.9827],\n",
       "        [0.9826],\n",
       "        [0.9822],\n",
       "        [0.9825],\n",
       "        [0.9826],\n",
       "        [0.9822],\n",
       "        [0.9826],\n",
       "        [0.9821],\n",
       "        [0.9827],\n",
       "        [0.9825],\n",
       "        [0.9827],\n",
       "        [0.9807],\n",
       "        [0.9825],\n",
       "        [0.9826],\n",
       "        [0.9823],\n",
       "        [0.9827],\n",
       "        [0.9821],\n",
       "        [0.9821],\n",
       "        [0.9827],\n",
       "        [0.9825],\n",
       "        [0.9815],\n",
       "        [0.9825],\n",
       "        [0.9822],\n",
       "        [0.9812],\n",
       "        [0.9814],\n",
       "        [0.9825],\n",
       "        [0.9826],\n",
       "        [0.9823],\n",
       "        [0.9821],\n",
       "        [0.9815],\n",
       "        [0.9818],\n",
       "        [0.9808],\n",
       "        [0.9826],\n",
       "        [0.9821],\n",
       "        [0.9815],\n",
       "        [0.9825],\n",
       "        [0.9821],\n",
       "        [0.9809],\n",
       "        [0.9822],\n",
       "        [0.9825],\n",
       "        [0.9815],\n",
       "        [0.9827],\n",
       "        [0.9818],\n",
       "        [0.9821],\n",
       "        [0.9824],\n",
       "        [0.9811],\n",
       "        [0.9812],\n",
       "        [0.9820],\n",
       "        [0.9824],\n",
       "        [0.9827],\n",
       "        [0.9822],\n",
       "        [0.9825],\n",
       "        [0.9827],\n",
       "        [0.9827],\n",
       "        [0.9826],\n",
       "        [0.9815],\n",
       "        [0.9822],\n",
       "        [0.9822],\n",
       "        [0.9826],\n",
       "        [0.9819],\n",
       "        [0.9816],\n",
       "        [0.9825],\n",
       "        [0.9807],\n",
       "        [0.9820],\n",
       "        [0.9825],\n",
       "        [0.9822],\n",
       "        [0.9827],\n",
       "        [0.9826],\n",
       "        [0.9825],\n",
       "        [0.9826],\n",
       "        [0.9824],\n",
       "        [0.9827],\n",
       "        [0.9825],\n",
       "        [0.9824],\n",
       "        [0.9821],\n",
       "        [0.9810],\n",
       "        [0.9825],\n",
       "        [0.9822],\n",
       "        [0.9825],\n",
       "        [0.9819],\n",
       "        [0.9824],\n",
       "        [0.9814],\n",
       "        [0.9826],\n",
       "        [0.9826],\n",
       "        [0.9826],\n",
       "        [0.9822],\n",
       "        [0.9825],\n",
       "        [0.9822],\n",
       "        [0.9822],\n",
       "        [0.9823],\n",
       "        [0.9822],\n",
       "        [0.9822],\n",
       "        [0.9826],\n",
       "        [0.9822],\n",
       "        [0.9827],\n",
       "        [0.9808],\n",
       "        [0.9825],\n",
       "        [0.9810],\n",
       "        [0.9810],\n",
       "        [0.9825],\n",
       "        [0.9813],\n",
       "        [0.9806],\n",
       "        [0.9825],\n",
       "        [0.9825],\n",
       "        [0.9822],\n",
       "        [0.9826],\n",
       "        [0.9805],\n",
       "        [0.9812],\n",
       "        [0.9824],\n",
       "        [0.9825],\n",
       "        [0.9823],\n",
       "        [0.9825],\n",
       "        [0.9813],\n",
       "        [0.9826],\n",
       "        [0.9825],\n",
       "        [0.9825],\n",
       "        [0.9825],\n",
       "        [0.9824],\n",
       "        [0.9819],\n",
       "        [0.9817],\n",
       "        [0.9819],\n",
       "        [0.9805],\n",
       "        [0.9814],\n",
       "        [0.9808],\n",
       "        [0.9811],\n",
       "        [0.9822],\n",
       "        [0.9825],\n",
       "        [0.9823],\n",
       "        [0.9809],\n",
       "        [0.9805],\n",
       "        [0.9825],\n",
       "        [0.9824],\n",
       "        [0.9818],\n",
       "        [0.9822],\n",
       "        [0.9817],\n",
       "        [0.9825],\n",
       "        [0.9824],\n",
       "        [0.9821],\n",
       "        [0.9826],\n",
       "        [0.9826],\n",
       "        [0.9816],\n",
       "        [0.9809],\n",
       "        [0.9807],\n",
       "        [0.9819],\n",
       "        [0.9815],\n",
       "        [0.9813],\n",
       "        [0.9819],\n",
       "        [0.9820],\n",
       "        [0.9817],\n",
       "        [0.9823],\n",
       "        [0.9823],\n",
       "        [0.9808],\n",
       "        [0.9826],\n",
       "        [0.9824],\n",
       "        [0.9825],\n",
       "        [0.9815],\n",
       "        [0.9811],\n",
       "        [0.9807],\n",
       "        [0.9808],\n",
       "        [0.9826],\n",
       "        [0.9822],\n",
       "        [0.9822],\n",
       "        [0.9825],\n",
       "        [0.9821],\n",
       "        [0.9825],\n",
       "        [0.9822],\n",
       "        [0.9811],\n",
       "        [0.9821],\n",
       "        [0.9825],\n",
       "        [0.9825],\n",
       "        [0.9825],\n",
       "        [0.9809],\n",
       "        [0.9823],\n",
       "        [0.9826],\n",
       "        [0.9824],\n",
       "        [0.9825],\n",
       "        [0.9825],\n",
       "        [0.9819],\n",
       "        [0.9826],\n",
       "        [0.9826],\n",
       "        [0.9807],\n",
       "        [0.9823],\n",
       "        [0.9814],\n",
       "        [0.9825],\n",
       "        [0.9824],\n",
       "        [0.9822],\n",
       "        [0.9820],\n",
       "        [0.9812],\n",
       "        [0.9810],\n",
       "        [0.9822],\n",
       "        [0.9807],\n",
       "        [0.9825],\n",
       "        [0.9824],\n",
       "        [0.9818],\n",
       "        [0.9825],\n",
       "        [0.9817],\n",
       "        [0.9820],\n",
       "        [0.9814],\n",
       "        [0.9825],\n",
       "        [0.9822],\n",
       "        [0.9822],\n",
       "        [0.9825],\n",
       "        [0.9822],\n",
       "        [0.9824],\n",
       "        [0.9825],\n",
       "        [0.9805],\n",
       "        [0.9811],\n",
       "        [0.9824],\n",
       "        [0.9820],\n",
       "        [0.9820],\n",
       "        [0.9807],\n",
       "        [0.9822],\n",
       "        [0.9822],\n",
       "        [0.9825],\n",
       "        [0.9822],\n",
       "        [0.9827],\n",
       "        [0.9815],\n",
       "        [0.9827],\n",
       "        [0.9824],\n",
       "        [0.9809],\n",
       "        [0.9815],\n",
       "        [0.9823],\n",
       "        [0.9816],\n",
       "        [0.9814],\n",
       "        [0.9824],\n",
       "        [0.9816],\n",
       "        [0.9825],\n",
       "        [0.9805],\n",
       "        [0.9811],\n",
       "        [0.9824],\n",
       "        [0.9827],\n",
       "        [0.9826],\n",
       "        [0.9825],\n",
       "        [0.9826],\n",
       "        [0.9821],\n",
       "        [0.9823],\n",
       "        [0.9817],\n",
       "        [0.9827],\n",
       "        [0.9820],\n",
       "        [0.9825],\n",
       "        [0.9824],\n",
       "        [0.9821],\n",
       "        [0.9825],\n",
       "        [0.9825],\n",
       "        [0.9811],\n",
       "        [0.9825],\n",
       "        [0.9817],\n",
       "        [0.9826],\n",
       "        [0.9826],\n",
       "        [0.9827],\n",
       "        [0.9826],\n",
       "        [0.9812],\n",
       "        [0.9827],\n",
       "        [0.9822],\n",
       "        [0.9819],\n",
       "        [0.9825],\n",
       "        [0.9824],\n",
       "        [0.9827],\n",
       "        [0.9826],\n",
       "        [0.9818],\n",
       "        [0.9819],\n",
       "        [0.9827],\n",
       "        [0.9824],\n",
       "        [0.9823],\n",
       "        [0.9807],\n",
       "        [0.9826],\n",
       "        [0.9813],\n",
       "        [0.9807],\n",
       "        [0.9821],\n",
       "        [0.9816],\n",
       "        [0.9823],\n",
       "        [0.9819],\n",
       "        [0.9826],\n",
       "        [0.9818],\n",
       "        [0.9808],\n",
       "        [0.9810],\n",
       "        [0.9828],\n",
       "        [0.9825],\n",
       "        [0.9825],\n",
       "        [0.9828],\n",
       "        [0.9809],\n",
       "        [0.9826],\n",
       "        [0.9818],\n",
       "        [0.9825],\n",
       "        [0.9821],\n",
       "        [0.9828],\n",
       "        [0.9823],\n",
       "        [0.9828],\n",
       "        [0.9814],\n",
       "        [0.9821],\n",
       "        [0.9813],\n",
       "        [0.9808],\n",
       "        [0.9813],\n",
       "        [0.9814],\n",
       "        [0.9821],\n",
       "        [0.9823],\n",
       "        [0.9825],\n",
       "        [0.9823],\n",
       "        [0.9813],\n",
       "        [0.9811],\n",
       "        [0.9822],\n",
       "        [0.9811],\n",
       "        [0.9823],\n",
       "        [0.9824],\n",
       "        [0.9822],\n",
       "        [0.9811],\n",
       "        [0.9825],\n",
       "        [0.9810],\n",
       "        [0.9823],\n",
       "        [0.9824],\n",
       "        [0.9819],\n",
       "        [0.9815],\n",
       "        [0.9815],\n",
       "        [0.9823],\n",
       "        [0.9823],\n",
       "        [0.9821],\n",
       "        [0.9825],\n",
       "        [0.9825],\n",
       "        [0.9822],\n",
       "        [0.9825],\n",
       "        [0.9821],\n",
       "        [0.9826],\n",
       "        [0.9828],\n",
       "        [0.9823],\n",
       "        [0.9823],\n",
       "        [0.9828],\n",
       "        [0.9825],\n",
       "        [0.9825],\n",
       "        [0.9825],\n",
       "        [0.9810],\n",
       "        [0.9827],\n",
       "        [0.9827],\n",
       "        [0.9825],\n",
       "        [0.9818],\n",
       "        [0.9826],\n",
       "        [0.9814],\n",
       "        [0.9824],\n",
       "        [0.9823],\n",
       "        [0.9828],\n",
       "        [0.9808],\n",
       "        [0.9825],\n",
       "        [0.9827],\n",
       "        [0.9824],\n",
       "        [0.9822],\n",
       "        [0.9823],\n",
       "        [0.9825],\n",
       "        [0.9825],\n",
       "        [0.9823],\n",
       "        [0.9815],\n",
       "        [0.9827],\n",
       "        [0.9814],\n",
       "        [0.9826],\n",
       "        [0.9820],\n",
       "        [0.9808],\n",
       "        [0.9825],\n",
       "        [0.9824],\n",
       "        [0.9815],\n",
       "        [0.9816],\n",
       "        [0.9826],\n",
       "        [0.9811],\n",
       "        [0.9824],\n",
       "        [0.9826],\n",
       "        [0.9826],\n",
       "        [0.9809],\n",
       "        [0.9806],\n",
       "        [0.9806],\n",
       "        [0.9809],\n",
       "        [0.9826],\n",
       "        [0.9825],\n",
       "        [0.9826],\n",
       "        [0.9810],\n",
       "        [0.9825],\n",
       "        [0.9810],\n",
       "        [0.9814],\n",
       "        [0.9807],\n",
       "        [0.9825],\n",
       "        [0.9816],\n",
       "        [0.9827],\n",
       "        [0.9825],\n",
       "        [0.9810],\n",
       "        [0.9826],\n",
       "        [0.9825],\n",
       "        [0.9805],\n",
       "        [0.9823],\n",
       "        [0.9824],\n",
       "        [0.9808],\n",
       "        [0.9826],\n",
       "        [0.9810],\n",
       "        [0.9825],\n",
       "        [0.9825],\n",
       "        [0.9825],\n",
       "        [0.9821],\n",
       "        [0.9825],\n",
       "        [0.9825],\n",
       "        [0.9827],\n",
       "        [0.9827],\n",
       "        [0.9825],\n",
       "        [0.9823],\n",
       "        [0.9811],\n",
       "        [0.9824],\n",
       "        [0.9822],\n",
       "        [0.9808],\n",
       "        [0.9808],\n",
       "        [0.9828],\n",
       "        [0.9813],\n",
       "        [0.9825],\n",
       "        [0.9827],\n",
       "        [0.9813],\n",
       "        [0.9826],\n",
       "        [0.9824],\n",
       "        [0.9807],\n",
       "        [0.9827],\n",
       "        [0.9823],\n",
       "        [0.9826],\n",
       "        [0.9806],\n",
       "        [0.9812],\n",
       "        [0.9824],\n",
       "        [0.9827],\n",
       "        [0.9823],\n",
       "        [0.9806],\n",
       "        [0.9820],\n",
       "        [0.9805],\n",
       "        [0.9822],\n",
       "        [0.9825],\n",
       "        [0.9815],\n",
       "        [0.9826],\n",
       "        [0.9824],\n",
       "        [0.9824],\n",
       "        [0.9825],\n",
       "        [0.9826],\n",
       "        [0.9821],\n",
       "        [0.9827],\n",
       "        [0.9820],\n",
       "        [0.9826],\n",
       "        [0.9824],\n",
       "        [0.9825],\n",
       "        [0.9824],\n",
       "        [0.9826],\n",
       "        [0.9811],\n",
       "        [0.9813],\n",
       "        [0.9825],\n",
       "        [0.9826],\n",
       "        [0.9822],\n",
       "        [0.9823],\n",
       "        [0.9823],\n",
       "        [0.9826],\n",
       "        [0.9826],\n",
       "        [0.9819],\n",
       "        [0.9824],\n",
       "        [0.9825],\n",
       "        [0.9825],\n",
       "        [0.9819],\n",
       "        [0.9826],\n",
       "        [0.9815],\n",
       "        [0.9815],\n",
       "        [0.9808],\n",
       "        [0.9821],\n",
       "        [0.9827],\n",
       "        [0.9826],\n",
       "        [0.9817],\n",
       "        [0.9823],\n",
       "        [0.9825],\n",
       "        [0.9825],\n",
       "        [0.9825],\n",
       "        [0.9827],\n",
       "        [0.9821],\n",
       "        [0.9811],\n",
       "        [0.9806],\n",
       "        [0.9817],\n",
       "        [0.9809],\n",
       "        [0.9824],\n",
       "        [0.9824],\n",
       "        [0.9817],\n",
       "        [0.9825],\n",
       "        [0.9820],\n",
       "        [0.9827],\n",
       "        [0.9825],\n",
       "        [0.9827],\n",
       "        [0.9821],\n",
       "        [0.9825],\n",
       "        [0.9825],\n",
       "        [0.9825],\n",
       "        [0.9824],\n",
       "        [0.9823],\n",
       "        [0.9825],\n",
       "        [0.9826],\n",
       "        [0.9825],\n",
       "        [0.9820],\n",
       "        [0.9825],\n",
       "        [0.9811],\n",
       "        [0.9814],\n",
       "        [0.9806],\n",
       "        [0.9824],\n",
       "        [0.9821],\n",
       "        [0.9824],\n",
       "        [0.9806],\n",
       "        [0.9807],\n",
       "        [0.9825],\n",
       "        [0.9822],\n",
       "        [0.9822],\n",
       "        [0.9822],\n",
       "        [0.9826],\n",
       "        [0.9811],\n",
       "        [0.9822],\n",
       "        [0.9824],\n",
       "        [0.9822],\n",
       "        [0.9826],\n",
       "        [0.9825],\n",
       "        [0.9824],\n",
       "        [0.9817],\n",
       "        [0.9819],\n",
       "        [0.9828],\n",
       "        [0.9824],\n",
       "        [0.9825],\n",
       "        [0.9826],\n",
       "        [0.9827],\n",
       "        [0.9826],\n",
       "        [0.9805],\n",
       "        [0.9826],\n",
       "        [0.9823],\n",
       "        [0.9823],\n",
       "        [0.9825],\n",
       "        [0.9823],\n",
       "        [0.9807],\n",
       "        [0.9806],\n",
       "        [0.9826],\n",
       "        [0.9812],\n",
       "        [0.9818],\n",
       "        [0.9821],\n",
       "        [0.9826],\n",
       "        [0.9807],\n",
       "        [0.9825],\n",
       "        [0.9825],\n",
       "        [0.9805],\n",
       "        [0.9809],\n",
       "        [0.9824],\n",
       "        [0.9826],\n",
       "        [0.9819],\n",
       "        [0.9824],\n",
       "        [0.9825],\n",
       "        [0.9820],\n",
       "        [0.9825],\n",
       "        [0.9815],\n",
       "        [0.9818],\n",
       "        [0.9812],\n",
       "        [0.9822],\n",
       "        [0.9827],\n",
       "        [0.9825],\n",
       "        [0.9822],\n",
       "        [0.9827],\n",
       "        [0.9806],\n",
       "        [0.9825],\n",
       "        [0.9825],\n",
       "        [0.9818],\n",
       "        [0.9806],\n",
       "        [0.9827],\n",
       "        [0.9824],\n",
       "        [0.9827],\n",
       "        [0.9825],\n",
       "        [0.9823],\n",
       "        [0.9826],\n",
       "        [0.9809],\n",
       "        [0.9825],\n",
       "        [0.9824],\n",
       "        [0.9827],\n",
       "        [0.9824],\n",
       "        [0.9815],\n",
       "        [0.9824],\n",
       "        [0.9827],\n",
       "        [0.9825],\n",
       "        [0.9824],\n",
       "        [0.9822],\n",
       "        [0.9805],\n",
       "        [0.9819],\n",
       "        [0.9824],\n",
       "        [0.9824],\n",
       "        [0.9825],\n",
       "        [0.9817],\n",
       "        [0.9813],\n",
       "        [0.9826],\n",
       "        [0.9821],\n",
       "        [0.9826],\n",
       "        [0.9822],\n",
       "        [0.9818],\n",
       "        [0.9824],\n",
       "        [0.9818],\n",
       "        [0.9820],\n",
       "        [0.9824],\n",
       "        [0.9811],\n",
       "        [0.9822],\n",
       "        [0.9812],\n",
       "        [0.9826],\n",
       "        [0.9823],\n",
       "        [0.9825],\n",
       "        [0.9806],\n",
       "        [0.9825],\n",
       "        [0.9823],\n",
       "        [0.9811],\n",
       "        [0.9825],\n",
       "        [0.9820],\n",
       "        [0.9826],\n",
       "        [0.9805],\n",
       "        [0.9826],\n",
       "        [0.9826],\n",
       "        [0.9822],\n",
       "        [0.9809],\n",
       "        [0.9824],\n",
       "        [0.9814],\n",
       "        [0.9813],\n",
       "        [0.9825],\n",
       "        [0.9826],\n",
       "        [0.9825],\n",
       "        [0.9819],\n",
       "        [0.9825],\n",
       "        [0.9821],\n",
       "        [0.9823],\n",
       "        [0.9808],\n",
       "        [0.9806],\n",
       "        [0.9814],\n",
       "        [0.9823],\n",
       "        [0.9826],\n",
       "        [0.9822],\n",
       "        [0.9824],\n",
       "        [0.9824],\n",
       "        [0.9804],\n",
       "        [0.9825],\n",
       "        [0.9826],\n",
       "        [0.9824],\n",
       "        [0.9822],\n",
       "        [0.9808],\n",
       "        [0.9807],\n",
       "        [0.9825],\n",
       "        [0.9824],\n",
       "        [0.9826],\n",
       "        [0.9823],\n",
       "        [0.9824],\n",
       "        [0.9821],\n",
       "        [0.9822],\n",
       "        [0.9810],\n",
       "        [0.9823],\n",
       "        [0.9826],\n",
       "        [0.9826],\n",
       "        [0.9826],\n",
       "        [0.9821],\n",
       "        [0.9821],\n",
       "        [0.9824],\n",
       "        [0.9823],\n",
       "        [0.9804],\n",
       "        [0.9820],\n",
       "        [0.9826],\n",
       "        [0.9824],\n",
       "        [0.9825],\n",
       "        [0.9824],\n",
       "        [0.9822],\n",
       "        [0.9824],\n",
       "        [0.9816],\n",
       "        [0.9808],\n",
       "        [0.9825],\n",
       "        [0.9825],\n",
       "        [0.9826],\n",
       "        [0.9824],\n",
       "        [0.9826],\n",
       "        [0.9826],\n",
       "        [0.9817],\n",
       "        [0.9820],\n",
       "        [0.9824],\n",
       "        [0.9813],\n",
       "        [0.9815],\n",
       "        [0.9825],\n",
       "        [0.9825],\n",
       "        [0.9809],\n",
       "        [0.9825],\n",
       "        [0.9824],\n",
       "        [0.9820],\n",
       "        [0.9825],\n",
       "        [0.9826],\n",
       "        [0.9812],\n",
       "        [0.9823],\n",
       "        [0.9811],\n",
       "        [0.9825],\n",
       "        [0.9825],\n",
       "        [0.9824],\n",
       "        [0.9806],\n",
       "        [0.9826],\n",
       "        [0.9808],\n",
       "        [0.9824],\n",
       "        [0.9824],\n",
       "        [0.9826],\n",
       "        [0.9825],\n",
       "        [0.9824],\n",
       "        [0.9825],\n",
       "        [0.9811],\n",
       "        [0.9825],\n",
       "        [0.9812],\n",
       "        [0.9825],\n",
       "        [0.9820],\n",
       "        [0.9811],\n",
       "        [0.9826],\n",
       "        [0.9813],\n",
       "        [0.9822],\n",
       "        [0.9808],\n",
       "        [0.9823],\n",
       "        [0.9825],\n",
       "        [0.9815],\n",
       "        [0.9825],\n",
       "        [0.9821],\n",
       "        [0.9822],\n",
       "        [0.9822],\n",
       "        [0.9809],\n",
       "        [0.9811],\n",
       "        [0.9825],\n",
       "        [0.9824],\n",
       "        [0.9826],\n",
       "        [0.9824],\n",
       "        [0.9822],\n",
       "        [0.9826],\n",
       "        [0.9822],\n",
       "        [0.9819],\n",
       "        [0.9827],\n",
       "        [0.9825],\n",
       "        [0.9824],\n",
       "        [0.9823],\n",
       "        [0.9825],\n",
       "        [0.9823],\n",
       "        [0.9825],\n",
       "        [0.9825],\n",
       "        [0.9823],\n",
       "        [0.9825],\n",
       "        [0.9825],\n",
       "        [0.9809],\n",
       "        [0.9827],\n",
       "        [0.9825],\n",
       "        [0.9822],\n",
       "        [0.9807],\n",
       "        [0.9818],\n",
       "        [0.9818],\n",
       "        [0.9826],\n",
       "        [0.9825],\n",
       "        [0.9825],\n",
       "        [0.9825],\n",
       "        [0.9826],\n",
       "        [0.9822],\n",
       "        [0.9825],\n",
       "        [0.9825],\n",
       "        [0.9814],\n",
       "        [0.9824],\n",
       "        [0.9825],\n",
       "        [0.9827],\n",
       "        [0.9820],\n",
       "        [0.9825],\n",
       "        [0.9807],\n",
       "        [0.9825],\n",
       "        [0.9825],\n",
       "        [0.9825],\n",
       "        [0.9825],\n",
       "        [0.9826],\n",
       "        [0.9825],\n",
       "        [0.9826],\n",
       "        [0.9824],\n",
       "        [0.9823],\n",
       "        [0.9812],\n",
       "        [0.9820],\n",
       "        [0.9808],\n",
       "        [0.9825],\n",
       "        [0.9825],\n",
       "        [0.9821],\n",
       "        [0.9825],\n",
       "        [0.9826],\n",
       "        [0.9805],\n",
       "        [0.9818],\n",
       "        [0.9826],\n",
       "        [0.9805],\n",
       "        [0.9826],\n",
       "        [0.9826],\n",
       "        [0.9814],\n",
       "        [0.9818],\n",
       "        [0.9824],\n",
       "        [0.9825],\n",
       "        [0.9826]], grad_fn=<ReshapeAliasBackward0>)"
      ]
     },
     "execution_count": 98,
     "metadata": {},
     "output_type": "execute_result"
    }
   ],
   "source": [
    "prediction_var_reshaped"
   ]
  },
  {
   "cell_type": "code",
   "execution_count": 189,
   "id": "086da0c3-a7d4-4f50-aeab-53b6b6487495",
   "metadata": {},
   "outputs": [
    {
     "data": {
      "text/plain": [
       "(array([[-1.99587282, -1.98548029, -1.95537987, ...,  1.97257414,\n",
       "          1.99169953,  1.99881194],\n",
       "        [-1.94339652, -1.91990806, -1.76699714, ...,  1.91765172,\n",
       "          1.94336445,  1.96462939],\n",
       "        [-1.96199672, -1.9437505 , -1.91827439, ...,  1.80033871,\n",
       "          1.84551921,  1.85723317],\n",
       "        ...,\n",
       "        [-1.94011869, -1.93410148, -1.8983857 , ...,  1.93203934,\n",
       "          1.95185246,  1.97395395],\n",
       "        [-1.96401548, -1.95896315, -1.88993095, ...,  1.93615654,\n",
       "          1.96021198,  1.96555438],\n",
       "        [-1.91719145, -1.87583723, -1.82759331, ...,  1.84556681,\n",
       "          1.90916498,  1.92599152]]),\n",
       " tensor([[[ 0.5635],\n",
       "          [ 0.6170],\n",
       "          [ 0.7449],\n",
       "          ...,\n",
       "          [-1.8718],\n",
       "          [-1.6952],\n",
       "          [-1.6259]],\n",
       " \n",
       "         [[ 0.4168],\n",
       "          [ 0.4412],\n",
       "          [ 0.6575],\n",
       "          ...,\n",
       "          [ 0.2367],\n",
       "          [ 0.2131],\n",
       "          [ 0.1908]],\n",
       " \n",
       "         [[ 0.7703],\n",
       "          [ 0.7853],\n",
       "          [ 0.8063],\n",
       "          ...,\n",
       "          [ 1.3721],\n",
       "          [ 1.4226],\n",
       "          [ 1.4341]],\n",
       " \n",
       "         ...,\n",
       " \n",
       "         [[-0.0973],\n",
       "          [-0.1059],\n",
       "          [-0.1504],\n",
       "          ...,\n",
       "          [ 0.7739],\n",
       "          [ 0.8332],\n",
       "          [ 0.9040]],\n",
       " \n",
       "         [[ 0.1735],\n",
       "          [ 0.1829],\n",
       "          [ 0.3031],\n",
       "          ...,\n",
       "          [ 1.3701],\n",
       "          [ 1.3266],\n",
       "          [ 1.3168]],\n",
       " \n",
       "         [[ 0.2146],\n",
       "          [-0.4589],\n",
       "          [-0.8579],\n",
       "          ...,\n",
       "          [-0.2654],\n",
       "          [-0.2385],\n",
       "          [-0.5460]]]))"
      ]
     },
     "execution_count": 189,
     "metadata": {},
     "output_type": "execute_result"
    }
   ],
   "source": [
    "val_one_d_datasets = One_D_Datasets()\n",
    "val_one_d_datasets.get_samples(None, None, None)"
   ]
  },
  {
   "cell_type": "code",
   "execution_count": 190,
   "id": "8f212012-401f-4b1c-abb5-dc170ae8fd7b",
   "metadata": {},
   "outputs": [],
   "source": [
    "dloader = torch.utils.data.DataLoader(dataset= val_one_d_datasets, batch_size=32, shuffle=True)"
   ]
  },
  {
   "cell_type": "code",
   "execution_count": 191,
   "id": "f81fb2ae-b90b-4148-94f3-d3d723b04fda",
   "metadata": {},
   "outputs": [
    {
     "name": "stderr",
     "output_type": "stream",
     "text": [
      "0it [00:00, ?it/s]\n"
     ]
    }
   ],
   "source": [
    "for i, batch in tqdm(enumerate(dloader)):\n",
    "        \n",
    "    #global_step+=1\n",
    "    (((x_context, y_context), x_target), y_target) = context_target_splitter(batch, min_context, max_context, len_seq,1,1)\n",
    "    break"
   ]
  },
  {
   "cell_type": "code",
   "execution_count": 192,
   "id": "aafbd7b6-d353-4530-8434-40e8b0bc8a92",
   "metadata": {},
   "outputs": [],
   "source": [
    "mu, var, likelihood = one_d_cnp(x_context, y_context, x_target, y_target)"
   ]
  },
  {
   "cell_type": "code",
   "execution_count": 207,
   "id": "c01ce5f9-76e5-4cc2-a72e-7c90530f54c4",
   "metadata": {},
   "outputs": [
    {
     "data": {
      "text/plain": [
       "<matplotlib.collections.PathCollection at 0x150693b10>"
      ]
     },
     "execution_count": 207,
     "metadata": {},
     "output_type": "execute_result"
    },
    {
     "data": {
      "image/png": "[encoded data removed]",
      "text/plain": [
       "<Figure size 640x480 with 1 Axes>"
      ]
     },
     "metadata": {},
     "output_type": "display_data"
    }
   ],
   "source": [
    "plt.plot(X[20], Y[20])\n",
    "plt.scatter(x_context[20], y_context[20])\n",
    "\n",
    "#plt.scatter(x_target[1], mu.detach().numpy()[1])\n",
    "#plt.scatter(x_target[1].squeeze(), (mu.detach().numpy()[1]-var.detach().numpy()[1]).reshape(128,))\n",
    "#plt.scatter(x_target[1], (mu.detach().numpy()[1]+var.detach().numpy()[1]).reshape(128,))"
   ]
  },
  {
   "cell_type": "code",
   "execution_count": 208,
   "id": "f4c632cf-199e-4965-9318-200511894f99",
   "metadata": {},
   "outputs": [
    {
     "data": {
      "text/plain": [
       "<matplotlib.collections.PathCollection at 0x14f875ed0>"
      ]
     },
     "execution_count": 208,
     "metadata": {},
     "output_type": "execute_result"
    },
    {
     "data": {
      "image/png": "[encoded data removed]",
      "text/plain": [
       "<Figure size 640x480 with 1 Axes>"
      ]
     },
     "metadata": {},
     "output_type": "display_data"
    }
   ],
   "source": [
    "plt.plot(X[10], Y[10])\n",
    "plt.scatter(x_context[10], y_context[10])\n",
    "\n",
    "#plt.scatter(x_target[1], mu.detach().numpy()[1])\n",
    "#plt.scatter(x_target[1].squeeze(), (mu.detach().numpy()[1]-var.detach().numpy()[1]).reshape(128,))\n",
    "#plt.scatter(x_target[1], (mu.detach().numpy()[1]+var.detach().numpy()[1]).reshape(128,))"
   ]
  },
  {
   "cell_type": "code",
   "execution_count": 204,
   "id": "67f560d5-2622-4341-b484-54338081dc96",
   "metadata": {},
   "outputs": [
    {
     "data": {
      "text/plain": [
       "<matplotlib.collections.PathCollection at 0x1505ff3d0>"
      ]
     },
     "execution_count": 204,
     "metadata": {},
     "output_type": "execute_result"
    },
    {
     "data": {
      "image/png": "[encoded data removed]",
      "text/plain": [
       "<Figure size 640x480 with 1 Axes>"
      ]
     },
     "metadata": {},
     "output_type": "display_data"
    }
   ],
   "source": [
    "plt.plot(X[20], Y[20])\n",
    "plt.scatter(x_context[20], y_context[20])\n",
    "\n",
    "plt.scatter(x_target[20], mu.detach().numpy()[20])\n",
    "plt.scatter(x_target[20].squeeze(), (mu.detach().numpy()[20]-var.detach().numpy()[20]).reshape(128,))\n",
    "plt.scatter(x_target[20], (mu.detach().numpy()[20]+var.detach().numpy()[20]).reshape(128,))"
   ]
  },
  {
   "cell_type": "code",
   "execution_count": 27,
   "id": "35fd9202-a6e1-4a0d-b044-1aeea0fbfe1c",
   "metadata": {},
   "outputs": [],
   "source": [
    "deterministic_encoder = MLP(2,[128,128,128,128])\n",
    "latent_encoder = MLP(2,[128,128,128,128])\n",
    "last_encoder_layer_dim = 128\n",
    "latent_dim = 10\n",
    "latent_decoder = MLP(latent_dim + last_encoder_layer_dim + 1, [128,128,128,128])\n",
    "\n",
    "\n",
    "\n",
    "one_d_lnp = LatentNeuralProcess(deterministic_encoder, latent_encoder, last_encoder_layer_dim, latent_dim, latent_decoder, 128,1)"
   ]
  },
  {
   "cell_type": "code",
   "execution_count": 28,
   "id": "fd09b95f-8f41-43d1-90d1-a2d5588d5314",
   "metadata": {},
   "outputs": [],
   "source": [
    "class LatentNeuralProcess(torch.nn.Module):\n",
    "    \"\"\"\n",
    "    Class defining latent neural processes for regression problems with arbitrary X-dimension\n",
    "\n",
    "    Parameters\n",
    "    ----------\n",
    "\n",
    "    deterministic_encoder: module, MLP\n",
    "    latent_encoder: module, MLP\n",
    "    last_encoder_layer_dim: out dim of last encoder layer, int\n",
    "    latent_dim: dimension of latent, int\n",
    "    decoder: module, MLP\n",
    "    last_decoder_layer_dim: output of last decoder layer, int\n",
    "    y_dim: output_dimension, int\n",
    "\n",
    "    \"\"\"\n",
    "\n",
    "    def __init__(self, deterministic_encoder, latent_encoder, last_encoder_layer_dim, latent_dim, decoder,last_decoder_layer_dim, y_dim, **kwargs):\n",
    "        \n",
    "        super().__init__(**kwargs)\n",
    "        \n",
    "        self.deterministic_encoder = deterministic_encoder\n",
    "        \n",
    "        self.latent_encoder = latent_encoder\n",
    "        self.latentLayer_mu = torch.nn.Linear(last_encoder_layer_dim, latent_dim)\n",
    "        self.latentLayer_log_var = torch.nn.Linear(last_encoder_layer_dim, latent_dim)\n",
    "        \n",
    "        self.decoder = decoder\n",
    "        self.lastLayer_mu = torch.nn.Linear(last_decoder_layer_dim, y_dim)\n",
    "        self.lastLayer_log_var = torch.nn.Linear(last_decoder_layer_dim, y_dim)\n",
    "        \n",
    "\n",
    "    def forward(self, context_x, context_y, target_x, target_y = None):\n",
    "        full_context = torch.concat([context_x, context_y], dim=-1)\n",
    "\n",
    "        deterministic_encoder_output = self.deterministic_encoder(full_context)\n",
    "        deterministic_encoder_output = torch.mean(deterministic_encoder_output, dim=1)\n",
    "\n",
    "        r = deterministic_encoder_output.unsqueeze(dim=1).tile((1,target_x.shape[1],1))\n",
    "\n",
    "        latent_encoder_output = self.latent_encoder(full_context)\n",
    "        latent_encoder_output = torch.mean(latent_encoder_output, dim=1)\n",
    "\n",
    "        z_mu = self.latentLayer_mu(latent_encoder_output)\n",
    "        z_log_var = self.latentLayer_log_var(latent_encoder_output)\n",
    "\n",
    "        z = torch.randn_like(z_log_var) * torch.exp(z_log_var/2) + z_mu\n",
    "\n",
    "        z = z.unsqueeze(dim=1).tile((1, target_x.shape[1],1))\n",
    "\n",
    "        decoder_input = torch.concat([target_x, r, z], dim=-1)\n",
    "\n",
    "        decoder_output = self.decoder(decoder_input)\n",
    "\n",
    "        prediction_mu = self.lastLayer_mu(decoder_output)\n",
    "        prediction_log_var = self.lastLayer_log_var(decoder_output)\n",
    "\n",
    "        prediction_var = 0.1 + 0.9*torch.exp(prediction_log_var/2)\n",
    "\n",
    "        if target_y is not None:\n",
    "\n",
    "            p_y_target = torch.distributions.Normal(prediction_mu, prediction_var)\n",
    "            log_likelihood = p_y_target.log_prob(target_y).mean(dim=0).sum()\n",
    "\n",
    "            full_XY = torch.concat([target_x, target_y], dim=-1)\n",
    "\n",
    "            target_latent_encoder_output = self.latent_encoder(full_XY)\n",
    "\n",
    "            target_latent_encoder_output = torch.mean(target_latent_encoder_output, dim=1)\n",
    "\n",
    "            z_mu_target = self.latentLayer_mu(target_latent_encoder_output)\n",
    "            z_log_var_target = self.latentLayer_log_var(target_latent_encoder_output)\n",
    "\n",
    "            kl = self.kl_div_calc(z_mu, z_log_var, z_mu_target, z_log_var_target)\n",
    "            \n",
    "            return prediction_mu, prediction_var, -log_likelihood + torch.sum(kl)\n",
    "            \n",
    "        else:\n",
    "            \n",
    "            return prediction_mu, prediction_var\n",
    "\n",
    "\n",
    "\n",
    "    def kl_div_calc(self, z_mu_context, z_log_var_context, z_mu_target, z_log_var_target):\n",
    "        q_context = torch.distributions.Normal(z_mu_context, torch.exp(z_log_var_context/2))\n",
    "        q_target = torch.distributions.Normal(z_mu_target, torch.exp(z_log_var_target/2))\n",
    "        \n",
    "        kl = torch.distributions.kl.kl_divergence(q_context, q_target)\n",
    "        return kl"
   ]
  },
  {
   "cell_type": "code",
   "execution_count": 29,
   "id": "401e3622-d1a0-4d9f-bc1d-36b8e8def954",
   "metadata": {},
   "outputs": [
    {
     "data": {
      "text/plain": [
       "LatentNeuralProcess(\n",
       "  (deterministic_encoder): MLP(\n",
       "    (mlp): Sequential(\n",
       "      (input_layer): Linear(in_features=2, out_features=128, bias=True)\n",
       "      (relu): ReLU()\n",
       "      (hidden_layer_1): Linear(in_features=128, out_features=128, bias=True)\n",
       "      (relu_2): ReLU()\n",
       "      (hidden_layer_2): Linear(in_features=128, out_features=128, bias=True)\n",
       "      (relu_3): ReLU()\n",
       "      (hidden_layer_3): Linear(in_features=128, out_features=128, bias=True)\n",
       "      (relu_4): ReLU()\n",
       "    )\n",
       "  )\n",
       "  (latent_encoder): MLP(\n",
       "    (mlp): Sequential(\n",
       "      (input_layer): Linear(in_features=2, out_features=128, bias=True)\n",
       "      (relu): ReLU()\n",
       "      (hidden_layer_1): Linear(in_features=128, out_features=128, bias=True)\n",
       "      (relu_2): ReLU()\n",
       "      (hidden_layer_2): Linear(in_features=128, out_features=128, bias=True)\n",
       "      (relu_3): ReLU()\n",
       "      (hidden_layer_3): Linear(in_features=128, out_features=128, bias=True)\n",
       "      (relu_4): ReLU()\n",
       "    )\n",
       "  )\n",
       "  (latentLayer_mu): Linear(in_features=128, out_features=10, bias=True)\n",
       "  (latentLayer_log_var): Linear(in_features=128, out_features=10, bias=True)\n",
       "  (decoder): MLP(\n",
       "    (mlp): Sequential(\n",
       "      (input_layer): Linear(in_features=139, out_features=128, bias=True)\n",
       "      (relu): ReLU()\n",
       "      (hidden_layer_1): Linear(in_features=128, out_features=128, bias=True)\n",
       "      (relu_2): ReLU()\n",
       "      (hidden_layer_2): Linear(in_features=128, out_features=128, bias=True)\n",
       "      (relu_3): ReLU()\n",
       "      (hidden_layer_3): Linear(in_features=128, out_features=128, bias=True)\n",
       "      (relu_4): ReLU()\n",
       "    )\n",
       "  )\n",
       "  (lastLayer_mu): Linear(in_features=128, out_features=1, bias=True)\n",
       "  (lastLayer_log_var): Linear(in_features=128, out_features=1, bias=True)\n",
       ")"
      ]
     },
     "execution_count": 29,
     "metadata": {},
     "output_type": "execute_result"
    }
   ],
   "source": [
    "one_d_lnp"
   ]
  },
  {
   "cell_type": "code",
   "execution_count": 30,
   "id": "09e2dae3-7988-4da7-88e0-e3876b2cfa2e",
   "metadata": {},
   "outputs": [
    {
     "name": "stderr",
     "output_type": "stream",
     "text": [
      "313it [00:26, 11.91it/s]\n"
     ]
    },
    {
     "name": "stdout",
     "output_type": "stream",
     "text": [
      "tensor(132.3094, grad_fn=<AddBackward0>)\n"
     ]
    },
    {
     "name": "stderr",
     "output_type": "stream",
     "text": [
      "313it [00:26, 11.90it/s]\n"
     ]
    },
    {
     "name": "stdout",
     "output_type": "stream",
     "text": [
      "tensor(105.6596, grad_fn=<AddBackward0>)\n"
     ]
    },
    {
     "name": "stderr",
     "output_type": "stream",
     "text": [
      "313it [00:26, 11.86it/s]\n"
     ]
    },
    {
     "name": "stdout",
     "output_type": "stream",
     "text": [
      "tensor(89.4268, grad_fn=<AddBackward0>)\n"
     ]
    },
    {
     "name": "stderr",
     "output_type": "stream",
     "text": [
      "313it [00:27, 11.53it/s]\n"
     ]
    },
    {
     "name": "stdout",
     "output_type": "stream",
     "text": [
      "tensor(72.9711, grad_fn=<AddBackward0>)\n"
     ]
    },
    {
     "name": "stderr",
     "output_type": "stream",
     "text": [
      "313it [00:26, 11.65it/s]\n"
     ]
    },
    {
     "name": "stdout",
     "output_type": "stream",
     "text": [
      "tensor(70.0152, grad_fn=<AddBackward0>)\n"
     ]
    },
    {
     "name": "stderr",
     "output_type": "stream",
     "text": [
      "313it [00:27, 11.57it/s]\n"
     ]
    },
    {
     "name": "stdout",
     "output_type": "stream",
     "text": [
      "tensor(72.1515, grad_fn=<AddBackward0>)\n"
     ]
    },
    {
     "name": "stderr",
     "output_type": "stream",
     "text": [
      "313it [00:30, 10.16it/s]\n"
     ]
    },
    {
     "name": "stdout",
     "output_type": "stream",
     "text": [
      "tensor(62.3183, grad_fn=<AddBackward0>)\n"
     ]
    },
    {
     "name": "stderr",
     "output_type": "stream",
     "text": [
      "313it [00:31, 10.04it/s]\n"
     ]
    },
    {
     "name": "stdout",
     "output_type": "stream",
     "text": [
      "tensor(57.3789, grad_fn=<AddBackward0>)\n"
     ]
    },
    {
     "name": "stderr",
     "output_type": "stream",
     "text": [
      "313it [00:29, 10.57it/s]\n"
     ]
    },
    {
     "name": "stdout",
     "output_type": "stream",
     "text": [
      "tensor(56.8011, grad_fn=<AddBackward0>)\n"
     ]
    },
    {
     "name": "stderr",
     "output_type": "stream",
     "text": [
      "313it [00:26, 11.60it/s]\n"
     ]
    },
    {
     "name": "stdout",
     "output_type": "stream",
     "text": [
      "tensor(45.9526, grad_fn=<AddBackward0>)\n"
     ]
    },
    {
     "name": "stderr",
     "output_type": "stream",
     "text": [
      "313it [00:26, 11.74it/s]\n"
     ]
    },
    {
     "name": "stdout",
     "output_type": "stream",
     "text": [
      "tensor(39.3009, grad_fn=<AddBackward0>)\n"
     ]
    },
    {
     "name": "stderr",
     "output_type": "stream",
     "text": [
      "313it [00:26, 11.79it/s]\n"
     ]
    },
    {
     "name": "stdout",
     "output_type": "stream",
     "text": [
      "tensor(63.1199, grad_fn=<AddBackward0>)\n"
     ]
    },
    {
     "name": "stderr",
     "output_type": "stream",
     "text": [
      "313it [00:27, 11.48it/s]\n"
     ]
    },
    {
     "name": "stdout",
     "output_type": "stream",
     "text": [
      "tensor(32.2419, grad_fn=<AddBackward0>)\n"
     ]
    },
    {
     "name": "stderr",
     "output_type": "stream",
     "text": [
      "313it [00:27, 11.57it/s]\n"
     ]
    },
    {
     "name": "stdout",
     "output_type": "stream",
     "text": [
      "tensor(-19.0822, grad_fn=<AddBackward0>)\n"
     ]
    },
    {
     "name": "stderr",
     "output_type": "stream",
     "text": [
      "313it [00:27, 11.56it/s]\n"
     ]
    },
    {
     "name": "stdout",
     "output_type": "stream",
     "text": [
      "tensor(-6.1969, grad_fn=<AddBackward0>)\n"
     ]
    },
    {
     "name": "stderr",
     "output_type": "stream",
     "text": [
      "313it [00:28, 11.13it/s]\n"
     ]
    },
    {
     "name": "stdout",
     "output_type": "stream",
     "text": [
      "tensor(73.7332, grad_fn=<AddBackward0>)\n"
     ]
    },
    {
     "name": "stderr",
     "output_type": "stream",
     "text": [
      "313it [00:29, 10.62it/s]\n"
     ]
    },
    {
     "name": "stdout",
     "output_type": "stream",
     "text": [
      "tensor(54.5704, grad_fn=<AddBackward0>)\n"
     ]
    },
    {
     "name": "stderr",
     "output_type": "stream",
     "text": [
      "313it [00:27, 11.24it/s]\n"
     ]
    },
    {
     "name": "stdout",
     "output_type": "stream",
     "text": [
      "tensor(58.6185, grad_fn=<AddBackward0>)\n"
     ]
    },
    {
     "name": "stderr",
     "output_type": "stream",
     "text": [
      "313it [00:28, 10.80it/s]\n"
     ]
    },
    {
     "name": "stdout",
     "output_type": "stream",
     "text": [
      "tensor(-19.9163, grad_fn=<AddBackward0>)\n"
     ]
    },
    {
     "name": "stderr",
     "output_type": "stream",
     "text": [
      "313it [00:28, 10.94it/s]\n"
     ]
    },
    {
     "name": "stdout",
     "output_type": "stream",
     "text": [
      "tensor(-11.5884, grad_fn=<AddBackward0>)\n"
     ]
    },
    {
     "name": "stderr",
     "output_type": "stream",
     "text": [
      "313it [00:29, 10.70it/s]\n"
     ]
    },
    {
     "name": "stdout",
     "output_type": "stream",
     "text": [
      "tensor(9.4881, grad_fn=<AddBackward0>)\n"
     ]
    },
    {
     "name": "stderr",
     "output_type": "stream",
     "text": [
      "313it [00:27, 11.28it/s]\n"
     ]
    },
    {
     "name": "stdout",
     "output_type": "stream",
     "text": [
      "tensor(32.1781, grad_fn=<AddBackward0>)\n"
     ]
    },
    {
     "name": "stderr",
     "output_type": "stream",
     "text": [
      "313it [00:26, 11.82it/s]\n"
     ]
    },
    {
     "name": "stdout",
     "output_type": "stream",
     "text": [
      "tensor(7.0979, grad_fn=<AddBackward0>)\n"
     ]
    },
    {
     "name": "stderr",
     "output_type": "stream",
     "text": [
      "313it [00:27, 11.58it/s]\n"
     ]
    },
    {
     "name": "stdout",
     "output_type": "stream",
     "text": [
      "tensor(37.1242, grad_fn=<AddBackward0>)\n"
     ]
    },
    {
     "name": "stderr",
     "output_type": "stream",
     "text": [
      "313it [00:26, 11.64it/s]\n"
     ]
    },
    {
     "name": "stdout",
     "output_type": "stream",
     "text": [
      "tensor(12.6724, grad_fn=<AddBackward0>)\n"
     ]
    },
    {
     "name": "stderr",
     "output_type": "stream",
     "text": [
      "313it [00:26, 11.75it/s]\n"
     ]
    },
    {
     "name": "stdout",
     "output_type": "stream",
     "text": [
      "tensor(-6.4780, grad_fn=<AddBackward0>)\n"
     ]
    },
    {
     "name": "stderr",
     "output_type": "stream",
     "text": [
      "313it [00:26, 11.93it/s]\n"
     ]
    },
    {
     "name": "stdout",
     "output_type": "stream",
     "text": [
      "tensor(-19.5197, grad_fn=<AddBackward0>)\n"
     ]
    },
    {
     "name": "stderr",
     "output_type": "stream",
     "text": [
      "313it [00:26, 11.73it/s]\n"
     ]
    },
    {
     "name": "stdout",
     "output_type": "stream",
     "text": [
      "tensor(41.5952, grad_fn=<AddBackward0>)\n"
     ]
    },
    {
     "name": "stderr",
     "output_type": "stream",
     "text": [
      "313it [00:26, 11.91it/s]\n"
     ]
    },
    {
     "name": "stdout",
     "output_type": "stream",
     "text": [
      "tensor(-41.2912, grad_fn=<AddBackward0>)\n"
     ]
    },
    {
     "name": "stderr",
     "output_type": "stream",
     "text": [
      "313it [00:26, 11.64it/s]\n"
     ]
    },
    {
     "name": "stdout",
     "output_type": "stream",
     "text": [
      "tensor(-50.1885, grad_fn=<AddBackward0>)\n"
     ]
    },
    {
     "name": "stderr",
     "output_type": "stream",
     "text": [
      "313it [00:26, 11.94it/s]\n"
     ]
    },
    {
     "name": "stdout",
     "output_type": "stream",
     "text": [
      "tensor(5.3661, grad_fn=<AddBackward0>)\n"
     ]
    },
    {
     "name": "stderr",
     "output_type": "stream",
     "text": [
      "313it [00:28, 11.16it/s]\n"
     ]
    },
    {
     "name": "stdout",
     "output_type": "stream",
     "text": [
      "tensor(-0.7421, grad_fn=<AddBackward0>)\n"
     ]
    },
    {
     "name": "stderr",
     "output_type": "stream",
     "text": [
      "313it [00:26, 11.70it/s]\n"
     ]
    },
    {
     "name": "stdout",
     "output_type": "stream",
     "text": [
      "tensor(-7.6752, grad_fn=<AddBackward0>)\n"
     ]
    },
    {
     "name": "stderr",
     "output_type": "stream",
     "text": [
      "313it [00:26, 11.75it/s]\n"
     ]
    },
    {
     "name": "stdout",
     "output_type": "stream",
     "text": [
      "tensor(-57.4955, grad_fn=<AddBackward0>)\n"
     ]
    },
    {
     "name": "stderr",
     "output_type": "stream",
     "text": [
      "313it [00:27, 11.59it/s]\n"
     ]
    },
    {
     "name": "stdout",
     "output_type": "stream",
     "text": [
      "tensor(-35.3733, grad_fn=<AddBackward0>)\n"
     ]
    },
    {
     "name": "stderr",
     "output_type": "stream",
     "text": [
      "313it [00:26, 11.62it/s]\n"
     ]
    },
    {
     "name": "stdout",
     "output_type": "stream",
     "text": [
      "tensor(-39.4137, grad_fn=<AddBackward0>)\n"
     ]
    },
    {
     "name": "stderr",
     "output_type": "stream",
     "text": [
      "313it [00:27, 11.24it/s]\n"
     ]
    },
    {
     "name": "stdout",
     "output_type": "stream",
     "text": [
      "tensor(3.2725, grad_fn=<AddBackward0>)\n"
     ]
    },
    {
     "name": "stderr",
     "output_type": "stream",
     "text": [
      "313it [00:26, 11.97it/s]\n"
     ]
    },
    {
     "name": "stdout",
     "output_type": "stream",
     "text": [
      "tensor(-22.1746, grad_fn=<AddBackward0>)\n"
     ]
    },
    {
     "name": "stderr",
     "output_type": "stream",
     "text": [
      "313it [00:27, 11.48it/s]\n"
     ]
    },
    {
     "name": "stdout",
     "output_type": "stream",
     "text": [
      "tensor(-35.8862, grad_fn=<AddBackward0>)\n"
     ]
    },
    {
     "name": "stderr",
     "output_type": "stream",
     "text": [
      "313it [00:26, 11.76it/s]\n"
     ]
    },
    {
     "name": "stdout",
     "output_type": "stream",
     "text": [
      "tensor(-11.2422, grad_fn=<AddBackward0>)\n"
     ]
    },
    {
     "name": "stderr",
     "output_type": "stream",
     "text": [
      "313it [00:26, 11.81it/s]\n"
     ]
    },
    {
     "name": "stdout",
     "output_type": "stream",
     "text": [
      "tensor(-38.0151, grad_fn=<AddBackward0>)\n"
     ]
    },
    {
     "name": "stderr",
     "output_type": "stream",
     "text": [
      "313it [00:27, 11.39it/s]\n"
     ]
    },
    {
     "name": "stdout",
     "output_type": "stream",
     "text": [
      "tensor(-12.2360, grad_fn=<AddBackward0>)\n"
     ]
    },
    {
     "name": "stderr",
     "output_type": "stream",
     "text": [
      "313it [00:30, 10.22it/s]\n"
     ]
    },
    {
     "name": "stdout",
     "output_type": "stream",
     "text": [
      "tensor(-0.0612, grad_fn=<AddBackward0>)\n"
     ]
    },
    {
     "name": "stderr",
     "output_type": "stream",
     "text": [
      "313it [00:27, 11.54it/s]\n"
     ]
    },
    {
     "name": "stdout",
     "output_type": "stream",
     "text": [
      "tensor(44.6520, grad_fn=<AddBackward0>)\n"
     ]
    },
    {
     "name": "stderr",
     "output_type": "stream",
     "text": [
      "313it [00:26, 11.84it/s]\n"
     ]
    },
    {
     "name": "stdout",
     "output_type": "stream",
     "text": [
      "tensor(-42.9426, grad_fn=<AddBackward0>)\n"
     ]
    },
    {
     "name": "stderr",
     "output_type": "stream",
     "text": [
      "313it [00:28, 10.97it/s]\n"
     ]
    },
    {
     "name": "stdout",
     "output_type": "stream",
     "text": [
      "tensor(-1.6020, grad_fn=<AddBackward0>)\n"
     ]
    },
    {
     "name": "stderr",
     "output_type": "stream",
     "text": [
      "313it [00:28, 10.81it/s]\n"
     ]
    },
    {
     "name": "stdout",
     "output_type": "stream",
     "text": [
      "tensor(20.6905, grad_fn=<AddBackward0>)\n"
     ]
    },
    {
     "name": "stderr",
     "output_type": "stream",
     "text": [
      "313it [00:30, 10.33it/s]\n"
     ]
    },
    {
     "name": "stdout",
     "output_type": "stream",
     "text": [
      "tensor(-34.1403, grad_fn=<AddBackward0>)\n"
     ]
    },
    {
     "name": "stderr",
     "output_type": "stream",
     "text": [
      "313it [00:26, 11.65it/s]\n"
     ]
    },
    {
     "name": "stdout",
     "output_type": "stream",
     "text": [
      "tensor(26.9239, grad_fn=<AddBackward0>)\n"
     ]
    },
    {
     "name": "stderr",
     "output_type": "stream",
     "text": [
      "313it [00:26, 11.87it/s]"
     ]
    },
    {
     "name": "stdout",
     "output_type": "stream",
     "text": [
      "tensor(10.1084, grad_fn=<AddBackward0>)\n"
     ]
    },
    {
     "name": "stderr",
     "output_type": "stream",
     "text": [
      "\n"
     ]
    }
   ],
   "source": [
    "from tqdm import tqdm\n",
    "from tensorboardX import SummaryWriter\n",
    "\n",
    "\n",
    "EPOCHS=50\n",
    "one_d_lnp.train()\n",
    "optim = torch.optim.Adam(one_d_lnp.parameters(), lr = 1e-3)\n",
    "writer = SummaryWriter()\n",
    "\n",
    "global_step = 0\n",
    "\n",
    "\n",
    "for epoch in range(EPOCHS):\n",
    "    loader = torch.utils.data.DataLoader(test_one_d_datasets, batch_size=32, shuffle=True)\n",
    "    for i, batch in tqdm(enumerate(loader)):\n",
    "        \n",
    "        global_step+=1\n",
    "        (((x_context, y_context), x_target), y_target) = context_target_splitter(batch, min_context, max_context, len_seq,1,1)\n",
    "        #adjust_learning_rate(optim, global_step)\n",
    "        \n",
    "        y_pred_mu,y_pred_var, loss = one_d_lnp(x_context, y_context, x_target, y_target)\n",
    "\n",
    "        optim.zero_grad()\n",
    "        loss.backward()\n",
    "        optim.step()\n",
    "\n",
    "        writer.add_scalars('training_loss',{\n",
    "                    'loss':loss,\n",
    "                }, global_step)\n",
    "\n",
    "    print(loss)"
   ]
  },
  {
   "cell_type": "code",
   "execution_count": 31,
   "id": "0fc0eed2-b45b-42d0-ba2e-463e1249a1fa",
   "metadata": {},
   "outputs": [
    {
     "name": "stderr",
     "output_type": "stream",
     "text": [
      "0it [00:00, ?it/s]\n"
     ]
    }
   ],
   "source": [
    "for i, batch in tqdm(enumerate(dloader)):\n",
    "        \n",
    "    #global_step+=1\n",
    "    (((x_context, y_context), x_target), y_target) = context_target_splitter(batch, min_context, max_context, len_seq,1,1)\n",
    "    break"
   ]
  },
  {
   "cell_type": "code",
   "execution_count": 32,
   "id": "21ec4ca0-978b-4f09-8bd4-529c8120d652",
   "metadata": {},
   "outputs": [],
   "source": [
    "mu, var, likelihood = one_d_lnp(x_context, y_context, x_target, y_target)"
   ]
  },
  {
   "cell_type": "code",
   "execution_count": 33,
   "id": "deb9942e-5a22-4579-b20c-26ea01d86b7c",
   "metadata": {},
   "outputs": [],
   "source": [
    "X, Y =batch"
   ]
  },
  {
   "cell_type": "code",
   "execution_count": 34,
   "id": "fef0f4f7-419e-4656-8b33-c77110a741fe",
   "metadata": {},
   "outputs": [
    {
     "data": {
      "text/plain": [
       "<matplotlib.collections.PathCollection at 0x1496bda50>"
      ]
     },
     "execution_count": 34,
     "metadata": {},
     "output_type": "execute_result"
    },
    {
     "data": {
      "image/png": "[encoded data removed]",
      "text/plain": [
       "<Figure size 640x480 with 1 Axes>"
      ]
     },
     "metadata": {},
     "output_type": "display_data"
    }
   ],
   "source": [
    "plt.plot(X[20], Y[20])\n",
    "plt.scatter(x_context[20], y_context[20])\n",
    "\n",
    "plt.scatter(x_target[20], mu.detach().numpy()[20])\n",
    "plt.scatter(x_target[20].squeeze(), (mu.detach().numpy()[20]-var.detach().numpy()[20]).reshape(128,))\n",
    "plt.scatter(x_target[20], (mu.detach().numpy()[20]+var.detach().numpy()[20]).reshape(128,))"
   ]
  },
  {
   "cell_type": "code",
   "execution_count": 37,
   "id": "56cbd2b1-00a8-4f04-8d63-7242c2c57516",
   "metadata": {},
   "outputs": [
    {
     "data": {
      "text/plain": [
       "<matplotlib.collections.PathCollection at 0x1498a8550>"
      ]
     },
     "execution_count": 37,
     "metadata": {},
     "output_type": "execute_result"
    },
    {
     "data": {
      "image/png": "[encoded data removed]",
      "text/plain": [
       "<Figure size 640x480 with 1 Axes>"
      ]
     },
     "metadata": {},
     "output_type": "display_data"
    }
   ],
   "source": [
    "plt.plot(X[10], Y[10])\n",
    "plt.scatter(x_context[10], y_context[10])\n",
    "\n",
    "#plt.scatter(x_target[10], mu.detach().numpy()[10])\n",
    "#plt.scatter(x_target[10].squeeze(), (mu.detach().numpy()[10]-var.detach().numpy()[10]).reshape(128,))\n",
    "#plt.scatter(x_target[10], (mu.detach().numpy()[10]+var.detach().numpy()[10]).reshape(128,))"
   ]
  },
  {
   "cell_type": "code",
   "execution_count": 36,
   "id": "50b2b7a5-36ac-47a0-a794-65ba084bc851",
   "metadata": {},
   "outputs": [
    {
     "data": {
      "text/plain": [
       "torch.Size([32, 30, 1])"
      ]
     },
     "execution_count": 36,
     "metadata": {},
     "output_type": "execute_result"
    }
   ],
   "source": [
    "x_context.shape"
   ]
  },
  {
   "cell_type": "code",
   "execution_count": 38,
   "id": "3412b737-bd7a-4722-940e-ad53805e0641",
   "metadata": {},
   "outputs": [
    {
     "data": {
      "text/plain": [
       "<matplotlib.collections.PathCollection at 0x1498f6b50>"
      ]
     },
     "execution_count": 38,
     "metadata": {},
     "output_type": "execute_result"
    },
    {
     "data": {
      "image/png": "[encoded data removed]",
      "text/plain": [
       "<Figure size 640x480 with 1 Axes>"
      ]
     },
     "metadata": {},
     "output_type": "display_data"
    }
   ],
   "source": [
    "plt.plot(X[10], Y[10])\n",
    "plt.scatter(x_context[10], y_context[10])\n",
    "\n",
    "plt.scatter(x_target[10], mu.detach().numpy()[10])\n",
    "plt.scatter(x_target[10].squeeze(), (mu.detach().numpy()[10]-var.detach().numpy()[10]).reshape(128,))\n",
    "plt.scatter(x_target[10], (mu.detach().numpy()[10]+var.detach().numpy()[10]).reshape(128,))"
   ]
  },
  {
   "cell_type": "code",
   "execution_count": 39,
   "id": "d8ac5ddd-9268-4f91-b197-efe5eb5f98e4",
   "metadata": {},
   "outputs": [
    {
     "data": {
      "text/plain": [
       "<matplotlib.collections.PathCollection at 0x149969a10>"
      ]
     },
     "execution_count": 39,
     "metadata": {},
     "output_type": "execute_result"
    },
    {
     "data": {
      "image/png": "[encoded data removed]",
      "text/plain": [
       "<Figure size 640x480 with 1 Axes>"
      ]
     },
     "metadata": {},
     "output_type": "display_data"
    }
   ],
   "source": [
    "plt.plot(X[1], Y[1])\n",
    "plt.scatter(x_context[1], y_context[1])\n",
    "\n",
    "plt.scatter(x_target[1], mu.detach().numpy()[1])\n",
    "plt.scatter(x_target[1].squeeze(), (mu.detach().numpy()[1]-var.detach().numpy()[1]).reshape(128,))\n",
    "plt.scatter(x_target[1], (mu.detach().numpy()[1]+var.detach().numpy()[1]).reshape(128,))"
   ]
  },
  {
   "cell_type": "code",
   "execution_count": 40,
   "id": "0351eaf3-60d7-4161-b27c-829ff0004632",
   "metadata": {},
   "outputs": [
    {
     "data": {
      "text/plain": [
       "<matplotlib.collections.PathCollection at 0x149a25310>"
      ]
     },
     "execution_count": 40,
     "metadata": {},
     "output_type": "execute_result"
    },
    {
     "data": {
      "image/png": "[encoded data removed]",
      "text/plain": [
       "<Figure size 640x480 with 1 Axes>"
      ]
     },
     "metadata": {},
     "output_type": "display_data"
    }
   ],
   "source": [
    "plt.plot(X[0], Y[0])\n",
    "plt.scatter(x_context[0], y_context[0])\n",
    "\n",
    "plt.scatter(x_target[0], mu.detach().numpy()[0])\n",
    "plt.scatter(x_target[0].squeeze(), (mu.detach().numpy()[0]-var.detach().numpy()[0]).reshape(128,))\n",
    "plt.scatter(x_target[0], (mu.detach().numpy()[0]+var.detach().numpy()[0]).reshape(128,))"
   ]
  },
  {
   "cell_type": "code",
   "execution_count": 42,
   "id": "da87a75c-e256-49ef-b9bb-d38d88c12c5a",
   "metadata": {},
   "outputs": [
    {
     "data": {
      "text/plain": [
       "<matplotlib.collections.PathCollection at 0x149b38210>"
      ]
     },
     "execution_count": 42,
     "metadata": {},
     "output_type": "execute_result"
    },
    {
     "data": {
      "image/png": "[encoded data removed]",
      "text/plain": [
       "<Figure size 640x480 with 1 Axes>"
      ]
     },
     "metadata": {},
     "output_type": "display_data"
    }
   ],
   "source": [
    "plt.plot(X[3], Y[3])\n",
    "plt.scatter(x_context[3], y_context[3])\n",
    "\n",
    "plt.scatter(x_target[3], mu.detach().numpy()[3])\n",
    "plt.scatter(x_target[3], (mu.detach().numpy()[3]-var.detach().numpy()[3]).reshape(128,))\n",
    "plt.scatter(x_target[3], (mu.detach().numpy()[3]+var.detach().numpy()[3]).reshape(128,))"
   ]
  },
  {
   "cell_type": "code",
   "execution_count": null,
   "id": "70a4780c-e013-40c2-af31-9eb96dd1414d",
   "metadata": {},
   "outputs": [],
   "source": []
  }
 ],
 "metadata": {
  "kernelspec": {
   "display_name": "Python 3 (ipykernel)",
   "language": "python",
   "name": "python3"
  },
  "language_info": {
   "codemirror_mode": {
    "name": "ipython",
    "version": 3
   },
   "file_extension": ".py",
   "mimetype": "text/x-python",
   "name": "python",
   "nbconvert_exporter": "python",
   "pygments_lexer": "ipython3",
   "version": "3.11.3"
  }
 },
 "nbformat": 4,
 "nbformat_minor": 5
}
